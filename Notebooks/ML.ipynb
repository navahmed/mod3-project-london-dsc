{
 "cells": [
  {
   "cell_type": "code",
   "execution_count": 160,
   "metadata": {},
   "outputs": [],
   "source": [
    "import pandas as pd"
   ]
  },
  {
   "cell_type": "code",
   "execution_count": 161,
   "metadata": {},
   "outputs": [
    {
     "name": "stderr",
     "output_type": "stream",
     "text": [
      "//anaconda3/lib/python3.7/site-packages/IPython/core/interactiveshell.py:3057: DtypeWarning: Columns (7) have mixed types.Specify dtype option on import or set low_memory=False.\n",
      "  interactivity=interactivity, compiler=compiler, result=result)\n"
     ]
    }
   ],
   "source": [
    "df = pd.read_csv('Terry_cleaned.csv')"
   ]
  },
  {
   "cell_type": "code",
   "execution_count": 162,
   "metadata": {},
   "outputs": [
    {
     "data": {
      "text/html": [
       "<div>\n",
       "<style scoped>\n",
       "    .dataframe tbody tr th:only-of-type {\n",
       "        vertical-align: middle;\n",
       "    }\n",
       "\n",
       "    .dataframe tbody tr th {\n",
       "        vertical-align: top;\n",
       "    }\n",
       "\n",
       "    .dataframe thead th {\n",
       "        text-align: right;\n",
       "    }\n",
       "</style>\n",
       "<table border=\"1\" class=\"dataframe\">\n",
       "  <thead>\n",
       "    <tr style=\"text-align: right;\">\n",
       "      <th></th>\n",
       "      <th>Unnamed: 0</th>\n",
       "      <th>Unnamed: 0.1</th>\n",
       "      <th>Subject_ID</th>\n",
       "      <th>GO_/_SC_Num</th>\n",
       "      <th>Terry_Stop_ID</th>\n",
       "      <th>Stop_Resolution</th>\n",
       "      <th>Weapon_Type</th>\n",
       "      <th>Officer_ID</th>\n",
       "      <th>Officer_YOB</th>\n",
       "      <th>Officer_Gender</th>\n",
       "      <th>...</th>\n",
       "      <th>Beat</th>\n",
       "      <th>Arrested</th>\n",
       "      <th>Weapon_Found</th>\n",
       "      <th>Subject_Age_Group</th>\n",
       "      <th>Officer_Race</th>\n",
       "      <th>Subject_Perceived_Race</th>\n",
       "      <th>Officer_Age</th>\n",
       "      <th>Year</th>\n",
       "      <th>Month</th>\n",
       "      <th>Officer_Age_Group</th>\n",
       "    </tr>\n",
       "  </thead>\n",
       "  <tbody>\n",
       "    <tr>\n",
       "      <th>0</th>\n",
       "      <td>0</td>\n",
       "      <td>1</td>\n",
       "      <td>-1</td>\n",
       "      <td>20150000130727</td>\n",
       "      <td>80117</td>\n",
       "      <td>Arrest</td>\n",
       "      <td>None</td>\n",
       "      <td>7557</td>\n",
       "      <td>1985</td>\n",
       "      <td>1</td>\n",
       "      <td>...</td>\n",
       "      <td>L3</td>\n",
       "      <td>1.0</td>\n",
       "      <td>0.0</td>\n",
       "      <td>36 - 45</td>\n",
       "      <td>White</td>\n",
       "      <td>Other</td>\n",
       "      <td>30</td>\n",
       "      <td>2015</td>\n",
       "      <td>9</td>\n",
       "      <td>30-39</td>\n",
       "    </tr>\n",
       "    <tr>\n",
       "      <th>1</th>\n",
       "      <td>1</td>\n",
       "      <td>2</td>\n",
       "      <td>-1</td>\n",
       "      <td>20150000405361</td>\n",
       "      <td>102566</td>\n",
       "      <td>Field Contact</td>\n",
       "      <td>None</td>\n",
       "      <td>6954</td>\n",
       "      <td>1974</td>\n",
       "      <td>1</td>\n",
       "      <td>...</td>\n",
       "      <td>G3</td>\n",
       "      <td>0.0</td>\n",
       "      <td>0.0</td>\n",
       "      <td>36 - 45</td>\n",
       "      <td>Asian</td>\n",
       "      <td>Multi-Racial</td>\n",
       "      <td>41</td>\n",
       "      <td>2015</td>\n",
       "      <td>11</td>\n",
       "      <td>40-49</td>\n",
       "    </tr>\n",
       "    <tr>\n",
       "      <th>2</th>\n",
       "      <td>2</td>\n",
       "      <td>3</td>\n",
       "      <td>-1</td>\n",
       "      <td>20140000120677</td>\n",
       "      <td>92317</td>\n",
       "      <td>Arrest</td>\n",
       "      <td>None</td>\n",
       "      <td>7500</td>\n",
       "      <td>1984</td>\n",
       "      <td>1</td>\n",
       "      <td>...</td>\n",
       "      <td>O2</td>\n",
       "      <td>1.0</td>\n",
       "      <td>0.0</td>\n",
       "      <td>36 - 45</td>\n",
       "      <td>Black or African American</td>\n",
       "      <td>Asian</td>\n",
       "      <td>31</td>\n",
       "      <td>2015</td>\n",
       "      <td>10</td>\n",
       "      <td>30-39</td>\n",
       "    </tr>\n",
       "    <tr>\n",
       "      <th>3</th>\n",
       "      <td>3</td>\n",
       "      <td>16</td>\n",
       "      <td>-1</td>\n",
       "      <td>20150000004043</td>\n",
       "      <td>70892</td>\n",
       "      <td>Field Contact</td>\n",
       "      <td>None</td>\n",
       "      <td>7582</td>\n",
       "      <td>1966</td>\n",
       "      <td>1</td>\n",
       "      <td>...</td>\n",
       "      <td>G2</td>\n",
       "      <td>0.0</td>\n",
       "      <td>0.0</td>\n",
       "      <td>26 - 35</td>\n",
       "      <td>Hispanic or Latino</td>\n",
       "      <td>Multi-Racial</td>\n",
       "      <td>49</td>\n",
       "      <td>2015</td>\n",
       "      <td>8</td>\n",
       "      <td>40-49</td>\n",
       "    </tr>\n",
       "    <tr>\n",
       "      <th>4</th>\n",
       "      <td>4</td>\n",
       "      <td>19</td>\n",
       "      <td>-1</td>\n",
       "      <td>20150000004385</td>\n",
       "      <td>76734</td>\n",
       "      <td>Field Contact</td>\n",
       "      <td>None</td>\n",
       "      <td>6759</td>\n",
       "      <td>1970</td>\n",
       "      <td>1</td>\n",
       "      <td>...</td>\n",
       "      <td>N2</td>\n",
       "      <td>0.0</td>\n",
       "      <td>0.0</td>\n",
       "      <td>18 - 25</td>\n",
       "      <td>Black or African American</td>\n",
       "      <td>Native Hawaiian or Other Pacific Islander</td>\n",
       "      <td>45</td>\n",
       "      <td>2015</td>\n",
       "      <td>8</td>\n",
       "      <td>40-49</td>\n",
       "    </tr>\n",
       "  </tbody>\n",
       "</table>\n",
       "<p>5 rows × 31 columns</p>\n",
       "</div>"
      ],
      "text/plain": [
       "   Unnamed: 0  Unnamed: 0.1  Subject_ID     GO_/_SC_Num  Terry_Stop_ID  \\\n",
       "0           0             1          -1  20150000130727          80117   \n",
       "1           1             2          -1  20150000405361         102566   \n",
       "2           2             3          -1  20140000120677          92317   \n",
       "3           3            16          -1  20150000004043          70892   \n",
       "4           4            19          -1  20150000004385          76734   \n",
       "\n",
       "  Stop_Resolution Weapon_Type Officer_ID  Officer_YOB  Officer_Gender  ...  \\\n",
       "0          Arrest        None     7557           1985               1  ...   \n",
       "1   Field Contact        None     6954           1974               1  ...   \n",
       "2          Arrest        None     7500           1984               1  ...   \n",
       "3   Field Contact        None     7582           1966               1  ...   \n",
       "4   Field Contact        None     6759           1970               1  ...   \n",
       "\n",
       "   Beat Arrested Weapon_Found Subject_Age_Group               Officer_Race  \\\n",
       "0    L3      1.0          0.0           36 - 45                      White   \n",
       "1    G3      0.0          0.0           36 - 45                      Asian   \n",
       "2    O2      1.0          0.0           36 - 45  Black or African American   \n",
       "3    G2      0.0          0.0           26 - 35         Hispanic or Latino   \n",
       "4    N2      0.0          0.0           18 - 25  Black or African American   \n",
       "\n",
       "                      Subject_Perceived_Race Officer_Age  Year  Month  \\\n",
       "0                                      Other          30  2015      9   \n",
       "1                               Multi-Racial          41  2015     11   \n",
       "2                                      Asian          31  2015     10   \n",
       "3                               Multi-Racial          49  2015      8   \n",
       "4  Native Hawaiian or Other Pacific Islander          45  2015      8   \n",
       "\n",
       "  Officer_Age_Group  \n",
       "0             30-39  \n",
       "1             40-49  \n",
       "2             30-39  \n",
       "3             40-49  \n",
       "4             40-49  \n",
       "\n",
       "[5 rows x 31 columns]"
      ]
     },
     "execution_count": 162,
     "metadata": {},
     "output_type": "execute_result"
    }
   ],
   "source": [
    "df.head()"
   ]
  },
  {
   "cell_type": "code",
   "execution_count": 163,
   "metadata": {},
   "outputs": [
    {
     "data": {
      "text/plain": [
       "West         11647\n",
       "North        11430\n",
       "East          6596\n",
       "South         6119\n",
       "SouthWest     3834\n",
       "OTHER         1231\n",
       "Name: Precinct, dtype: int64"
      ]
     },
     "execution_count": 163,
     "metadata": {},
     "output_type": "execute_result"
    }
   ],
   "source": [
    "df['Precinct'].value_counts()"
   ]
  },
  {
   "cell_type": "code",
   "execution_count": 164,
   "metadata": {},
   "outputs": [
    {
     "data": {
      "text/plain": [
       "Index(['Unnamed: 0', 'Unnamed: 0.1', 'Subject_ID', 'GO_/_SC_Num',\n",
       "       'Terry_Stop_ID', 'Stop_Resolution', 'Weapon_Type', 'Officer_ID',\n",
       "       'Officer_YOB', 'Officer_Gender', 'Subject_Perceived_Gender',\n",
       "       'Reported_Date', 'Reported_Time', 'Initial_Call_Type',\n",
       "       'Final_Call_Type', 'Call_Type', 'Officer_Squad', 'Arrest_Flag',\n",
       "       'Frisk_Flag', 'Precinct', 'Sector', 'Beat', 'Arrested', 'Weapon_Found',\n",
       "       'Subject_Age_Group', 'Officer_Race', 'Subject_Perceived_Race',\n",
       "       'Officer_Age', 'Year', 'Month', 'Officer_Age_Group'],\n",
       "      dtype='object')"
      ]
     },
     "execution_count": 164,
     "metadata": {},
     "output_type": "execute_result"
    }
   ],
   "source": [
    "df.columns"
   ]
  },
  {
   "cell_type": "markdown",
   "metadata": {},
   "source": [
    "To begin with, we will look to drop the columns that we do not think is relevant to our model. This would be the following - \n",
    "\n",
    "'Unnamed: 0', \n",
    "\n",
    "'Unnamed: 0.1',\n",
    "\n",
    "'Subject_ID', \n",
    "\n",
    "'GO_/_SC_Num',\n",
    "\n",
    "'Terry_Stop_ID', \n",
    "\n",
    "'Stop_Resolution', \n",
    "\n",
    "'Weapon_Type',\n",
    "\n",
    "'Officer_ID',\n",
    "\n",
    "'Officer_YOB',\n",
    "\n",
    "'Reported_Date'\n",
    "\n",
    "'Initial_Call_Type',\n",
    "\n",
    "'Final_Call_Type',\n",
    "\n",
    "'Call_Type', \n",
    "\n",
    "'Officer_Squad', \n",
    "\n",
    "'Arrest_Flag',\n",
    "\n",
    "'Sector',\n",
    "\n",
    "'Beat', \n",
    "\n",
    "'Officer_Age'"
   ]
  },
  {
   "cell_type": "code",
   "execution_count": 165,
   "metadata": {},
   "outputs": [],
   "source": [
    "df.drop(['Unnamed: 0', \n",
    "'Unnamed: 0.1',\n",
    "'Subject_ID', \n",
    "'GO_/_SC_Num',\n",
    "'Terry_Stop_ID', \n",
    "'Stop_Resolution', \n",
    "'Weapon_Found',\n",
    "'Officer_ID',\n",
    "'Officer_YOB',\n",
    "'Reported_Date',\n",
    "'Initial_Call_Type',\n",
    "'Final_Call_Type',\n",
    "'Call_Type', \n",
    "'Officer_Squad', \n",
    "'Arrest_Flag',\n",
    "'Sector',\n",
    "'Beat', \n",
    "'Officer_Age'], axis=1,inplace=True)"
   ]
  },
  {
   "cell_type": "code",
   "execution_count": 98,
   "metadata": {},
   "outputs": [],
   "source": [
    "import matplotlib.pyplot as plt\n",
    "%matplotlib inline"
   ]
  },
  {
   "cell_type": "code",
   "execution_count": 166,
   "metadata": {},
   "outputs": [
    {
     "data": {
      "text/plain": [
       "Index(['Weapon_Type', 'Officer_Gender', 'Subject_Perceived_Gender',\n",
       "       'Reported_Time', 'Frisk_Flag', 'Precinct', 'Arrested',\n",
       "       'Subject_Age_Group', 'Officer_Race', 'Subject_Perceived_Race', 'Year',\n",
       "       'Month', 'Officer_Age_Group'],\n",
       "      dtype='object')"
      ]
     },
     "execution_count": 166,
     "metadata": {},
     "output_type": "execute_result"
    }
   ],
   "source": [
    "df.columns"
   ]
  },
  {
   "cell_type": "code",
   "execution_count": 167,
   "metadata": {},
   "outputs": [],
   "source": [
    "X = df.drop(columns='Arrested')"
   ]
  },
  {
   "cell_type": "code",
   "execution_count": 168,
   "metadata": {},
   "outputs": [],
   "source": [
    "y = df['Arrested']"
   ]
  },
  {
   "cell_type": "code",
   "execution_count": 169,
   "metadata": {},
   "outputs": [
    {
     "data": {
      "text/html": [
       "<div>\n",
       "<style scoped>\n",
       "    .dataframe tbody tr th:only-of-type {\n",
       "        vertical-align: middle;\n",
       "    }\n",
       "\n",
       "    .dataframe tbody tr th {\n",
       "        vertical-align: top;\n",
       "    }\n",
       "\n",
       "    .dataframe thead th {\n",
       "        text-align: right;\n",
       "    }\n",
       "</style>\n",
       "<table border=\"1\" class=\"dataframe\">\n",
       "  <thead>\n",
       "    <tr style=\"text-align: right;\">\n",
       "      <th></th>\n",
       "      <th>Weapon_Type</th>\n",
       "      <th>Officer_Gender</th>\n",
       "      <th>Subject_Perceived_Gender</th>\n",
       "      <th>Reported_Time</th>\n",
       "      <th>Frisk_Flag</th>\n",
       "      <th>Precinct</th>\n",
       "      <th>Subject_Age_Group</th>\n",
       "      <th>Officer_Race</th>\n",
       "      <th>Subject_Perceived_Race</th>\n",
       "      <th>Year</th>\n",
       "      <th>Month</th>\n",
       "      <th>Officer_Age_Group</th>\n",
       "    </tr>\n",
       "  </thead>\n",
       "  <tbody>\n",
       "    <tr>\n",
       "      <th>0</th>\n",
       "      <td>None</td>\n",
       "      <td>1</td>\n",
       "      <td>1</td>\n",
       "      <td>15:34:00</td>\n",
       "      <td>0</td>\n",
       "      <td>North</td>\n",
       "      <td>36 - 45</td>\n",
       "      <td>White</td>\n",
       "      <td>Other</td>\n",
       "      <td>2015</td>\n",
       "      <td>9</td>\n",
       "      <td>30-39</td>\n",
       "    </tr>\n",
       "    <tr>\n",
       "      <th>1</th>\n",
       "      <td>None</td>\n",
       "      <td>1</td>\n",
       "      <td>1</td>\n",
       "      <td>00:49:00</td>\n",
       "      <td>1</td>\n",
       "      <td>East</td>\n",
       "      <td>36 - 45</td>\n",
       "      <td>Asian</td>\n",
       "      <td>Multi-Racial</td>\n",
       "      <td>2015</td>\n",
       "      <td>11</td>\n",
       "      <td>40-49</td>\n",
       "    </tr>\n",
       "    <tr>\n",
       "      <th>2</th>\n",
       "      <td>None</td>\n",
       "      <td>1</td>\n",
       "      <td>1</td>\n",
       "      <td>11:32:00</td>\n",
       "      <td>0</td>\n",
       "      <td>South</td>\n",
       "      <td>36 - 45</td>\n",
       "      <td>Black or African American</td>\n",
       "      <td>Asian</td>\n",
       "      <td>2015</td>\n",
       "      <td>10</td>\n",
       "      <td>30-39</td>\n",
       "    </tr>\n",
       "    <tr>\n",
       "      <th>3</th>\n",
       "      <td>None</td>\n",
       "      <td>1</td>\n",
       "      <td>0</td>\n",
       "      <td>09:08:00</td>\n",
       "      <td>0</td>\n",
       "      <td>East</td>\n",
       "      <td>26 - 35</td>\n",
       "      <td>Hispanic or Latino</td>\n",
       "      <td>Multi-Racial</td>\n",
       "      <td>2015</td>\n",
       "      <td>8</td>\n",
       "      <td>40-49</td>\n",
       "    </tr>\n",
       "    <tr>\n",
       "      <th>4</th>\n",
       "      <td>None</td>\n",
       "      <td>1</td>\n",
       "      <td>1</td>\n",
       "      <td>07:05:00</td>\n",
       "      <td>0</td>\n",
       "      <td>North</td>\n",
       "      <td>18 - 25</td>\n",
       "      <td>Black or African American</td>\n",
       "      <td>Native Hawaiian or Other Pacific Islander</td>\n",
       "      <td>2015</td>\n",
       "      <td>8</td>\n",
       "      <td>40-49</td>\n",
       "    </tr>\n",
       "  </tbody>\n",
       "</table>\n",
       "</div>"
      ],
      "text/plain": [
       "  Weapon_Type  Officer_Gender  Subject_Perceived_Gender Reported_Time  \\\n",
       "0        None               1                         1      15:34:00   \n",
       "1        None               1                         1      00:49:00   \n",
       "2        None               1                         1      11:32:00   \n",
       "3        None               1                         0      09:08:00   \n",
       "4        None               1                         1      07:05:00   \n",
       "\n",
       "   Frisk_Flag Precinct Subject_Age_Group               Officer_Race  \\\n",
       "0           0    North           36 - 45                      White   \n",
       "1           1     East           36 - 45                      Asian   \n",
       "2           0    South           36 - 45  Black or African American   \n",
       "3           0     East           26 - 35         Hispanic or Latino   \n",
       "4           0    North           18 - 25  Black or African American   \n",
       "\n",
       "                      Subject_Perceived_Race  Year  Month Officer_Age_Group  \n",
       "0                                      Other  2015      9             30-39  \n",
       "1                               Multi-Racial  2015     11             40-49  \n",
       "2                                      Asian  2015     10             30-39  \n",
       "3                               Multi-Racial  2015      8             40-49  \n",
       "4  Native Hawaiian or Other Pacific Islander  2015      8             40-49  "
      ]
     },
     "execution_count": 169,
     "metadata": {},
     "output_type": "execute_result"
    }
   ],
   "source": [
    "X.head()"
   ]
  },
  {
   "cell_type": "code",
   "execution_count": 170,
   "metadata": {},
   "outputs": [
    {
     "data": {
      "text/plain": [
       "Index(['Weapon_Type', 'Officer_Gender', 'Subject_Perceived_Gender',\n",
       "       'Reported_Time', 'Frisk_Flag', 'Precinct', 'Subject_Age_Group',\n",
       "       'Officer_Race', 'Subject_Perceived_Race', 'Year', 'Month',\n",
       "       'Officer_Age_Group'],\n",
       "      dtype='object')"
      ]
     },
     "execution_count": 170,
     "metadata": {},
     "output_type": "execute_result"
    }
   ],
   "source": [
    "X.columns"
   ]
  },
  {
   "cell_type": "markdown",
   "metadata": {},
   "source": [
    "# One Hot Encoding Categorical Variables"
   ]
  },
  {
   "cell_type": "markdown",
   "metadata": {},
   "source": [
    "This section will look at creating dummy columns for our categorical data. We will be using One Hot Encoding from the sklearn libary in order to perform this."
   ]
  },
  {
   "cell_type": "code",
   "execution_count": 171,
   "metadata": {},
   "outputs": [
    {
     "name": "stdout",
     "output_type": "stream",
     "text": [
      "Weapon_Type : \n",
      "None                   38567\n",
      "Stabbing Instrument     1769\n",
      "Firearm                  414\n",
      "Other                    107\n",
      "Name: Weapon_Type, dtype: int64\n",
      "\n",
      "Officer_Gender : \n",
      "1    36300\n",
      "0     4557\n",
      "Name: Officer_Gender, dtype: int64\n",
      "\n",
      "Subject_Perceived_Gender : \n",
      "1    32424\n",
      "0     8433\n",
      "Name: Subject_Perceived_Gender, dtype: int64\n",
      "\n",
      "Reported_Time : \n",
      "19:18:00    51\n",
      "03:13:00    50\n",
      "03:09:00    50\n",
      "02:56:00    50\n",
      "19:02:00    49\n",
      "            ..\n",
      "17:24:29     1\n",
      "17:25:48     1\n",
      "00:59:12     1\n",
      "10:47:14     1\n",
      "18:50:15     1\n",
      "Name: Reported_Time, Length: 7432, dtype: int64\n",
      "\n",
      "Frisk_Flag : \n",
      "0    31891\n",
      "1     8966\n",
      "Name: Frisk_Flag, dtype: int64\n",
      "\n",
      "Precinct : \n",
      "West         11647\n",
      "North        11430\n",
      "East          6596\n",
      "South         6119\n",
      "SouthWest     3834\n",
      "OTHER         1231\n",
      "Name: Precinct, dtype: int64\n",
      "\n",
      "Subject_Age_Group : \n",
      "26 - 35         13966\n",
      "36 - 45          9241\n",
      "18 - 25          8560\n",
      "46 - 55          5235\n",
      "56 and Above     1973\n",
      "1 - 17           1882\n",
      "Name: Subject_Age_Group, dtype: int64\n",
      "\n",
      "Officer_Race : \n",
      "White                            32128\n",
      "Two or More Races                 2523\n",
      "Hispanic or Latino                2247\n",
      "Black or African American         1667\n",
      "Asian                             1550\n",
      "Nat Hawaiian/Oth Pac Islander      424\n",
      "American Indian/Alaska Native      318\n",
      "Name: Officer_Race, dtype: int64\n",
      "\n",
      "Subject_Perceived_Race : \n",
      "White                                        20102\n",
      "Black or African American                    12763\n",
      "Other                                         1819\n",
      "Hispanic                                      1795\n",
      "Asian                                         1265\n",
      "American Indian or Alaska Native              1230\n",
      "Multi-Racial                                  1222\n",
      "Native Hawaiian or Other Pacific Islander      661\n",
      "Name: Subject_Perceived_Race, dtype: int64\n",
      "\n",
      "Year : \n",
      "2018    8883\n",
      "2019    7949\n",
      "2016    7715\n",
      "2017    7488\n",
      "2015    7059\n",
      "2020    1763\n",
      "Name: Year, dtype: int64\n",
      "\n",
      "Month : \n",
      "7     3885\n",
      "6     3853\n",
      "8     3798\n",
      "5     3794\n",
      "10    3491\n",
      "3     3439\n",
      "1     3325\n",
      "9     3304\n",
      "4     3092\n",
      "11    3088\n",
      "12    2897\n",
      "2     2891\n",
      "Name: Month, dtype: int64\n",
      "\n",
      "Officer_Age_Group : \n",
      "30-39    18679\n",
      "20-29    12036\n",
      "40-49     6866\n",
      "50-59     3060\n",
      "60+        216\n",
      "Name: Officer_Age_Group, dtype: int64\n",
      "\n"
     ]
    }
   ],
   "source": [
    "for x in list(X.columns):\n",
    "    print(f'{x} : \\n{X[x].value_counts()}\\n' )"
   ]
  },
  {
   "cell_type": "code",
   "execution_count": 106,
   "metadata": {},
   "outputs": [],
   "source": [
    "from sklearn.preprocessing import OneHotEncoder"
   ]
  },
  {
   "cell_type": "markdown",
   "metadata": {},
   "source": [
    "#### Columns which need to be One Hot Encoded:\n",
    "\n",
    "'Precinct',\n",
    "\n",
    "'Subject_Age_Group', \n",
    "\n",
    "'Officer_Race',\n",
    "\n",
    "'Subject_Perceived_Race',\n",
    "\n",
    "'Officer_Age_Group'\n",
    "\n",
    "'Weapon_Type'"
   ]
  },
  {
   "cell_type": "code",
   "execution_count": 172,
   "metadata": {},
   "outputs": [],
   "source": [
    "X_to_ohe = X[['Precinct',\n",
    "'Subject_Age_Group', \n",
    "'Officer_Race',\n",
    "'Subject_Perceived_Race',\n",
    "'Officer_Age_Group',\n",
    "'Weapon_Type']]"
   ]
  },
  {
   "cell_type": "code",
   "execution_count": 173,
   "metadata": {},
   "outputs": [],
   "source": [
    "ohe = OneHotEncoder(handle_unknown='ignore')\n",
    "X_ohe = ohe.fit_transform(X_to_ohe)"
   ]
  },
  {
   "cell_type": "code",
   "execution_count": 174,
   "metadata": {},
   "outputs": [],
   "source": [
    "columns = ohe.get_feature_names(input_features=X_to_ohe.columns)\n",
    "X_ohe_df = pd.DataFrame(X_ohe.todense(), columns=columns)"
   ]
  },
  {
   "cell_type": "code",
   "execution_count": 175,
   "metadata": {},
   "outputs": [
    {
     "data": {
      "text/html": [
       "<div>\n",
       "<style scoped>\n",
       "    .dataframe tbody tr th:only-of-type {\n",
       "        vertical-align: middle;\n",
       "    }\n",
       "\n",
       "    .dataframe tbody tr th {\n",
       "        vertical-align: top;\n",
       "    }\n",
       "\n",
       "    .dataframe thead th {\n",
       "        text-align: right;\n",
       "    }\n",
       "</style>\n",
       "<table border=\"1\" class=\"dataframe\">\n",
       "  <thead>\n",
       "    <tr style=\"text-align: right;\">\n",
       "      <th></th>\n",
       "      <th>Precinct_East</th>\n",
       "      <th>Precinct_North</th>\n",
       "      <th>Precinct_OTHER</th>\n",
       "      <th>Precinct_South</th>\n",
       "      <th>Precinct_SouthWest</th>\n",
       "      <th>Precinct_West</th>\n",
       "      <th>Subject_Age_Group_1 - 17</th>\n",
       "      <th>Subject_Age_Group_18 - 25</th>\n",
       "      <th>Subject_Age_Group_26 - 35</th>\n",
       "      <th>Subject_Age_Group_36 - 45</th>\n",
       "      <th>...</th>\n",
       "      <th>Subject_Perceived_Race_White</th>\n",
       "      <th>Officer_Age_Group_20-29</th>\n",
       "      <th>Officer_Age_Group_30-39</th>\n",
       "      <th>Officer_Age_Group_40-49</th>\n",
       "      <th>Officer_Age_Group_50-59</th>\n",
       "      <th>Officer_Age_Group_60+</th>\n",
       "      <th>Weapon_Type_Firearm</th>\n",
       "      <th>Weapon_Type_None</th>\n",
       "      <th>Weapon_Type_Other</th>\n",
       "      <th>Weapon_Type_Stabbing Instrument</th>\n",
       "    </tr>\n",
       "  </thead>\n",
       "  <tbody>\n",
       "    <tr>\n",
       "      <th>0</th>\n",
       "      <td>0.0</td>\n",
       "      <td>1.0</td>\n",
       "      <td>0.0</td>\n",
       "      <td>0.0</td>\n",
       "      <td>0.0</td>\n",
       "      <td>0.0</td>\n",
       "      <td>0.0</td>\n",
       "      <td>0.0</td>\n",
       "      <td>0.0</td>\n",
       "      <td>1.0</td>\n",
       "      <td>...</td>\n",
       "      <td>0.0</td>\n",
       "      <td>0.0</td>\n",
       "      <td>1.0</td>\n",
       "      <td>0.0</td>\n",
       "      <td>0.0</td>\n",
       "      <td>0.0</td>\n",
       "      <td>0.0</td>\n",
       "      <td>1.0</td>\n",
       "      <td>0.0</td>\n",
       "      <td>0.0</td>\n",
       "    </tr>\n",
       "    <tr>\n",
       "      <th>1</th>\n",
       "      <td>1.0</td>\n",
       "      <td>0.0</td>\n",
       "      <td>0.0</td>\n",
       "      <td>0.0</td>\n",
       "      <td>0.0</td>\n",
       "      <td>0.0</td>\n",
       "      <td>0.0</td>\n",
       "      <td>0.0</td>\n",
       "      <td>0.0</td>\n",
       "      <td>1.0</td>\n",
       "      <td>...</td>\n",
       "      <td>0.0</td>\n",
       "      <td>0.0</td>\n",
       "      <td>0.0</td>\n",
       "      <td>1.0</td>\n",
       "      <td>0.0</td>\n",
       "      <td>0.0</td>\n",
       "      <td>0.0</td>\n",
       "      <td>1.0</td>\n",
       "      <td>0.0</td>\n",
       "      <td>0.0</td>\n",
       "    </tr>\n",
       "    <tr>\n",
       "      <th>2</th>\n",
       "      <td>0.0</td>\n",
       "      <td>0.0</td>\n",
       "      <td>0.0</td>\n",
       "      <td>1.0</td>\n",
       "      <td>0.0</td>\n",
       "      <td>0.0</td>\n",
       "      <td>0.0</td>\n",
       "      <td>0.0</td>\n",
       "      <td>0.0</td>\n",
       "      <td>1.0</td>\n",
       "      <td>...</td>\n",
       "      <td>0.0</td>\n",
       "      <td>0.0</td>\n",
       "      <td>1.0</td>\n",
       "      <td>0.0</td>\n",
       "      <td>0.0</td>\n",
       "      <td>0.0</td>\n",
       "      <td>0.0</td>\n",
       "      <td>1.0</td>\n",
       "      <td>0.0</td>\n",
       "      <td>0.0</td>\n",
       "    </tr>\n",
       "    <tr>\n",
       "      <th>3</th>\n",
       "      <td>1.0</td>\n",
       "      <td>0.0</td>\n",
       "      <td>0.0</td>\n",
       "      <td>0.0</td>\n",
       "      <td>0.0</td>\n",
       "      <td>0.0</td>\n",
       "      <td>0.0</td>\n",
       "      <td>0.0</td>\n",
       "      <td>1.0</td>\n",
       "      <td>0.0</td>\n",
       "      <td>...</td>\n",
       "      <td>0.0</td>\n",
       "      <td>0.0</td>\n",
       "      <td>0.0</td>\n",
       "      <td>1.0</td>\n",
       "      <td>0.0</td>\n",
       "      <td>0.0</td>\n",
       "      <td>0.0</td>\n",
       "      <td>1.0</td>\n",
       "      <td>0.0</td>\n",
       "      <td>0.0</td>\n",
       "    </tr>\n",
       "    <tr>\n",
       "      <th>4</th>\n",
       "      <td>0.0</td>\n",
       "      <td>1.0</td>\n",
       "      <td>0.0</td>\n",
       "      <td>0.0</td>\n",
       "      <td>0.0</td>\n",
       "      <td>0.0</td>\n",
       "      <td>0.0</td>\n",
       "      <td>1.0</td>\n",
       "      <td>0.0</td>\n",
       "      <td>0.0</td>\n",
       "      <td>...</td>\n",
       "      <td>0.0</td>\n",
       "      <td>0.0</td>\n",
       "      <td>0.0</td>\n",
       "      <td>1.0</td>\n",
       "      <td>0.0</td>\n",
       "      <td>0.0</td>\n",
       "      <td>0.0</td>\n",
       "      <td>1.0</td>\n",
       "      <td>0.0</td>\n",
       "      <td>0.0</td>\n",
       "    </tr>\n",
       "  </tbody>\n",
       "</table>\n",
       "<p>5 rows × 36 columns</p>\n",
       "</div>"
      ],
      "text/plain": [
       "   Precinct_East  Precinct_North  Precinct_OTHER  Precinct_South  \\\n",
       "0            0.0             1.0             0.0             0.0   \n",
       "1            1.0             0.0             0.0             0.0   \n",
       "2            0.0             0.0             0.0             1.0   \n",
       "3            1.0             0.0             0.0             0.0   \n",
       "4            0.0             1.0             0.0             0.0   \n",
       "\n",
       "   Precinct_SouthWest  Precinct_West  Subject_Age_Group_1 - 17  \\\n",
       "0                 0.0            0.0                       0.0   \n",
       "1                 0.0            0.0                       0.0   \n",
       "2                 0.0            0.0                       0.0   \n",
       "3                 0.0            0.0                       0.0   \n",
       "4                 0.0            0.0                       0.0   \n",
       "\n",
       "   Subject_Age_Group_18 - 25  Subject_Age_Group_26 - 35  \\\n",
       "0                        0.0                        0.0   \n",
       "1                        0.0                        0.0   \n",
       "2                        0.0                        0.0   \n",
       "3                        0.0                        1.0   \n",
       "4                        1.0                        0.0   \n",
       "\n",
       "   Subject_Age_Group_36 - 45  ...  Subject_Perceived_Race_White  \\\n",
       "0                        1.0  ...                           0.0   \n",
       "1                        1.0  ...                           0.0   \n",
       "2                        1.0  ...                           0.0   \n",
       "3                        0.0  ...                           0.0   \n",
       "4                        0.0  ...                           0.0   \n",
       "\n",
       "   Officer_Age_Group_20-29  Officer_Age_Group_30-39  Officer_Age_Group_40-49  \\\n",
       "0                      0.0                      1.0                      0.0   \n",
       "1                      0.0                      0.0                      1.0   \n",
       "2                      0.0                      1.0                      0.0   \n",
       "3                      0.0                      0.0                      1.0   \n",
       "4                      0.0                      0.0                      1.0   \n",
       "\n",
       "   Officer_Age_Group_50-59  Officer_Age_Group_60+  Weapon_Type_Firearm  \\\n",
       "0                      0.0                    0.0                  0.0   \n",
       "1                      0.0                    0.0                  0.0   \n",
       "2                      0.0                    0.0                  0.0   \n",
       "3                      0.0                    0.0                  0.0   \n",
       "4                      0.0                    0.0                  0.0   \n",
       "\n",
       "   Weapon_Type_None  Weapon_Type_Other  Weapon_Type_Stabbing Instrument  \n",
       "0               1.0                0.0                              0.0  \n",
       "1               1.0                0.0                              0.0  \n",
       "2               1.0                0.0                              0.0  \n",
       "3               1.0                0.0                              0.0  \n",
       "4               1.0                0.0                              0.0  \n",
       "\n",
       "[5 rows x 36 columns]"
      ]
     },
     "execution_count": 175,
     "metadata": {},
     "output_type": "execute_result"
    }
   ],
   "source": [
    "X_ohe_df.head()"
   ]
  },
  {
   "cell_type": "code",
   "execution_count": 176,
   "metadata": {},
   "outputs": [
    {
     "data": {
      "text/plain": [
       "Index(['Precinct_East', 'Precinct_North', 'Precinct_OTHER', 'Precinct_South',\n",
       "       'Precinct_SouthWest', 'Precinct_West', 'Subject_Age_Group_1 - 17',\n",
       "       'Subject_Age_Group_18 - 25', 'Subject_Age_Group_26 - 35',\n",
       "       'Subject_Age_Group_36 - 45', 'Subject_Age_Group_46 - 55',\n",
       "       'Subject_Age_Group_56 and Above',\n",
       "       'Officer_Race_American Indian/Alaska Native', 'Officer_Race_Asian',\n",
       "       'Officer_Race_Black or African American',\n",
       "       'Officer_Race_Hispanic or Latino',\n",
       "       'Officer_Race_Nat Hawaiian/Oth Pac Islander',\n",
       "       'Officer_Race_Two or More Races', 'Officer_Race_White',\n",
       "       'Subject_Perceived_Race_American Indian or Alaska Native',\n",
       "       'Subject_Perceived_Race_Asian',\n",
       "       'Subject_Perceived_Race_Black or African American',\n",
       "       'Subject_Perceived_Race_Hispanic',\n",
       "       'Subject_Perceived_Race_Multi-Racial',\n",
       "       'Subject_Perceived_Race_Native Hawaiian or Other Pacific Islander',\n",
       "       'Subject_Perceived_Race_Other', 'Subject_Perceived_Race_White',\n",
       "       'Officer_Age_Group_20-29', 'Officer_Age_Group_30-39',\n",
       "       'Officer_Age_Group_40-49', 'Officer_Age_Group_50-59',\n",
       "       'Officer_Age_Group_60+', 'Weapon_Type_Firearm', 'Weapon_Type_None',\n",
       "       'Weapon_Type_Other', 'Weapon_Type_Stabbing Instrument'],\n",
       "      dtype='object')"
      ]
     },
     "execution_count": 176,
     "metadata": {},
     "output_type": "execute_result"
    }
   ],
   "source": [
    "X_ohe_df.columns"
   ]
  },
  {
   "cell_type": "markdown",
   "metadata": {},
   "source": [
    "We will now drop 1 column from each of the columns from the resulting one hot encoding to prevent multicolinearity between the columns, We will drop the following:\n",
    "\n",
    "'Precinct_OTHER',\n",
    "\n",
    "'Subject_Age_Group_1 - 17',\n",
    "\n",
    "'Officer_Race_American Indian/Alaska Native',\n",
    "\n",
    "'Subject_Perceived_Race_American Indian or Alaska Native',\n",
    "\n",
    "'Officer_Age_Group_60+'"
   ]
  },
  {
   "cell_type": "code",
   "execution_count": 178,
   "metadata": {},
   "outputs": [],
   "source": [
    "X_ohe_df.drop(columns=['Precinct_OTHER',\n",
    "'Subject_Age_Group_1 - 17',\n",
    "'Officer_Race_American Indian/Alaska Native',\n",
    "'Subject_Perceived_Race_American Indian or Alaska Native',\n",
    "'Officer_Age_Group_60+','Weapon_Type_Other'] ,axis=1, inplace=True)"
   ]
  },
  {
   "cell_type": "code",
   "execution_count": null,
   "metadata": {},
   "outputs": [],
   "source": []
  },
  {
   "cell_type": "code",
   "execution_count": 179,
   "metadata": {},
   "outputs": [],
   "source": [
    "X_all = pd.concat([pd.DataFrame(X), X_ohe_df], axis=1)"
   ]
  },
  {
   "cell_type": "code",
   "execution_count": 180,
   "metadata": {},
   "outputs": [
    {
     "data": {
      "text/plain": [
       "Index(['Weapon_Type', 'Officer_Gender', 'Subject_Perceived_Gender',\n",
       "       'Reported_Time', 'Frisk_Flag', 'Precinct', 'Subject_Age_Group',\n",
       "       'Officer_Race', 'Subject_Perceived_Race', 'Year', 'Month',\n",
       "       'Officer_Age_Group', 'Precinct_East', 'Precinct_North',\n",
       "       'Precinct_South', 'Precinct_SouthWest', 'Precinct_West',\n",
       "       'Subject_Age_Group_18 - 25', 'Subject_Age_Group_26 - 35',\n",
       "       'Subject_Age_Group_36 - 45', 'Subject_Age_Group_46 - 55',\n",
       "       'Subject_Age_Group_56 and Above', 'Officer_Race_Asian',\n",
       "       'Officer_Race_Black or African American',\n",
       "       'Officer_Race_Hispanic or Latino',\n",
       "       'Officer_Race_Nat Hawaiian/Oth Pac Islander',\n",
       "       'Officer_Race_Two or More Races', 'Officer_Race_White',\n",
       "       'Subject_Perceived_Race_Asian',\n",
       "       'Subject_Perceived_Race_Black or African American',\n",
       "       'Subject_Perceived_Race_Hispanic',\n",
       "       'Subject_Perceived_Race_Multi-Racial',\n",
       "       'Subject_Perceived_Race_Native Hawaiian or Other Pacific Islander',\n",
       "       'Subject_Perceived_Race_Other', 'Subject_Perceived_Race_White',\n",
       "       'Officer_Age_Group_20-29', 'Officer_Age_Group_30-39',\n",
       "       'Officer_Age_Group_40-49', 'Officer_Age_Group_50-59',\n",
       "       'Weapon_Type_Firearm', 'Weapon_Type_None',\n",
       "       'Weapon_Type_Stabbing Instrument'],\n",
       "      dtype='object')"
      ]
     },
     "execution_count": 180,
     "metadata": {},
     "output_type": "execute_result"
    }
   ],
   "source": [
    "X_all.columns"
   ]
  },
  {
   "cell_type": "code",
   "execution_count": 181,
   "metadata": {},
   "outputs": [],
   "source": [
    "X_all.drop(columns=['Precinct','Subject_Age_Group', 'Officer_Race','Subject_Perceived_Race','Officer_Age_Group','Weapon_Type'],axis=1, inplace= True)"
   ]
  },
  {
   "cell_type": "code",
   "execution_count": 182,
   "metadata": {},
   "outputs": [
    {
     "data": {
      "text/plain": [
       "pandas.core.frame.DataFrame"
      ]
     },
     "execution_count": 182,
     "metadata": {},
     "output_type": "execute_result"
    }
   ],
   "source": [
    "type(X_all)"
   ]
  },
  {
   "cell_type": "code",
   "execution_count": 183,
   "metadata": {},
   "outputs": [
    {
     "data": {
      "text/plain": [
       "Index(['Officer_Gender', 'Subject_Perceived_Gender', 'Reported_Time',\n",
       "       'Frisk_Flag', 'Year', 'Month', 'Precinct_East', 'Precinct_North',\n",
       "       'Precinct_South', 'Precinct_SouthWest', 'Precinct_West',\n",
       "       'Subject_Age_Group_18 - 25', 'Subject_Age_Group_26 - 35',\n",
       "       'Subject_Age_Group_36 - 45', 'Subject_Age_Group_46 - 55',\n",
       "       'Subject_Age_Group_56 and Above', 'Officer_Race_Asian',\n",
       "       'Officer_Race_Black or African American',\n",
       "       'Officer_Race_Hispanic or Latino',\n",
       "       'Officer_Race_Nat Hawaiian/Oth Pac Islander',\n",
       "       'Officer_Race_Two or More Races', 'Officer_Race_White',\n",
       "       'Subject_Perceived_Race_Asian',\n",
       "       'Subject_Perceived_Race_Black or African American',\n",
       "       'Subject_Perceived_Race_Hispanic',\n",
       "       'Subject_Perceived_Race_Multi-Racial',\n",
       "       'Subject_Perceived_Race_Native Hawaiian or Other Pacific Islander',\n",
       "       'Subject_Perceived_Race_Other', 'Subject_Perceived_Race_White',\n",
       "       'Officer_Age_Group_20-29', 'Officer_Age_Group_30-39',\n",
       "       'Officer_Age_Group_40-49', 'Officer_Age_Group_50-59',\n",
       "       'Weapon_Type_Firearm', 'Weapon_Type_None',\n",
       "       'Weapon_Type_Stabbing Instrument'],\n",
       "      dtype='object')"
      ]
     },
     "execution_count": 183,
     "metadata": {},
     "output_type": "execute_result"
    }
   ],
   "source": [
    "X_all.columns"
   ]
  },
  {
   "cell_type": "markdown",
   "metadata": {},
   "source": [
    "## Train Test Validation Split"
   ]
  },
  {
   "cell_type": "markdown",
   "metadata": {},
   "source": [
    "In this section we will split our X and y data sets into training, test and validation sets."
   ]
  },
  {
   "cell_type": "code",
   "execution_count": 228,
   "metadata": {},
   "outputs": [],
   "source": [
    "from sklearn.model_selection import train_test_split"
   ]
  },
  {
   "cell_type": "markdown",
   "metadata": {},
   "source": [
    "### Train Test"
   ]
  },
  {
   "cell_type": "code",
   "execution_count": 185,
   "metadata": {},
   "outputs": [],
   "source": [
    "X_train, X_test, y_train, y_test = train_test_split(X_ohe_df,y, test_size=0.25)"
   ]
  },
  {
   "cell_type": "markdown",
   "metadata": {},
   "source": [
    "### Train Val Split"
   ]
  },
  {
   "cell_type": "code",
   "execution_count": 186,
   "metadata": {},
   "outputs": [],
   "source": [
    "X_train, X_val, y_train, y_val = train_test_split(X_train,y_train, test_size=0.25)"
   ]
  },
  {
   "cell_type": "code",
   "execution_count": 227,
   "metadata": {},
   "outputs": [
    {
     "name": "stdout",
     "output_type": "stream",
     "text": [
      "Shapes of Each Set\n",
      "-------------------\n",
      "X_train: (22981, 30)\n",
      "y_train: (22981,)\n",
      "X_val: (7661, 30)\n",
      "y_val: (7661,)\n",
      "X_test: (10215, 30)\n",
      "y_test: (10215,)\n"
     ]
    }
   ],
   "source": [
    "print('Shapes of Each Set')\n",
    "print('-------------------')\n",
    "print(f'X_train: {X_train.shape}')\n",
    "print(f'y_train: {y_train.shape}')\n",
    "print(f'X_val: {X_val.shape}')\n",
    "print(f'y_val: {y_val.shape}')\n",
    "print(f'X_test: {X_test.shape}')\n",
    "print(f'y_test: {y_test.shape}')"
   ]
  },
  {
   "cell_type": "markdown",
   "metadata": {},
   "source": [
    "# Baseline Model"
   ]
  },
  {
   "cell_type": "markdown",
   "metadata": {},
   "source": [
    "In this section, we will develop our baseline model using the data splits we had conducted previously. For our baseline model, we will be using a Logistic Regression. Once the model has been fit, we will conduct a few diagnostic tests to see how our model is performing. Namely Accuracy and AUC."
   ]
  },
  {
   "cell_type": "markdown",
   "metadata": {},
   "source": [
    "## Logisitic Regression"
   ]
  },
  {
   "cell_type": "markdown",
   "metadata": {},
   "source": [
    "We will fit our model using the Logistic Regression learner over here"
   ]
  },
  {
   "cell_type": "code",
   "execution_count": 231,
   "metadata": {},
   "outputs": [],
   "source": [
    "from sklearn.linear_model import LogisticRegression\n",
    "from sklearn import metrics\n",
    "from sklearn.metrics import accuracy_score, roc_auc_score"
   ]
  },
  {
   "cell_type": "code",
   "execution_count": 223,
   "metadata": {},
   "outputs": [
    {
     "name": "stderr",
     "output_type": "stream",
     "text": [
      "//anaconda3/lib/python3.7/site-packages/sklearn/linear_model/_logistic.py:940: ConvergenceWarning: lbfgs failed to converge (status=1):\n",
      "STOP: TOTAL NO. of ITERATIONS REACHED LIMIT.\n",
      "\n",
      "Increase the number of iterations (max_iter) or scale the data as shown in:\n",
      "    https://scikit-learn.org/stable/modules/preprocessing.html\n",
      "Please also refer to the documentation for alternative solver options:\n",
      "    https://scikit-learn.org/stable/modules/linear_model.html#logistic-regression\n",
      "  extra_warning_msg=_LOGISTIC_SOLVER_CONVERGENCE_MSG)\n"
     ]
    },
    {
     "data": {
      "text/plain": [
       "LogisticRegression(C=1.0, class_weight=None, dual=False, fit_intercept=True,\n",
       "                   intercept_scaling=1, l1_ratio=None, max_iter=100,\n",
       "                   multi_class='auto', n_jobs=None, penalty='none',\n",
       "                   random_state=None, solver='lbfgs', tol=0.0001, verbose=0,\n",
       "                   warm_start=False)"
      ]
     },
     "execution_count": 223,
     "metadata": {},
     "output_type": "execute_result"
    }
   ],
   "source": [
    "logreg = LogisticRegression(penalty='none', solver='lbfgs')\n",
    "model1_log = logreg.fit(X_train, y_train)\n",
    "model1_log"
   ]
  },
  {
   "cell_type": "markdown",
   "metadata": {},
   "source": [
    "Now that we have fit our model, we will create a predicted y variable using the predict function on the validation dataset."
   ]
  },
  {
   "cell_type": "code",
   "execution_count": 318,
   "metadata": {},
   "outputs": [],
   "source": [
    "y_val_pred = model_log.predict(X_val)"
   ]
  },
  {
   "cell_type": "code",
   "execution_count": 319,
   "metadata": {},
   "outputs": [
    {
     "name": "stdout",
     "output_type": "stream",
     "text": [
      "Accuracy of model (val) = 0.7599530087455946\n"
     ]
    }
   ],
   "source": [
    "print(\"Accuracy of model (val) =\", accuracy_score(y_val, y_val_pred))"
   ]
  },
  {
   "cell_type": "code",
   "execution_count": 320,
   "metadata": {},
   "outputs": [],
   "source": [
    "y_val_predproba = model_log.predict_proba(X_val)"
   ]
  },
  {
   "cell_type": "code",
   "execution_count": 322,
   "metadata": {},
   "outputs": [
    {
     "name": "stdout",
     "output_type": "stream",
     "text": [
      "ROC_AUC of model (val) = 0.6232840503223773\n"
     ]
    }
   ],
   "source": [
    "print(\"ROC_AUC of model (val) =\", roc_auc_score(y_val, y_val_predproba[:,1]))"
   ]
  },
  {
   "cell_type": "markdown",
   "metadata": {},
   "source": [
    "We will do the same for the test dataset."
   ]
  },
  {
   "cell_type": "code",
   "execution_count": 225,
   "metadata": {},
   "outputs": [
    {
     "name": "stdout",
     "output_type": "stream",
     "text": [
      "Accuracy of model (test) = 0.7567302985805189\n",
      "ROC_AUC of model (test) = 0.5076315625556336\n"
     ]
    }
   ],
   "source": [
    "y_test_pred = model_log.predict(X_test)\n",
    "\n",
    "print(\"Accuracy of model (test) =\", accuracy_score(y_test, y_test_pred))\n",
    "print(\"ROC_AUC of model (test) =\", roc_auc_score(y_test, y_test_pred))"
   ]
  },
  {
   "cell_type": "code",
   "execution_count": 387,
   "metadata": {},
   "outputs": [
    {
     "name": "stdout",
     "output_type": "stream",
     "text": [
      "Intercept = [-4.10442568]\n"
     ]
    },
    {
     "data": {
      "text/plain": [
       "{'Officer_Gender': 2.798109074783362,\n",
       " 'Subject_Perceived_Gender': 2.4614307637717885,\n",
       " 'Reported_Time': 2.7252351640250323,\n",
       " 'Frisk_Flag': 2.387987001083063,\n",
       " 'Year': 2.7973039978080516,\n",
       " 'Month': 0.16155267487229044,\n",
       " 'Precinct_East': 0.31168010544334307,\n",
       " 'Precinct_North': 0.2122575299512902,\n",
       " 'Precinct_South': 0.01774379790192246,\n",
       " 'Precinct_SouthWest': 0.050626662829534076,\n",
       " 'Precinct_West': 0.1718797019686332,\n",
       " 'Subject_Age_Group_18 - 25': -0.039864107158641214,\n",
       " 'Subject_Age_Group_26 - 35': 0.13041051476762597,\n",
       " 'Subject_Age_Group_36 - 45': 0.10121748479150904,\n",
       " 'Subject_Age_Group_46 - 55': 0.2025131794597132,\n",
       " 'Subject_Age_Group_56 and Above': 0.24928076779333214,\n",
       " 'Officer_Race_Asian': 0.04775173101429184,\n",
       " 'Officer_Race_Black or African American': -0.0996672219724735,\n",
       " 'Officer_Race_Hispanic or Latino': -0.2618186972491533,\n",
       " 'Officer_Race_Nat Hawaiian/Oth Pac Islander': -0.3269835902225263,\n",
       " 'Officer_Race_Two or More Races': -0.5787459515541458,\n",
       " 'Officer_Race_White': -0.7249857504357302,\n",
       " 'Subject_Perceived_Race_Asian': -0.27739830453663694,\n",
       " 'Subject_Perceived_Race_Black or African American': 0.9801834046628093,\n",
       " 'Subject_Perceived_Race_Hispanic': 0.8318883778530038,\n",
       " 'Subject_Perceived_Race_Multi-Racial': 0.6440672138795447,\n",
       " 'Subject_Perceived_Race_Native Hawaiian or Other Pacific Islander': 0.45549795947954097,\n",
       " 'Subject_Perceived_Race_Other': 0.2677226727888906,\n",
       " 'Subject_Perceived_Race_White': -0.7233827131715437,\n",
       " 'Officer_Age_Group_20-29': 0.2556079908792722}"
      ]
     },
     "execution_count": 387,
     "metadata": {},
     "output_type": "execute_result"
    }
   ],
   "source": [
    "intercept = model_log.intercept_\n",
    "print(\"Intercept =\", intercept)\n",
    "\n",
    "coefs = model_log.coef_[0]\n",
    "cols = list(X_all.columns)\n",
    "dict = {cols[i]: coefs[i] for i in range(len(coefs))}\n",
    "dict"
   ]
  },
  {
   "cell_type": "code",
   "execution_count": 237,
   "metadata": {},
   "outputs": [],
   "source": [
    "from sklearn.model_selaection import GridSearchCV, StratifiedKFold"
   ]
  },
  {
   "cell_type": "code",
   "execution_count": 252,
   "metadata": {},
   "outputs": [
    {
     "name": "stderr",
     "output_type": "stream",
     "text": [
      "//anaconda3/lib/python3.7/site-packages/sklearn/model_selection/_validation.py:536: FitFailedWarning: Estimator fit failed. The score on this train-test partition for these parameters will be set to nan. Details: \n",
      "ValueError: Solver lbfgs supports only 'l2' or 'none' penalties, got l1 penalty.\n",
      "\n",
      "  FitFailedWarning)\n",
      "//anaconda3/lib/python3.7/site-packages/sklearn/model_selection/_validation.py:536: FitFailedWarning: Estimator fit failed. The score on this train-test partition for these parameters will be set to nan. Details: \n",
      "ValueError: Solver lbfgs supports only dual=False, got dual=True\n",
      "\n",
      "  FitFailedWarning)\n",
      "//anaconda3/lib/python3.7/site-packages/sklearn/model_selection/_validation.py:536: FitFailedWarning: Estimator fit failed. The score on this train-test partition for these parameters will be set to nan. Details: \n",
      "ValueError: Solver lbfgs supports only 'l2' or 'none' penalties, got elasticnet penalty.\n",
      "\n",
      "  FitFailedWarning)\n",
      "//anaconda3/lib/python3.7/site-packages/sklearn/model_selection/_validation.py:536: FitFailedWarning: Estimator fit failed. The score on this train-test partition for these parameters will be set to nan. Details: \n",
      "ValueError: Solver lbfgs supports only 'l2' or 'none' penalties, got elasticnet penalty.\n",
      "\n",
      "  FitFailedWarning)\n",
      "//anaconda3/lib/python3.7/site-packages/sklearn/model_selection/_validation.py:536: FitFailedWarning: Estimator fit failed. The score on this train-test partition for these parameters will be set to nan. Details: \n",
      "ValueError: Solver lbfgs supports only 'l2' or 'none' penalties, got l1 penalty.\n",
      "\n",
      "  FitFailedWarning)\n",
      "//anaconda3/lib/python3.7/site-packages/sklearn/model_selection/_validation.py:536: FitFailedWarning: Estimator fit failed. The score on this train-test partition for these parameters will be set to nan. Details: \n",
      "ValueError: Solver lbfgs supports only dual=False, got dual=True\n",
      "\n",
      "  FitFailedWarning)\n",
      "//anaconda3/lib/python3.7/site-packages/sklearn/model_selection/_validation.py:536: FitFailedWarning: Estimator fit failed. The score on this train-test partition for these parameters will be set to nan. Details: \n",
      "ValueError: Solver lbfgs supports only 'l2' or 'none' penalties, got elasticnet penalty.\n",
      "\n",
      "  FitFailedWarning)\n",
      "//anaconda3/lib/python3.7/site-packages/sklearn/model_selection/_validation.py:536: FitFailedWarning: Estimator fit failed. The score on this train-test partition for these parameters will be set to nan. Details: \n",
      "ValueError: Solver lbfgs supports only 'l2' or 'none' penalties, got l1 penalty.\n",
      "\n",
      "  FitFailedWarning)\n",
      "//anaconda3/lib/python3.7/site-packages/sklearn/model_selection/_validation.py:536: FitFailedWarning: Estimator fit failed. The score on this train-test partition for these parameters will be set to nan. Details: \n",
      "ValueError: Solver lbfgs supports only dual=False, got dual=True\n",
      "\n",
      "  FitFailedWarning)\n",
      "//anaconda3/lib/python3.7/site-packages/sklearn/model_selection/_validation.py:536: FitFailedWarning: Estimator fit failed. The score on this train-test partition for these parameters will be set to nan. Details: \n",
      "ValueError: Solver lbfgs supports only 'l2' or 'none' penalties, got elasticnet penalty.\n",
      "\n",
      "  FitFailedWarning)\n",
      "//anaconda3/lib/python3.7/site-packages/sklearn/model_selection/_validation.py:536: FitFailedWarning: Estimator fit failed. The score on this train-test partition for these parameters will be set to nan. Details: \n",
      "ValueError: Solver lbfgs supports only 'l2' or 'none' penalties, got l1 penalty.\n",
      "\n",
      "  FitFailedWarning)\n",
      "//anaconda3/lib/python3.7/site-packages/sklearn/model_selection/_validation.py:536: FitFailedWarning: Estimator fit failed. The score on this train-test partition for these parameters will be set to nan. Details: \n",
      "ValueError: Solver lbfgs supports only dual=False, got dual=True\n",
      "\n",
      "  FitFailedWarning)\n",
      "//anaconda3/lib/python3.7/site-packages/sklearn/model_selection/_validation.py:536: FitFailedWarning: Estimator fit failed. The score on this train-test partition for these parameters will be set to nan. Details: \n",
      "ValueError: Solver lbfgs supports only 'l2' or 'none' penalties, got elasticnet penalty.\n",
      "\n",
      "  FitFailedWarning)\n"
     ]
    },
    {
     "data": {
      "text/html": [
       "<div>\n",
       "<style scoped>\n",
       "    .dataframe tbody tr th:only-of-type {\n",
       "        vertical-align: middle;\n",
       "    }\n",
       "\n",
       "    .dataframe tbody tr th {\n",
       "        vertical-align: top;\n",
       "    }\n",
       "\n",
       "    .dataframe thead th {\n",
       "        text-align: right;\n",
       "    }\n",
       "</style>\n",
       "<table border=\"1\" class=\"dataframe\">\n",
       "  <thead>\n",
       "    <tr style=\"text-align: right;\">\n",
       "      <th></th>\n",
       "      <th>mean_fit_time</th>\n",
       "      <th>std_fit_time</th>\n",
       "      <th>mean_score_time</th>\n",
       "      <th>std_score_time</th>\n",
       "      <th>param_C</th>\n",
       "      <th>param_class_weight</th>\n",
       "      <th>param_dual</th>\n",
       "      <th>param_max_iter</th>\n",
       "      <th>param_penalty</th>\n",
       "      <th>params</th>\n",
       "      <th>...</th>\n",
       "      <th>mean_test_score</th>\n",
       "      <th>std_test_score</th>\n",
       "      <th>rank_test_score</th>\n",
       "      <th>split0_train_score</th>\n",
       "      <th>split1_train_score</th>\n",
       "      <th>split2_train_score</th>\n",
       "      <th>split3_train_score</th>\n",
       "      <th>split4_train_score</th>\n",
       "      <th>mean_train_score</th>\n",
       "      <th>std_train_score</th>\n",
       "    </tr>\n",
       "  </thead>\n",
       "  <tbody>\n",
       "    <tr>\n",
       "      <th>0</th>\n",
       "      <td>0.019216</td>\n",
       "      <td>0.022549</td>\n",
       "      <td>0.000000</td>\n",
       "      <td>0.000000</td>\n",
       "      <td>10</td>\n",
       "      <td>balanced</td>\n",
       "      <td>True</td>\n",
       "      <td>10000</td>\n",
       "      <td>l1</td>\n",
       "      <td>{'C': 10, 'class_weight': 'balanced', 'dual': ...</td>\n",
       "      <td>...</td>\n",
       "      <td>NaN</td>\n",
       "      <td>NaN</td>\n",
       "      <td>5</td>\n",
       "      <td>NaN</td>\n",
       "      <td>NaN</td>\n",
       "      <td>NaN</td>\n",
       "      <td>NaN</td>\n",
       "      <td>NaN</td>\n",
       "      <td>NaN</td>\n",
       "      <td>NaN</td>\n",
       "    </tr>\n",
       "    <tr>\n",
       "      <th>1</th>\n",
       "      <td>0.022992</td>\n",
       "      <td>0.025777</td>\n",
       "      <td>0.000000</td>\n",
       "      <td>0.000000</td>\n",
       "      <td>10</td>\n",
       "      <td>balanced</td>\n",
       "      <td>True</td>\n",
       "      <td>10000</td>\n",
       "      <td>l2</td>\n",
       "      <td>{'C': 10, 'class_weight': 'balanced', 'dual': ...</td>\n",
       "      <td>...</td>\n",
       "      <td>NaN</td>\n",
       "      <td>NaN</td>\n",
       "      <td>22</td>\n",
       "      <td>NaN</td>\n",
       "      <td>NaN</td>\n",
       "      <td>NaN</td>\n",
       "      <td>NaN</td>\n",
       "      <td>NaN</td>\n",
       "      <td>NaN</td>\n",
       "      <td>NaN</td>\n",
       "    </tr>\n",
       "    <tr>\n",
       "      <th>2</th>\n",
       "      <td>0.002671</td>\n",
       "      <td>0.001433</td>\n",
       "      <td>0.000000</td>\n",
       "      <td>0.000000</td>\n",
       "      <td>10</td>\n",
       "      <td>balanced</td>\n",
       "      <td>True</td>\n",
       "      <td>10000</td>\n",
       "      <td>elasticnet</td>\n",
       "      <td>{'C': 10, 'class_weight': 'balanced', 'dual': ...</td>\n",
       "      <td>...</td>\n",
       "      <td>NaN</td>\n",
       "      <td>NaN</td>\n",
       "      <td>21</td>\n",
       "      <td>NaN</td>\n",
       "      <td>NaN</td>\n",
       "      <td>NaN</td>\n",
       "      <td>NaN</td>\n",
       "      <td>NaN</td>\n",
       "      <td>NaN</td>\n",
       "      <td>NaN</td>\n",
       "    </tr>\n",
       "    <tr>\n",
       "      <th>3</th>\n",
       "      <td>0.004764</td>\n",
       "      <td>0.002617</td>\n",
       "      <td>0.000000</td>\n",
       "      <td>0.000000</td>\n",
       "      <td>10</td>\n",
       "      <td>balanced</td>\n",
       "      <td>False</td>\n",
       "      <td>10000</td>\n",
       "      <td>l1</td>\n",
       "      <td>{'C': 10, 'class_weight': 'balanced', 'dual': ...</td>\n",
       "      <td>...</td>\n",
       "      <td>NaN</td>\n",
       "      <td>NaN</td>\n",
       "      <td>20</td>\n",
       "      <td>NaN</td>\n",
       "      <td>NaN</td>\n",
       "      <td>NaN</td>\n",
       "      <td>NaN</td>\n",
       "      <td>NaN</td>\n",
       "      <td>NaN</td>\n",
       "      <td>NaN</td>\n",
       "    </tr>\n",
       "    <tr>\n",
       "      <th>4</th>\n",
       "      <td>0.387696</td>\n",
       "      <td>0.126769</td>\n",
       "      <td>0.006953</td>\n",
       "      <td>0.004626</td>\n",
       "      <td>10</td>\n",
       "      <td>balanced</td>\n",
       "      <td>False</td>\n",
       "      <td>10000</td>\n",
       "      <td>l2</td>\n",
       "      <td>{'C': 10, 'class_weight': 'balanced', 'dual': ...</td>\n",
       "      <td>...</td>\n",
       "      <td>0.615921</td>\n",
       "      <td>0.007010</td>\n",
       "      <td>1</td>\n",
       "      <td>0.623336</td>\n",
       "      <td>0.620992</td>\n",
       "      <td>0.617986</td>\n",
       "      <td>0.621985</td>\n",
       "      <td>0.623033</td>\n",
       "      <td>0.621466</td>\n",
       "      <td>0.001927</td>\n",
       "    </tr>\n",
       "    <tr>\n",
       "      <th>5</th>\n",
       "      <td>0.002470</td>\n",
       "      <td>0.000798</td>\n",
       "      <td>0.000000</td>\n",
       "      <td>0.000000</td>\n",
       "      <td>10</td>\n",
       "      <td>balanced</td>\n",
       "      <td>False</td>\n",
       "      <td>10000</td>\n",
       "      <td>elasticnet</td>\n",
       "      <td>{'C': 10, 'class_weight': 'balanced', 'dual': ...</td>\n",
       "      <td>...</td>\n",
       "      <td>NaN</td>\n",
       "      <td>NaN</td>\n",
       "      <td>19</td>\n",
       "      <td>NaN</td>\n",
       "      <td>NaN</td>\n",
       "      <td>NaN</td>\n",
       "      <td>NaN</td>\n",
       "      <td>NaN</td>\n",
       "      <td>NaN</td>\n",
       "      <td>NaN</td>\n",
       "    </tr>\n",
       "    <tr>\n",
       "      <th>6</th>\n",
       "      <td>0.002454</td>\n",
       "      <td>0.000448</td>\n",
       "      <td>0.000000</td>\n",
       "      <td>0.000000</td>\n",
       "      <td>100</td>\n",
       "      <td>balanced</td>\n",
       "      <td>True</td>\n",
       "      <td>10000</td>\n",
       "      <td>l1</td>\n",
       "      <td>{'C': 100, 'class_weight': 'balanced', 'dual':...</td>\n",
       "      <td>...</td>\n",
       "      <td>NaN</td>\n",
       "      <td>NaN</td>\n",
       "      <td>18</td>\n",
       "      <td>NaN</td>\n",
       "      <td>NaN</td>\n",
       "      <td>NaN</td>\n",
       "      <td>NaN</td>\n",
       "      <td>NaN</td>\n",
       "      <td>NaN</td>\n",
       "      <td>NaN</td>\n",
       "    </tr>\n",
       "    <tr>\n",
       "      <th>7</th>\n",
       "      <td>0.002197</td>\n",
       "      <td>0.000370</td>\n",
       "      <td>0.000000</td>\n",
       "      <td>0.000000</td>\n",
       "      <td>100</td>\n",
       "      <td>balanced</td>\n",
       "      <td>True</td>\n",
       "      <td>10000</td>\n",
       "      <td>l2</td>\n",
       "      <td>{'C': 100, 'class_weight': 'balanced', 'dual':...</td>\n",
       "      <td>...</td>\n",
       "      <td>NaN</td>\n",
       "      <td>NaN</td>\n",
       "      <td>17</td>\n",
       "      <td>NaN</td>\n",
       "      <td>NaN</td>\n",
       "      <td>NaN</td>\n",
       "      <td>NaN</td>\n",
       "      <td>NaN</td>\n",
       "      <td>NaN</td>\n",
       "      <td>NaN</td>\n",
       "    </tr>\n",
       "    <tr>\n",
       "      <th>8</th>\n",
       "      <td>0.002050</td>\n",
       "      <td>0.000306</td>\n",
       "      <td>0.000000</td>\n",
       "      <td>0.000000</td>\n",
       "      <td>100</td>\n",
       "      <td>balanced</td>\n",
       "      <td>True</td>\n",
       "      <td>10000</td>\n",
       "      <td>elasticnet</td>\n",
       "      <td>{'C': 100, 'class_weight': 'balanced', 'dual':...</td>\n",
       "      <td>...</td>\n",
       "      <td>NaN</td>\n",
       "      <td>NaN</td>\n",
       "      <td>16</td>\n",
       "      <td>NaN</td>\n",
       "      <td>NaN</td>\n",
       "      <td>NaN</td>\n",
       "      <td>NaN</td>\n",
       "      <td>NaN</td>\n",
       "      <td>NaN</td>\n",
       "      <td>NaN</td>\n",
       "    </tr>\n",
       "    <tr>\n",
       "      <th>9</th>\n",
       "      <td>0.003017</td>\n",
       "      <td>0.001328</td>\n",
       "      <td>0.000000</td>\n",
       "      <td>0.000000</td>\n",
       "      <td>100</td>\n",
       "      <td>balanced</td>\n",
       "      <td>False</td>\n",
       "      <td>10000</td>\n",
       "      <td>l1</td>\n",
       "      <td>{'C': 100, 'class_weight': 'balanced', 'dual':...</td>\n",
       "      <td>...</td>\n",
       "      <td>NaN</td>\n",
       "      <td>NaN</td>\n",
       "      <td>15</td>\n",
       "      <td>NaN</td>\n",
       "      <td>NaN</td>\n",
       "      <td>NaN</td>\n",
       "      <td>NaN</td>\n",
       "      <td>NaN</td>\n",
       "      <td>NaN</td>\n",
       "      <td>NaN</td>\n",
       "    </tr>\n",
       "    <tr>\n",
       "      <th>10</th>\n",
       "      <td>0.211535</td>\n",
       "      <td>0.121839</td>\n",
       "      <td>0.003129</td>\n",
       "      <td>0.000520</td>\n",
       "      <td>100</td>\n",
       "      <td>balanced</td>\n",
       "      <td>False</td>\n",
       "      <td>10000</td>\n",
       "      <td>l2</td>\n",
       "      <td>{'C': 100, 'class_weight': 'balanced', 'dual':...</td>\n",
       "      <td>...</td>\n",
       "      <td>0.615907</td>\n",
       "      <td>0.006978</td>\n",
       "      <td>2</td>\n",
       "      <td>0.623335</td>\n",
       "      <td>0.620990</td>\n",
       "      <td>0.617976</td>\n",
       "      <td>0.621968</td>\n",
       "      <td>0.622994</td>\n",
       "      <td>0.621453</td>\n",
       "      <td>0.001923</td>\n",
       "    </tr>\n",
       "    <tr>\n",
       "      <th>11</th>\n",
       "      <td>0.001475</td>\n",
       "      <td>0.000098</td>\n",
       "      <td>0.000000</td>\n",
       "      <td>0.000000</td>\n",
       "      <td>100</td>\n",
       "      <td>balanced</td>\n",
       "      <td>False</td>\n",
       "      <td>10000</td>\n",
       "      <td>elasticnet</td>\n",
       "      <td>{'C': 100, 'class_weight': 'balanced', 'dual':...</td>\n",
       "      <td>...</td>\n",
       "      <td>NaN</td>\n",
       "      <td>NaN</td>\n",
       "      <td>14</td>\n",
       "      <td>NaN</td>\n",
       "      <td>NaN</td>\n",
       "      <td>NaN</td>\n",
       "      <td>NaN</td>\n",
       "      <td>NaN</td>\n",
       "      <td>NaN</td>\n",
       "      <td>NaN</td>\n",
       "    </tr>\n",
       "    <tr>\n",
       "      <th>12</th>\n",
       "      <td>0.001522</td>\n",
       "      <td>0.000165</td>\n",
       "      <td>0.000000</td>\n",
       "      <td>0.000000</td>\n",
       "      <td>1000</td>\n",
       "      <td>balanced</td>\n",
       "      <td>True</td>\n",
       "      <td>10000</td>\n",
       "      <td>l1</td>\n",
       "      <td>{'C': 1000, 'class_weight': 'balanced', 'dual'...</td>\n",
       "      <td>...</td>\n",
       "      <td>NaN</td>\n",
       "      <td>NaN</td>\n",
       "      <td>23</td>\n",
       "      <td>NaN</td>\n",
       "      <td>NaN</td>\n",
       "      <td>NaN</td>\n",
       "      <td>NaN</td>\n",
       "      <td>NaN</td>\n",
       "      <td>NaN</td>\n",
       "      <td>NaN</td>\n",
       "    </tr>\n",
       "    <tr>\n",
       "      <th>13</th>\n",
       "      <td>0.002006</td>\n",
       "      <td>0.000741</td>\n",
       "      <td>0.000000</td>\n",
       "      <td>0.000000</td>\n",
       "      <td>1000</td>\n",
       "      <td>balanced</td>\n",
       "      <td>True</td>\n",
       "      <td>10000</td>\n",
       "      <td>l2</td>\n",
       "      <td>{'C': 1000, 'class_weight': 'balanced', 'dual'...</td>\n",
       "      <td>...</td>\n",
       "      <td>NaN</td>\n",
       "      <td>NaN</td>\n",
       "      <td>13</td>\n",
       "      <td>NaN</td>\n",
       "      <td>NaN</td>\n",
       "      <td>NaN</td>\n",
       "      <td>NaN</td>\n",
       "      <td>NaN</td>\n",
       "      <td>NaN</td>\n",
       "      <td>NaN</td>\n",
       "    </tr>\n",
       "    <tr>\n",
       "      <th>14</th>\n",
       "      <td>0.001454</td>\n",
       "      <td>0.000098</td>\n",
       "      <td>0.000000</td>\n",
       "      <td>0.000000</td>\n",
       "      <td>1000</td>\n",
       "      <td>balanced</td>\n",
       "      <td>True</td>\n",
       "      <td>10000</td>\n",
       "      <td>elasticnet</td>\n",
       "      <td>{'C': 1000, 'class_weight': 'balanced', 'dual'...</td>\n",
       "      <td>...</td>\n",
       "      <td>NaN</td>\n",
       "      <td>NaN</td>\n",
       "      <td>12</td>\n",
       "      <td>NaN</td>\n",
       "      <td>NaN</td>\n",
       "      <td>NaN</td>\n",
       "      <td>NaN</td>\n",
       "      <td>NaN</td>\n",
       "      <td>NaN</td>\n",
       "      <td>NaN</td>\n",
       "    </tr>\n",
       "    <tr>\n",
       "      <th>15</th>\n",
       "      <td>0.001434</td>\n",
       "      <td>0.000061</td>\n",
       "      <td>0.000000</td>\n",
       "      <td>0.000000</td>\n",
       "      <td>1000</td>\n",
       "      <td>balanced</td>\n",
       "      <td>False</td>\n",
       "      <td>10000</td>\n",
       "      <td>l1</td>\n",
       "      <td>{'C': 1000, 'class_weight': 'balanced', 'dual'...</td>\n",
       "      <td>...</td>\n",
       "      <td>NaN</td>\n",
       "      <td>NaN</td>\n",
       "      <td>11</td>\n",
       "      <td>NaN</td>\n",
       "      <td>NaN</td>\n",
       "      <td>NaN</td>\n",
       "      <td>NaN</td>\n",
       "      <td>NaN</td>\n",
       "      <td>NaN</td>\n",
       "      <td>NaN</td>\n",
       "    </tr>\n",
       "    <tr>\n",
       "      <th>16</th>\n",
       "      <td>0.164166</td>\n",
       "      <td>0.025460</td>\n",
       "      <td>0.003315</td>\n",
       "      <td>0.000620</td>\n",
       "      <td>1000</td>\n",
       "      <td>balanced</td>\n",
       "      <td>False</td>\n",
       "      <td>10000</td>\n",
       "      <td>l2</td>\n",
       "      <td>{'C': 1000, 'class_weight': 'balanced', 'dual'...</td>\n",
       "      <td>...</td>\n",
       "      <td>0.615894</td>\n",
       "      <td>0.007010</td>\n",
       "      <td>3</td>\n",
       "      <td>0.623304</td>\n",
       "      <td>0.620973</td>\n",
       "      <td>0.617972</td>\n",
       "      <td>0.621961</td>\n",
       "      <td>0.623061</td>\n",
       "      <td>0.621454</td>\n",
       "      <td>0.001930</td>\n",
       "    </tr>\n",
       "    <tr>\n",
       "      <th>17</th>\n",
       "      <td>0.001547</td>\n",
       "      <td>0.000081</td>\n",
       "      <td>0.000000</td>\n",
       "      <td>0.000000</td>\n",
       "      <td>1000</td>\n",
       "      <td>balanced</td>\n",
       "      <td>False</td>\n",
       "      <td>10000</td>\n",
       "      <td>elasticnet</td>\n",
       "      <td>{'C': 1000, 'class_weight': 'balanced', 'dual'...</td>\n",
       "      <td>...</td>\n",
       "      <td>NaN</td>\n",
       "      <td>NaN</td>\n",
       "      <td>10</td>\n",
       "      <td>NaN</td>\n",
       "      <td>NaN</td>\n",
       "      <td>NaN</td>\n",
       "      <td>NaN</td>\n",
       "      <td>NaN</td>\n",
       "      <td>NaN</td>\n",
       "      <td>NaN</td>\n",
       "    </tr>\n",
       "    <tr>\n",
       "      <th>18</th>\n",
       "      <td>0.001492</td>\n",
       "      <td>0.000061</td>\n",
       "      <td>0.000000</td>\n",
       "      <td>0.000000</td>\n",
       "      <td>10000</td>\n",
       "      <td>balanced</td>\n",
       "      <td>True</td>\n",
       "      <td>10000</td>\n",
       "      <td>l1</td>\n",
       "      <td>{'C': 10000, 'class_weight': 'balanced', 'dual...</td>\n",
       "      <td>...</td>\n",
       "      <td>NaN</td>\n",
       "      <td>NaN</td>\n",
       "      <td>9</td>\n",
       "      <td>NaN</td>\n",
       "      <td>NaN</td>\n",
       "      <td>NaN</td>\n",
       "      <td>NaN</td>\n",
       "      <td>NaN</td>\n",
       "      <td>NaN</td>\n",
       "      <td>NaN</td>\n",
       "    </tr>\n",
       "    <tr>\n",
       "      <th>19</th>\n",
       "      <td>0.001518</td>\n",
       "      <td>0.000118</td>\n",
       "      <td>0.000000</td>\n",
       "      <td>0.000000</td>\n",
       "      <td>10000</td>\n",
       "      <td>balanced</td>\n",
       "      <td>True</td>\n",
       "      <td>10000</td>\n",
       "      <td>l2</td>\n",
       "      <td>{'C': 10000, 'class_weight': 'balanced', 'dual...</td>\n",
       "      <td>...</td>\n",
       "      <td>NaN</td>\n",
       "      <td>NaN</td>\n",
       "      <td>8</td>\n",
       "      <td>NaN</td>\n",
       "      <td>NaN</td>\n",
       "      <td>NaN</td>\n",
       "      <td>NaN</td>\n",
       "      <td>NaN</td>\n",
       "      <td>NaN</td>\n",
       "      <td>NaN</td>\n",
       "    </tr>\n",
       "    <tr>\n",
       "      <th>20</th>\n",
       "      <td>0.001454</td>\n",
       "      <td>0.000069</td>\n",
       "      <td>0.000000</td>\n",
       "      <td>0.000000</td>\n",
       "      <td>10000</td>\n",
       "      <td>balanced</td>\n",
       "      <td>True</td>\n",
       "      <td>10000</td>\n",
       "      <td>elasticnet</td>\n",
       "      <td>{'C': 10000, 'class_weight': 'balanced', 'dual...</td>\n",
       "      <td>...</td>\n",
       "      <td>NaN</td>\n",
       "      <td>NaN</td>\n",
       "      <td>7</td>\n",
       "      <td>NaN</td>\n",
       "      <td>NaN</td>\n",
       "      <td>NaN</td>\n",
       "      <td>NaN</td>\n",
       "      <td>NaN</td>\n",
       "      <td>NaN</td>\n",
       "      <td>NaN</td>\n",
       "    </tr>\n",
       "    <tr>\n",
       "      <th>21</th>\n",
       "      <td>0.001455</td>\n",
       "      <td>0.000076</td>\n",
       "      <td>0.000000</td>\n",
       "      <td>0.000000</td>\n",
       "      <td>10000</td>\n",
       "      <td>balanced</td>\n",
       "      <td>False</td>\n",
       "      <td>10000</td>\n",
       "      <td>l1</td>\n",
       "      <td>{'C': 10000, 'class_weight': 'balanced', 'dual...</td>\n",
       "      <td>...</td>\n",
       "      <td>NaN</td>\n",
       "      <td>NaN</td>\n",
       "      <td>6</td>\n",
       "      <td>NaN</td>\n",
       "      <td>NaN</td>\n",
       "      <td>NaN</td>\n",
       "      <td>NaN</td>\n",
       "      <td>NaN</td>\n",
       "      <td>NaN</td>\n",
       "      <td>NaN</td>\n",
       "    </tr>\n",
       "    <tr>\n",
       "      <th>22</th>\n",
       "      <td>0.185205</td>\n",
       "      <td>0.049662</td>\n",
       "      <td>0.003390</td>\n",
       "      <td>0.001236</td>\n",
       "      <td>10000</td>\n",
       "      <td>balanced</td>\n",
       "      <td>False</td>\n",
       "      <td>10000</td>\n",
       "      <td>l2</td>\n",
       "      <td>{'C': 10000, 'class_weight': 'balanced', 'dual...</td>\n",
       "      <td>...</td>\n",
       "      <td>0.615894</td>\n",
       "      <td>0.007010</td>\n",
       "      <td>4</td>\n",
       "      <td>0.623314</td>\n",
       "      <td>0.620969</td>\n",
       "      <td>0.617975</td>\n",
       "      <td>0.621988</td>\n",
       "      <td>0.623008</td>\n",
       "      <td>0.621451</td>\n",
       "      <td>0.001923</td>\n",
       "    </tr>\n",
       "    <tr>\n",
       "      <th>23</th>\n",
       "      <td>0.001514</td>\n",
       "      <td>0.000125</td>\n",
       "      <td>0.000000</td>\n",
       "      <td>0.000000</td>\n",
       "      <td>10000</td>\n",
       "      <td>balanced</td>\n",
       "      <td>False</td>\n",
       "      <td>10000</td>\n",
       "      <td>elasticnet</td>\n",
       "      <td>{'C': 10000, 'class_weight': 'balanced', 'dual...</td>\n",
       "      <td>...</td>\n",
       "      <td>NaN</td>\n",
       "      <td>NaN</td>\n",
       "      <td>24</td>\n",
       "      <td>NaN</td>\n",
       "      <td>NaN</td>\n",
       "      <td>NaN</td>\n",
       "      <td>NaN</td>\n",
       "      <td>NaN</td>\n",
       "      <td>NaN</td>\n",
       "      <td>NaN</td>\n",
       "    </tr>\n",
       "  </tbody>\n",
       "</table>\n",
       "<p>24 rows × 25 columns</p>\n",
       "</div>"
      ],
      "text/plain": [
       "    mean_fit_time  std_fit_time  mean_score_time  std_score_time param_C  \\\n",
       "0        0.019216      0.022549         0.000000        0.000000      10   \n",
       "1        0.022992      0.025777         0.000000        0.000000      10   \n",
       "2        0.002671      0.001433         0.000000        0.000000      10   \n",
       "3        0.004764      0.002617         0.000000        0.000000      10   \n",
       "4        0.387696      0.126769         0.006953        0.004626      10   \n",
       "5        0.002470      0.000798         0.000000        0.000000      10   \n",
       "6        0.002454      0.000448         0.000000        0.000000     100   \n",
       "7        0.002197      0.000370         0.000000        0.000000     100   \n",
       "8        0.002050      0.000306         0.000000        0.000000     100   \n",
       "9        0.003017      0.001328         0.000000        0.000000     100   \n",
       "10       0.211535      0.121839         0.003129        0.000520     100   \n",
       "11       0.001475      0.000098         0.000000        0.000000     100   \n",
       "12       0.001522      0.000165         0.000000        0.000000    1000   \n",
       "13       0.002006      0.000741         0.000000        0.000000    1000   \n",
       "14       0.001454      0.000098         0.000000        0.000000    1000   \n",
       "15       0.001434      0.000061         0.000000        0.000000    1000   \n",
       "16       0.164166      0.025460         0.003315        0.000620    1000   \n",
       "17       0.001547      0.000081         0.000000        0.000000    1000   \n",
       "18       0.001492      0.000061         0.000000        0.000000   10000   \n",
       "19       0.001518      0.000118         0.000000        0.000000   10000   \n",
       "20       0.001454      0.000069         0.000000        0.000000   10000   \n",
       "21       0.001455      0.000076         0.000000        0.000000   10000   \n",
       "22       0.185205      0.049662         0.003390        0.001236   10000   \n",
       "23       0.001514      0.000125         0.000000        0.000000   10000   \n",
       "\n",
       "   param_class_weight param_dual param_max_iter param_penalty  \\\n",
       "0            balanced       True          10000            l1   \n",
       "1            balanced       True          10000            l2   \n",
       "2            balanced       True          10000    elasticnet   \n",
       "3            balanced      False          10000            l1   \n",
       "4            balanced      False          10000            l2   \n",
       "5            balanced      False          10000    elasticnet   \n",
       "6            balanced       True          10000            l1   \n",
       "7            balanced       True          10000            l2   \n",
       "8            balanced       True          10000    elasticnet   \n",
       "9            balanced      False          10000            l1   \n",
       "10           balanced      False          10000            l2   \n",
       "11           balanced      False          10000    elasticnet   \n",
       "12           balanced       True          10000            l1   \n",
       "13           balanced       True          10000            l2   \n",
       "14           balanced       True          10000    elasticnet   \n",
       "15           balanced      False          10000            l1   \n",
       "16           balanced      False          10000            l2   \n",
       "17           balanced      False          10000    elasticnet   \n",
       "18           balanced       True          10000            l1   \n",
       "19           balanced       True          10000            l2   \n",
       "20           balanced       True          10000    elasticnet   \n",
       "21           balanced      False          10000            l1   \n",
       "22           balanced      False          10000            l2   \n",
       "23           balanced      False          10000    elasticnet   \n",
       "\n",
       "                                               params  ...  mean_test_score  \\\n",
       "0   {'C': 10, 'class_weight': 'balanced', 'dual': ...  ...              NaN   \n",
       "1   {'C': 10, 'class_weight': 'balanced', 'dual': ...  ...              NaN   \n",
       "2   {'C': 10, 'class_weight': 'balanced', 'dual': ...  ...              NaN   \n",
       "3   {'C': 10, 'class_weight': 'balanced', 'dual': ...  ...              NaN   \n",
       "4   {'C': 10, 'class_weight': 'balanced', 'dual': ...  ...         0.615921   \n",
       "5   {'C': 10, 'class_weight': 'balanced', 'dual': ...  ...              NaN   \n",
       "6   {'C': 100, 'class_weight': 'balanced', 'dual':...  ...              NaN   \n",
       "7   {'C': 100, 'class_weight': 'balanced', 'dual':...  ...              NaN   \n",
       "8   {'C': 100, 'class_weight': 'balanced', 'dual':...  ...              NaN   \n",
       "9   {'C': 100, 'class_weight': 'balanced', 'dual':...  ...              NaN   \n",
       "10  {'C': 100, 'class_weight': 'balanced', 'dual':...  ...         0.615907   \n",
       "11  {'C': 100, 'class_weight': 'balanced', 'dual':...  ...              NaN   \n",
       "12  {'C': 1000, 'class_weight': 'balanced', 'dual'...  ...              NaN   \n",
       "13  {'C': 1000, 'class_weight': 'balanced', 'dual'...  ...              NaN   \n",
       "14  {'C': 1000, 'class_weight': 'balanced', 'dual'...  ...              NaN   \n",
       "15  {'C': 1000, 'class_weight': 'balanced', 'dual'...  ...              NaN   \n",
       "16  {'C': 1000, 'class_weight': 'balanced', 'dual'...  ...         0.615894   \n",
       "17  {'C': 1000, 'class_weight': 'balanced', 'dual'...  ...              NaN   \n",
       "18  {'C': 10000, 'class_weight': 'balanced', 'dual...  ...              NaN   \n",
       "19  {'C': 10000, 'class_weight': 'balanced', 'dual...  ...              NaN   \n",
       "20  {'C': 10000, 'class_weight': 'balanced', 'dual...  ...              NaN   \n",
       "21  {'C': 10000, 'class_weight': 'balanced', 'dual...  ...              NaN   \n",
       "22  {'C': 10000, 'class_weight': 'balanced', 'dual...  ...         0.615894   \n",
       "23  {'C': 10000, 'class_weight': 'balanced', 'dual...  ...              NaN   \n",
       "\n",
       "    std_test_score  rank_test_score  split0_train_score  split1_train_score  \\\n",
       "0              NaN                5                 NaN                 NaN   \n",
       "1              NaN               22                 NaN                 NaN   \n",
       "2              NaN               21                 NaN                 NaN   \n",
       "3              NaN               20                 NaN                 NaN   \n",
       "4         0.007010                1            0.623336            0.620992   \n",
       "5              NaN               19                 NaN                 NaN   \n",
       "6              NaN               18                 NaN                 NaN   \n",
       "7              NaN               17                 NaN                 NaN   \n",
       "8              NaN               16                 NaN                 NaN   \n",
       "9              NaN               15                 NaN                 NaN   \n",
       "10        0.006978                2            0.623335            0.620990   \n",
       "11             NaN               14                 NaN                 NaN   \n",
       "12             NaN               23                 NaN                 NaN   \n",
       "13             NaN               13                 NaN                 NaN   \n",
       "14             NaN               12                 NaN                 NaN   \n",
       "15             NaN               11                 NaN                 NaN   \n",
       "16        0.007010                3            0.623304            0.620973   \n",
       "17             NaN               10                 NaN                 NaN   \n",
       "18             NaN                9                 NaN                 NaN   \n",
       "19             NaN                8                 NaN                 NaN   \n",
       "20             NaN                7                 NaN                 NaN   \n",
       "21             NaN                6                 NaN                 NaN   \n",
       "22        0.007010                4            0.623314            0.620969   \n",
       "23             NaN               24                 NaN                 NaN   \n",
       "\n",
       "    split2_train_score  split3_train_score  split4_train_score  \\\n",
       "0                  NaN                 NaN                 NaN   \n",
       "1                  NaN                 NaN                 NaN   \n",
       "2                  NaN                 NaN                 NaN   \n",
       "3                  NaN                 NaN                 NaN   \n",
       "4             0.617986            0.621985            0.623033   \n",
       "5                  NaN                 NaN                 NaN   \n",
       "6                  NaN                 NaN                 NaN   \n",
       "7                  NaN                 NaN                 NaN   \n",
       "8                  NaN                 NaN                 NaN   \n",
       "9                  NaN                 NaN                 NaN   \n",
       "10            0.617976            0.621968            0.622994   \n",
       "11                 NaN                 NaN                 NaN   \n",
       "12                 NaN                 NaN                 NaN   \n",
       "13                 NaN                 NaN                 NaN   \n",
       "14                 NaN                 NaN                 NaN   \n",
       "15                 NaN                 NaN                 NaN   \n",
       "16            0.617972            0.621961            0.623061   \n",
       "17                 NaN                 NaN                 NaN   \n",
       "18                 NaN                 NaN                 NaN   \n",
       "19                 NaN                 NaN                 NaN   \n",
       "20                 NaN                 NaN                 NaN   \n",
       "21                 NaN                 NaN                 NaN   \n",
       "22            0.617975            0.621988            0.623008   \n",
       "23                 NaN                 NaN                 NaN   \n",
       "\n",
       "    mean_train_score  std_train_score  \n",
       "0                NaN              NaN  \n",
       "1                NaN              NaN  \n",
       "2                NaN              NaN  \n",
       "3                NaN              NaN  \n",
       "4           0.621466         0.001927  \n",
       "5                NaN              NaN  \n",
       "6                NaN              NaN  \n",
       "7                NaN              NaN  \n",
       "8                NaN              NaN  \n",
       "9                NaN              NaN  \n",
       "10          0.621453         0.001923  \n",
       "11               NaN              NaN  \n",
       "12               NaN              NaN  \n",
       "13               NaN              NaN  \n",
       "14               NaN              NaN  \n",
       "15               NaN              NaN  \n",
       "16          0.621454         0.001930  \n",
       "17               NaN              NaN  \n",
       "18               NaN              NaN  \n",
       "19               NaN              NaN  \n",
       "20               NaN              NaN  \n",
       "21               NaN              NaN  \n",
       "22          0.621451         0.001923  \n",
       "23               NaN              NaN  \n",
       "\n",
       "[24 rows x 25 columns]"
      ]
     },
     "execution_count": 252,
     "metadata": {},
     "output_type": "execute_result"
    }
   ],
   "source": [
    "skf = StratifiedKFold(n_splits = 5)\n",
    "\n",
    "param_grid = {'penalty' : ['l1', 'l2','elasticnet'],\n",
    "              'dual' : [True, False],\n",
    "              'C' : [10,100,1000,10000],\n",
    "              'class_weight' :['balanced'],\n",
    "              'max_iter' : [10000]\n",
    "              }\n",
    "\n",
    "opt_model = GridSearchCV(model1_log,\n",
    "                         param_grid,\n",
    "                         cv=skf,\n",
    "                         scoring='roc_auc',\n",
    "                         return_train_score=True)\n",
    "\n",
    "opt_model.fit(X_train,y_train)\n",
    "\n",
    "pd.DataFrame(opt_model.cv_results_)"
   ]
  },
  {
   "cell_type": "code",
   "execution_count": 390,
   "metadata": {},
   "outputs": [
    {
     "name": "stdout",
     "output_type": "stream",
     "text": [
      "best model:{'C': 10, 'class_weight': 'balanced', 'dual': False, 'max_iter': 10000, 'penalty': 'l2'}\n",
      "best score: 0.615921365778484\n"
     ]
    }
   ],
   "source": [
    "print(f'best model:{opt_model.best_params_}')\n",
    "print(f'best score: {opt_model.best_score_}')"
   ]
  },
  {
   "cell_type": "code",
   "execution_count": 426,
   "metadata": {},
   "outputs": [],
   "source": [
    "tuned_model = opt_model.best_estimator_"
   ]
  },
  {
   "cell_type": "code",
   "execution_count": 427,
   "metadata": {},
   "outputs": [],
   "source": [
    "tuned_yval_pred = best_model.predict(X_val)"
   ]
  },
  {
   "cell_type": "code",
   "execution_count": 428,
   "metadata": {},
   "outputs": [
    {
     "name": "stdout",
     "output_type": "stream",
     "text": [
      "Accuracy of model (val) = 0.5712048035504503\n"
     ]
    }
   ],
   "source": [
    "print(\"Accuracy of model (val) =\", accuracy_score(y_val, tuned_yval_pred))"
   ]
  },
  {
   "cell_type": "code",
   "execution_count": 429,
   "metadata": {},
   "outputs": [],
   "source": [
    "tuned_yval_predproba = best_model.predict_proba(X_val)"
   ]
  },
  {
   "cell_type": "code",
   "execution_count": 430,
   "metadata": {},
   "outputs": [
    {
     "name": "stdout",
     "output_type": "stream",
     "text": [
      "ROC_AUC of model (val) = 0.6234131769312978\n"
     ]
    }
   ],
   "source": [
    "print(\"ROC_AUC of model (val) =\", roc_auc_score(y_val, tuned_yval_predproba[:,1]))"
   ]
  },
  {
   "cell_type": "code",
   "execution_count": 431,
   "metadata": {},
   "outputs": [
    {
     "data": {
      "text/plain": [
       "{'Officer_Gender': 2.746348511351904,\n",
       " 'Subject_Perceived_Gender': 2.405995727475379,\n",
       " 'Reported_Time': 2.6709451403675826,\n",
       " 'Frisk_Flag': 2.334902685472593,\n",
       " 'Year': 2.7432996372422567,\n",
       " 'Month': 0.17322048111487415,\n",
       " 'Precinct_East': 0.3209054393548742,\n",
       " 'Precinct_North': 0.2259983320536022,\n",
       " 'Precinct_South': 0.02526118438314947,\n",
       " 'Precinct_SouthWest': 0.05426536347641426,\n",
       " 'Precinct_West': 0.17173395338936226,\n",
       " 'Subject_Age_Group_18 - 25': -0.043923993582415416,\n",
       " 'Subject_Age_Group_26 - 35': 0.12588915833594413,\n",
       " 'Subject_Age_Group_36 - 45': 0.07857809234471198,\n",
       " 'Subject_Age_Group_46 - 55': 0.20287290304543482,\n",
       " 'Subject_Age_Group_56 and Above': 0.2381650702570174,\n",
       " 'Officer_Race_Asian': 0.038848666671458795,\n",
       " 'Officer_Race_Black or African American': -0.10642723135368426,\n",
       " 'Officer_Race_Hispanic or Latino': -0.2671916780632092,\n",
       " 'Officer_Race_Nat Hawaiian/Oth Pac Islander': -0.32036294243611513,\n",
       " 'Officer_Race_Two or More Races': -0.5793642895025741,\n",
       " 'Officer_Race_White': -0.7246957568323725,\n",
       " 'Subject_Perceived_Race_Asian': -0.2831410005748088,\n",
       " 'Subject_Perceived_Race_Black or African American': 0.9898572965450264,\n",
       " 'Subject_Perceived_Race_Hispanic': 0.8322798971471687,\n",
       " 'Subject_Perceived_Race_Multi-Racial': 0.6515201772999009,\n",
       " 'Subject_Perceived_Race_Native Hawaiian or Other Pacific Islander': 0.45879117483951126,\n",
       " 'Subject_Perceived_Race_Other': 0.2836707498142621,\n",
       " 'Subject_Perceived_Race_White': -0.7178680191506339,\n",
       " 'Officer_Age_Group_20-29': 0.26617483357575733}"
      ]
     },
     "execution_count": 431,
     "metadata": {},
     "output_type": "execute_result"
    }
   ],
   "source": [
    "tuned_coefs = tuned_model.coef_[0]\n",
    "tuned_cols = list(X_all.columns)\n",
    "tuned_dict = {tuned_cols[i]: tuned_coefs[i] for i in range(len(tuned_coefs))}\n",
    "tuned_dict"
   ]
  },
  {
   "cell_type": "markdown",
   "metadata": {},
   "source": [
    "## Confusion Matrix"
   ]
  },
  {
   "cell_type": "code",
   "execution_count": 412,
   "metadata": {},
   "outputs": [],
   "source": [
    "#Prevalence = 3.6%\n",
    "#https://datacollaborativeforjustice.org/wp-content/uploads/2018/10/Trends_in_Misdemeanors_Seattle.pdf"
   ]
  },
  {
   "cell_type": "code",
   "execution_count": 432,
   "metadata": {},
   "outputs": [],
   "source": [
    "tuned_ytest_pred = best_model.predict(X_test)"
   ]
  },
  {
   "cell_type": "code",
   "execution_count": 433,
   "metadata": {},
   "outputs": [],
   "source": [
    "def conf_matrix(y_true, y_pred):\n",
    "    cm = {'TP': 0, 'TN': 0, 'FP': 0, 'FN': 0}\n",
    "    \n",
    "    for ind, label in enumerate(y_true):\n",
    "        pred = y_pred[ind]\n",
    "        if label == 1:\n",
    "            # CASE: TP \n",
    "            if label == pred:\n",
    "                cm['TP'] += 1\n",
    "            # CASE: FN\n",
    "            else:\n",
    "                cm['FN'] += 1\n",
    "        else:\n",
    "            # CASE: TN\n",
    "            if label == pred:\n",
    "                cm['TN'] += 1\n",
    "            # CASE: FP\n",
    "            else:\n",
    "                cm['FP'] += 1\n",
    "    return cm"
   ]
  },
  {
   "cell_type": "code",
   "execution_count": 434,
   "metadata": {},
   "outputs": [
    {
     "data": {
      "text/plain": [
       "{'TP': 1515, 'TN': 4212, 'FP': 3556, 'FN': 932}"
      ]
     },
     "execution_count": 434,
     "metadata": {},
     "output_type": "execute_result"
    }
   ],
   "source": [
    "conf_matrix(y_test, tuned_ytest_pred)"
   ]
  },
  {
   "cell_type": "code",
   "execution_count": 435,
   "metadata": {},
   "outputs": [
    {
     "name": "stdout",
     "output_type": "stream",
     "text": [
      "Confusion Matrix:\n",
      " [[4212 3556]\n",
      " [ 932 1515]]\n"
     ]
    }
   ],
   "source": [
    "cnf_matrix = confusion_matrix(y_test, tuned_ytest_pred)\n",
    "print('Confusion Matrix:\\n', cnf_matrix)"
   ]
  },
  {
   "cell_type": "code",
   "execution_count": 436,
   "metadata": {},
   "outputs": [
    {
     "data": {
      "image/png": "[encoded data removed]",
      "text/plain": [
       "<Figure size 720x432 with 2 Axes>"
      ]
     },
     "metadata": {
      "needs_background": "light"
     },
     "output_type": "display_data"
    }
   ],
   "source": [
    "plt.figure(figsize=(10,6))\n",
    "plt.imshow(cnf_matrix,  cmap=plt.cm.Blues) \n",
    "\n",
    "plt.title('Confusion Matrix')\n",
    "plt.ylabel('True label')\n",
    "plt.xlabel('Predicted label')\n",
    "\n",
    "class_names = set(y) \n",
    "tick_marks = np.arange(len(class_names))\n",
    "plt.xticks(tick_marks, class_names, rotation=45)\n",
    "plt.yticks(tick_marks, class_names)\n",
    "\n",
    "\n",
    "thresh = cnf_matrix.max() \n",
    "\n",
    "for i, j in itertools.product(range(cnf_matrix.shape[0]), range(cnf_matrix.shape[1])):\n",
    "        plt.text(j, i, cnf_matrix[i, j],\n",
    "                 horizontalalignment='center',\n",
    "                 color='white' if cnf_matrix[i, j] > thresh else 'black')\n",
    "\n",
    "\n",
    "plt.colorbar()\n",
    "plt.show()"
   ]
  },
  {
   "cell_type": "markdown",
   "metadata": {},
   "source": [
    "True Positive: 1515 Predicted Yes, Actual Yes\n",
    "\n",
    "True Negative: 4212 Predicted No, Actual No\n",
    "\n",
    "False Positive: 3556 Predicted Yes, Actual No (Type 1 error)\n",
    "\n",
    "False Negative: 932 Predicted No, Actual Yes (Type 2 error)\n"
   ]
  },
  {
   "cell_type": "code",
   "execution_count": null,
   "metadata": {},
   "outputs": [],
   "source": []
  },
  {
   "cell_type": "code",
   "execution_count": 437,
   "metadata": {},
   "outputs": [
    {
     "name": "stdout",
     "output_type": "stream",
     "text": [
      " Test Accuracy: 0.5606461086637298\n",
      " Test ROC- AUC Score: 0.5806749852801114\n"
     ]
    }
   ],
   "source": [
    "print(f' Test Accuracy: {accuracy_score(y_test, tuned_ytest_pred)}')\n",
    "print(f' Test ROC- AUC Score: {roc_auc_score(y_test,tuned_ytest_pred)}')"
   ]
  },
  {
   "cell_type": "markdown",
   "metadata": {},
   "source": [
    "## SMOTE"
   ]
  },
  {
   "cell_type": "code",
   "execution_count": 246,
   "metadata": {},
   "outputs": [
    {
     "name": "stderr",
     "output_type": "stream",
     "text": [
      "Using TensorFlow backend.\n"
     ]
    }
   ],
   "source": [
    "from imblearn.over_sampling import SMOTE"
   ]
  },
  {
   "cell_type": "code",
   "execution_count": 248,
   "metadata": {},
   "outputs": [],
   "source": [
    "X_train_resampled, y_train_resampled = SMOTE().fit_sample(X_train, y_train) "
   ]
  },
  {
   "cell_type": "code",
   "execution_count": 249,
   "metadata": {},
   "outputs": [],
   "source": [
    "model2_log = logreg.fit(X_train_resampled, y_train_resampled)"
   ]
  },
  {
   "cell_type": "code",
   "execution_count": 254,
   "metadata": {},
   "outputs": [
    {
     "name": "stderr",
     "output_type": "stream",
     "text": [
      "//anaconda3/lib/python3.7/site-packages/sklearn/model_selection/_validation.py:536: FitFailedWarning: Estimator fit failed. The score on this train-test partition for these parameters will be set to nan. Details: \n",
      "ValueError: Unsupported set of arguments: The combination of penalty='l1' and loss='logistic_regression' are not supported when dual=True, Parameters: penalty='l1', loss='logistic_regression', dual=True\n",
      "\n",
      "  FitFailedWarning)\n",
      "//anaconda3/lib/python3.7/site-packages/sklearn/model_selection/_validation.py:536: FitFailedWarning: Estimator fit failed. The score on this train-test partition for these parameters will be set to nan. Details: \n",
      "ValueError: Unsupported set of arguments: The combination of penalty='l1' and loss='logistic_regression' are not supported when dual=True, Parameters: penalty='l1', loss='logistic_regression', dual=True\n",
      "\n",
      "  FitFailedWarning)\n",
      "//anaconda3/lib/python3.7/site-packages/sklearn/model_selection/_validation.py:536: FitFailedWarning: Estimator fit failed. The score on this train-test partition for these parameters will be set to nan. Details: \n",
      "ValueError: Unsupported set of arguments: The combination of penalty='l1' and loss='logistic_regression' are not supported when dual=True, Parameters: penalty='l1', loss='logistic_regression', dual=True\n",
      "\n",
      "  FitFailedWarning)\n",
      "//anaconda3/lib/python3.7/site-packages/sklearn/model_selection/_validation.py:536: FitFailedWarning: Estimator fit failed. The score on this train-test partition for these parameters will be set to nan. Details: \n",
      "ValueError: Unsupported set of arguments: The combination of penalty='l1' and loss='logistic_regression' are not supported when dual=True, Parameters: penalty='l1', loss='logistic_regression', dual=True\n",
      "\n",
      "  FitFailedWarning)\n",
      "//anaconda3/lib/python3.7/site-packages/sklearn/model_selection/_validation.py:536: FitFailedWarning: Estimator fit failed. The score on this train-test partition for these parameters will be set to nan. Details: \n",
      "ValueError: Unsupported set of arguments: The combination of penalty='l1' and loss='logistic_regression' are not supported when dual=True, Parameters: penalty='l1', loss='logistic_regression', dual=True\n",
      "\n",
      "  FitFailedWarning)\n",
      "//anaconda3/lib/python3.7/site-packages/sklearn/model_selection/_validation.py:536: FitFailedWarning: Estimator fit failed. The score on this train-test partition for these parameters will be set to nan. Details: \n",
      "ValueError: Only 'saga' solver supports elasticnet penalty, got solver=liblinear.\n",
      "\n",
      "  FitFailedWarning)\n",
      "//anaconda3/lib/python3.7/site-packages/sklearn/model_selection/_validation.py:536: FitFailedWarning: Estimator fit failed. The score on this train-test partition for these parameters will be set to nan. Details: \n",
      "ValueError: Only 'saga' solver supports elasticnet penalty, got solver=liblinear.\n",
      "\n",
      "  FitFailedWarning)\n",
      "//anaconda3/lib/python3.7/site-packages/sklearn/model_selection/_validation.py:536: FitFailedWarning: Estimator fit failed. The score on this train-test partition for these parameters will be set to nan. Details: \n",
      "ValueError: Unsupported set of arguments: The combination of penalty='l1' and loss='logistic_regression' are not supported when dual=True, Parameters: penalty='l1', loss='logistic_regression', dual=True\n",
      "\n",
      "  FitFailedWarning)\n",
      "//anaconda3/lib/python3.7/site-packages/sklearn/model_selection/_validation.py:536: FitFailedWarning: Estimator fit failed. The score on this train-test partition for these parameters will be set to nan. Details: \n",
      "ValueError: Unsupported set of arguments: The combination of penalty='l1' and loss='logistic_regression' are not supported when dual=True, Parameters: penalty='l1', loss='logistic_regression', dual=True\n",
      "\n",
      "  FitFailedWarning)\n",
      "//anaconda3/lib/python3.7/site-packages/sklearn/model_selection/_validation.py:536: FitFailedWarning: Estimator fit failed. The score on this train-test partition for these parameters will be set to nan. Details: \n",
      "ValueError: Unsupported set of arguments: The combination of penalty='l1' and loss='logistic_regression' are not supported when dual=True, Parameters: penalty='l1', loss='logistic_regression', dual=True\n",
      "\n",
      "  FitFailedWarning)\n",
      "//anaconda3/lib/python3.7/site-packages/sklearn/model_selection/_validation.py:536: FitFailedWarning: Estimator fit failed. The score on this train-test partition for these parameters will be set to nan. Details: \n",
      "ValueError: Unsupported set of arguments: The combination of penalty='l1' and loss='logistic_regression' are not supported when dual=True, Parameters: penalty='l1', loss='logistic_regression', dual=True\n",
      "\n",
      "  FitFailedWarning)\n",
      "//anaconda3/lib/python3.7/site-packages/sklearn/model_selection/_validation.py:536: FitFailedWarning: Estimator fit failed. The score on this train-test partition for these parameters will be set to nan. Details: \n",
      "ValueError: Unsupported set of arguments: The combination of penalty='l1' and loss='logistic_regression' are not supported when dual=True, Parameters: penalty='l1', loss='logistic_regression', dual=True\n",
      "\n",
      "  FitFailedWarning)\n",
      "//anaconda3/lib/python3.7/site-packages/sklearn/model_selection/_validation.py:536: FitFailedWarning: Estimator fit failed. The score on this train-test partition for these parameters will be set to nan. Details: \n",
      "ValueError: Only 'saga' solver supports elasticnet penalty, got solver=liblinear.\n",
      "\n",
      "  FitFailedWarning)\n",
      "//anaconda3/lib/python3.7/site-packages/sklearn/model_selection/_validation.py:536: FitFailedWarning: Estimator fit failed. The score on this train-test partition for these parameters will be set to nan. Details: \n",
      "ValueError: Only 'saga' solver supports elasticnet penalty, got solver=liblinear.\n",
      "\n",
      "  FitFailedWarning)\n",
      "//anaconda3/lib/python3.7/site-packages/sklearn/model_selection/_validation.py:536: FitFailedWarning: Estimator fit failed. The score on this train-test partition for these parameters will be set to nan. Details: \n",
      "ValueError: Unsupported set of arguments: The combination of penalty='l1' and loss='logistic_regression' are not supported when dual=True, Parameters: penalty='l1', loss='logistic_regression', dual=True\n",
      "\n",
      "  FitFailedWarning)\n",
      "//anaconda3/lib/python3.7/site-packages/sklearn/model_selection/_validation.py:536: FitFailedWarning: Estimator fit failed. The score on this train-test partition for these parameters will be set to nan. Details: \n",
      "ValueError: Unsupported set of arguments: The combination of penalty='l1' and loss='logistic_regression' are not supported when dual=True, Parameters: penalty='l1', loss='logistic_regression', dual=True\n",
      "\n",
      "  FitFailedWarning)\n",
      "//anaconda3/lib/python3.7/site-packages/sklearn/model_selection/_validation.py:536: FitFailedWarning: Estimator fit failed. The score on this train-test partition for these parameters will be set to nan. Details: \n",
      "ValueError: Unsupported set of arguments: The combination of penalty='l1' and loss='logistic_regression' are not supported when dual=True, Parameters: penalty='l1', loss='logistic_regression', dual=True\n",
      "\n",
      "  FitFailedWarning)\n",
      "//anaconda3/lib/python3.7/site-packages/sklearn/model_selection/_validation.py:536: FitFailedWarning: Estimator fit failed. The score on this train-test partition for these parameters will be set to nan. Details: \n",
      "ValueError: Unsupported set of arguments: The combination of penalty='l1' and loss='logistic_regression' are not supported when dual=True, Parameters: penalty='l1', loss='logistic_regression', dual=True\n",
      "\n",
      "  FitFailedWarning)\n",
      "//anaconda3/lib/python3.7/site-packages/sklearn/model_selection/_validation.py:536: FitFailedWarning: Estimator fit failed. The score on this train-test partition for these parameters will be set to nan. Details: \n",
      "ValueError: Unsupported set of arguments: The combination of penalty='l1' and loss='logistic_regression' are not supported when dual=True, Parameters: penalty='l1', loss='logistic_regression', dual=True\n",
      "\n",
      "  FitFailedWarning)\n",
      "//anaconda3/lib/python3.7/site-packages/sklearn/svm/_base.py:947: ConvergenceWarning: Liblinear failed to converge, increase the number of iterations.\n",
      "  \"the number of iterations.\", ConvergenceWarning)\n",
      "//anaconda3/lib/python3.7/site-packages/sklearn/svm/_base.py:947: ConvergenceWarning: Liblinear failed to converge, increase the number of iterations.\n",
      "  \"the number of iterations.\", ConvergenceWarning)\n",
      "//anaconda3/lib/python3.7/site-packages/sklearn/svm/_base.py:947: ConvergenceWarning: Liblinear failed to converge, increase the number of iterations.\n",
      "  \"the number of iterations.\", ConvergenceWarning)\n",
      "//anaconda3/lib/python3.7/site-packages/sklearn/svm/_base.py:947: ConvergenceWarning: Liblinear failed to converge, increase the number of iterations.\n",
      "  \"the number of iterations.\", ConvergenceWarning)\n",
      "//anaconda3/lib/python3.7/site-packages/sklearn/svm/_base.py:947: ConvergenceWarning: Liblinear failed to converge, increase the number of iterations.\n",
      "  \"the number of iterations.\", ConvergenceWarning)\n",
      "//anaconda3/lib/python3.7/site-packages/sklearn/model_selection/_validation.py:536: FitFailedWarning: Estimator fit failed. The score on this train-test partition for these parameters will be set to nan. Details: \n",
      "ValueError: Only 'saga' solver supports elasticnet penalty, got solver=liblinear.\n",
      "\n",
      "  FitFailedWarning)\n",
      "//anaconda3/lib/python3.7/site-packages/sklearn/model_selection/_validation.py:536: FitFailedWarning: Estimator fit failed. The score on this train-test partition for these parameters will be set to nan. Details: \n",
      "ValueError: Only 'saga' solver supports elasticnet penalty, got solver=liblinear.\n",
      "\n",
      "  FitFailedWarning)\n",
      "//anaconda3/lib/python3.7/site-packages/sklearn/model_selection/_validation.py:536: FitFailedWarning: Estimator fit failed. The score on this train-test partition for these parameters will be set to nan. Details: \n",
      "ValueError: Unsupported set of arguments: The combination of penalty='l1' and loss='logistic_regression' are not supported when dual=True, Parameters: penalty='l1', loss='logistic_regression', dual=True\n",
      "\n",
      "  FitFailedWarning)\n",
      "//anaconda3/lib/python3.7/site-packages/sklearn/model_selection/_validation.py:536: FitFailedWarning: Estimator fit failed. The score on this train-test partition for these parameters will be set to nan. Details: \n",
      "ValueError: Unsupported set of arguments: The combination of penalty='l1' and loss='logistic_regression' are not supported when dual=True, Parameters: penalty='l1', loss='logistic_regression', dual=True\n",
      "\n",
      "  FitFailedWarning)\n",
      "//anaconda3/lib/python3.7/site-packages/sklearn/model_selection/_validation.py:536: FitFailedWarning: Estimator fit failed. The score on this train-test partition for these parameters will be set to nan. Details: \n",
      "ValueError: Unsupported set of arguments: The combination of penalty='l1' and loss='logistic_regression' are not supported when dual=True, Parameters: penalty='l1', loss='logistic_regression', dual=True\n",
      "\n",
      "  FitFailedWarning)\n",
      "//anaconda3/lib/python3.7/site-packages/sklearn/model_selection/_validation.py:536: FitFailedWarning: Estimator fit failed. The score on this train-test partition for these parameters will be set to nan. Details: \n",
      "ValueError: Unsupported set of arguments: The combination of penalty='l1' and loss='logistic_regression' are not supported when dual=True, Parameters: penalty='l1', loss='logistic_regression', dual=True\n",
      "\n",
      "  FitFailedWarning)\n",
      "//anaconda3/lib/python3.7/site-packages/sklearn/model_selection/_validation.py:536: FitFailedWarning: Estimator fit failed. The score on this train-test partition for these parameters will be set to nan. Details: \n",
      "ValueError: Unsupported set of arguments: The combination of penalty='l1' and loss='logistic_regression' are not supported when dual=True, Parameters: penalty='l1', loss='logistic_regression', dual=True\n",
      "\n",
      "  FitFailedWarning)\n",
      "//anaconda3/lib/python3.7/site-packages/sklearn/svm/_base.py:947: ConvergenceWarning: Liblinear failed to converge, increase the number of iterations.\n",
      "  \"the number of iterations.\", ConvergenceWarning)\n",
      "//anaconda3/lib/python3.7/site-packages/sklearn/svm/_base.py:947: ConvergenceWarning: Liblinear failed to converge, increase the number of iterations.\n",
      "  \"the number of iterations.\", ConvergenceWarning)\n",
      "//anaconda3/lib/python3.7/site-packages/sklearn/svm/_base.py:947: ConvergenceWarning: Liblinear failed to converge, increase the number of iterations.\n",
      "  \"the number of iterations.\", ConvergenceWarning)\n",
      "//anaconda3/lib/python3.7/site-packages/sklearn/svm/_base.py:947: ConvergenceWarning: Liblinear failed to converge, increase the number of iterations.\n",
      "  \"the number of iterations.\", ConvergenceWarning)\n",
      "//anaconda3/lib/python3.7/site-packages/sklearn/svm/_base.py:947: ConvergenceWarning: Liblinear failed to converge, increase the number of iterations.\n",
      "  \"the number of iterations.\", ConvergenceWarning)\n",
      "//anaconda3/lib/python3.7/site-packages/sklearn/model_selection/_validation.py:536: FitFailedWarning: Estimator fit failed. The score on this train-test partition for these parameters will be set to nan. Details: \n",
      "ValueError: Only 'saga' solver supports elasticnet penalty, got solver=liblinear.\n",
      "\n",
      "  FitFailedWarning)\n",
      "//anaconda3/lib/python3.7/site-packages/sklearn/model_selection/_validation.py:536: FitFailedWarning: Estimator fit failed. The score on this train-test partition for these parameters will be set to nan. Details: \n",
      "ValueError: Only 'saga' solver supports elasticnet penalty, got solver=liblinear.\n",
      "\n",
      "  FitFailedWarning)\n",
      "//anaconda3/lib/python3.7/site-packages/sklearn/svm/_base.py:947: ConvergenceWarning: Liblinear failed to converge, increase the number of iterations.\n",
      "  \"the number of iterations.\", ConvergenceWarning)\n"
     ]
    },
    {
     "data": {
      "text/html": [
       "<div>\n",
       "<style scoped>\n",
       "    .dataframe tbody tr th:only-of-type {\n",
       "        vertical-align: middle;\n",
       "    }\n",
       "\n",
       "    .dataframe tbody tr th {\n",
       "        vertical-align: top;\n",
       "    }\n",
       "\n",
       "    .dataframe thead th {\n",
       "        text-align: right;\n",
       "    }\n",
       "</style>\n",
       "<table border=\"1\" class=\"dataframe\">\n",
       "  <thead>\n",
       "    <tr style=\"text-align: right;\">\n",
       "      <th></th>\n",
       "      <th>mean_fit_time</th>\n",
       "      <th>std_fit_time</th>\n",
       "      <th>mean_score_time</th>\n",
       "      <th>std_score_time</th>\n",
       "      <th>param_C</th>\n",
       "      <th>param_class_weight</th>\n",
       "      <th>param_dual</th>\n",
       "      <th>param_max_iter</th>\n",
       "      <th>param_penalty</th>\n",
       "      <th>params</th>\n",
       "      <th>...</th>\n",
       "      <th>mean_test_score</th>\n",
       "      <th>std_test_score</th>\n",
       "      <th>rank_test_score</th>\n",
       "      <th>split0_train_score</th>\n",
       "      <th>split1_train_score</th>\n",
       "      <th>split2_train_score</th>\n",
       "      <th>split3_train_score</th>\n",
       "      <th>split4_train_score</th>\n",
       "      <th>mean_train_score</th>\n",
       "      <th>std_train_score</th>\n",
       "    </tr>\n",
       "  </thead>\n",
       "  <tbody>\n",
       "    <tr>\n",
       "      <th>0</th>\n",
       "      <td>0.036908</td>\n",
       "      <td>0.024017</td>\n",
       "      <td>0.000000</td>\n",
       "      <td>0.000000</td>\n",
       "      <td>10</td>\n",
       "      <td>balanced</td>\n",
       "      <td>True</td>\n",
       "      <td>10000</td>\n",
       "      <td>l1</td>\n",
       "      <td>{'C': 10, 'class_weight': 'balanced', 'dual': ...</td>\n",
       "      <td>...</td>\n",
       "      <td>NaN</td>\n",
       "      <td>NaN</td>\n",
       "      <td>13</td>\n",
       "      <td>NaN</td>\n",
       "      <td>NaN</td>\n",
       "      <td>NaN</td>\n",
       "      <td>NaN</td>\n",
       "      <td>NaN</td>\n",
       "      <td>NaN</td>\n",
       "      <td>NaN</td>\n",
       "    </tr>\n",
       "    <tr>\n",
       "      <th>1</th>\n",
       "      <td>0.708879</td>\n",
       "      <td>0.075698</td>\n",
       "      <td>0.004318</td>\n",
       "      <td>0.000859</td>\n",
       "      <td>10</td>\n",
       "      <td>balanced</td>\n",
       "      <td>True</td>\n",
       "      <td>10000</td>\n",
       "      <td>l2</td>\n",
       "      <td>{'C': 10, 'class_weight': 'balanced', 'dual': ...</td>\n",
       "      <td>...</td>\n",
       "      <td>0.622965</td>\n",
       "      <td>0.007864</td>\n",
       "      <td>11</td>\n",
       "      <td>0.627167</td>\n",
       "      <td>0.625619</td>\n",
       "      <td>0.621679</td>\n",
       "      <td>0.624308</td>\n",
       "      <td>0.627082</td>\n",
       "      <td>0.625171</td>\n",
       "      <td>0.002038</td>\n",
       "    </tr>\n",
       "    <tr>\n",
       "      <th>2</th>\n",
       "      <td>0.002086</td>\n",
       "      <td>0.000165</td>\n",
       "      <td>0.000000</td>\n",
       "      <td>0.000000</td>\n",
       "      <td>10</td>\n",
       "      <td>balanced</td>\n",
       "      <td>True</td>\n",
       "      <td>10000</td>\n",
       "      <td>elasticnet</td>\n",
       "      <td>{'C': 10, 'class_weight': 'balanced', 'dual': ...</td>\n",
       "      <td>...</td>\n",
       "      <td>NaN</td>\n",
       "      <td>NaN</td>\n",
       "      <td>22</td>\n",
       "      <td>NaN</td>\n",
       "      <td>NaN</td>\n",
       "      <td>NaN</td>\n",
       "      <td>NaN</td>\n",
       "      <td>NaN</td>\n",
       "      <td>NaN</td>\n",
       "      <td>NaN</td>\n",
       "    </tr>\n",
       "    <tr>\n",
       "      <th>3</th>\n",
       "      <td>1.208206</td>\n",
       "      <td>0.376813</td>\n",
       "      <td>0.004911</td>\n",
       "      <td>0.001415</td>\n",
       "      <td>10</td>\n",
       "      <td>balanced</td>\n",
       "      <td>False</td>\n",
       "      <td>10000</td>\n",
       "      <td>l1</td>\n",
       "      <td>{'C': 10, 'class_weight': 'balanced', 'dual': ...</td>\n",
       "      <td>...</td>\n",
       "      <td>0.622997</td>\n",
       "      <td>0.007875</td>\n",
       "      <td>2</td>\n",
       "      <td>0.627150</td>\n",
       "      <td>0.625642</td>\n",
       "      <td>0.621696</td>\n",
       "      <td>0.624300</td>\n",
       "      <td>0.627105</td>\n",
       "      <td>0.625179</td>\n",
       "      <td>0.002035</td>\n",
       "    </tr>\n",
       "    <tr>\n",
       "      <th>4</th>\n",
       "      <td>0.327451</td>\n",
       "      <td>0.145656</td>\n",
       "      <td>0.010985</td>\n",
       "      <td>0.005837</td>\n",
       "      <td>10</td>\n",
       "      <td>balanced</td>\n",
       "      <td>False</td>\n",
       "      <td>10000</td>\n",
       "      <td>l2</td>\n",
       "      <td>{'C': 10, 'class_weight': 'balanced', 'dual': ...</td>\n",
       "      <td>...</td>\n",
       "      <td>0.622976</td>\n",
       "      <td>0.007878</td>\n",
       "      <td>10</td>\n",
       "      <td>0.627164</td>\n",
       "      <td>0.625620</td>\n",
       "      <td>0.621685</td>\n",
       "      <td>0.624307</td>\n",
       "      <td>0.627083</td>\n",
       "      <td>0.625172</td>\n",
       "      <td>0.002036</td>\n",
       "    </tr>\n",
       "    <tr>\n",
       "      <th>5</th>\n",
       "      <td>0.009775</td>\n",
       "      <td>0.007413</td>\n",
       "      <td>0.000000</td>\n",
       "      <td>0.000000</td>\n",
       "      <td>10</td>\n",
       "      <td>balanced</td>\n",
       "      <td>False</td>\n",
       "      <td>10000</td>\n",
       "      <td>elasticnet</td>\n",
       "      <td>{'C': 10, 'class_weight': 'balanced', 'dual': ...</td>\n",
       "      <td>...</td>\n",
       "      <td>NaN</td>\n",
       "      <td>NaN</td>\n",
       "      <td>21</td>\n",
       "      <td>NaN</td>\n",
       "      <td>NaN</td>\n",
       "      <td>NaN</td>\n",
       "      <td>NaN</td>\n",
       "      <td>NaN</td>\n",
       "      <td>NaN</td>\n",
       "      <td>NaN</td>\n",
       "    </tr>\n",
       "    <tr>\n",
       "      <th>6</th>\n",
       "      <td>0.055500</td>\n",
       "      <td>0.039193</td>\n",
       "      <td>0.000000</td>\n",
       "      <td>0.000000</td>\n",
       "      <td>100</td>\n",
       "      <td>balanced</td>\n",
       "      <td>True</td>\n",
       "      <td>10000</td>\n",
       "      <td>l1</td>\n",
       "      <td>{'C': 100, 'class_weight': 'balanced', 'dual':...</td>\n",
       "      <td>...</td>\n",
       "      <td>NaN</td>\n",
       "      <td>NaN</td>\n",
       "      <td>20</td>\n",
       "      <td>NaN</td>\n",
       "      <td>NaN</td>\n",
       "      <td>NaN</td>\n",
       "      <td>NaN</td>\n",
       "      <td>NaN</td>\n",
       "      <td>NaN</td>\n",
       "      <td>NaN</td>\n",
       "    </tr>\n",
       "    <tr>\n",
       "      <th>7</th>\n",
       "      <td>8.042251</td>\n",
       "      <td>0.930234</td>\n",
       "      <td>0.006349</td>\n",
       "      <td>0.003524</td>\n",
       "      <td>100</td>\n",
       "      <td>balanced</td>\n",
       "      <td>True</td>\n",
       "      <td>10000</td>\n",
       "      <td>l2</td>\n",
       "      <td>{'C': 100, 'class_weight': 'balanced', 'dual':...</td>\n",
       "      <td>...</td>\n",
       "      <td>0.622984</td>\n",
       "      <td>0.007873</td>\n",
       "      <td>8</td>\n",
       "      <td>0.627130</td>\n",
       "      <td>0.625631</td>\n",
       "      <td>0.621701</td>\n",
       "      <td>0.624329</td>\n",
       "      <td>0.627101</td>\n",
       "      <td>0.625178</td>\n",
       "      <td>0.002026</td>\n",
       "    </tr>\n",
       "    <tr>\n",
       "      <th>8</th>\n",
       "      <td>0.003458</td>\n",
       "      <td>0.000397</td>\n",
       "      <td>0.000000</td>\n",
       "      <td>0.000000</td>\n",
       "      <td>100</td>\n",
       "      <td>balanced</td>\n",
       "      <td>True</td>\n",
       "      <td>10000</td>\n",
       "      <td>elasticnet</td>\n",
       "      <td>{'C': 100, 'class_weight': 'balanced', 'dual':...</td>\n",
       "      <td>...</td>\n",
       "      <td>NaN</td>\n",
       "      <td>NaN</td>\n",
       "      <td>19</td>\n",
       "      <td>NaN</td>\n",
       "      <td>NaN</td>\n",
       "      <td>NaN</td>\n",
       "      <td>NaN</td>\n",
       "      <td>NaN</td>\n",
       "      <td>NaN</td>\n",
       "      <td>NaN</td>\n",
       "    </tr>\n",
       "    <tr>\n",
       "      <th>9</th>\n",
       "      <td>1.829475</td>\n",
       "      <td>0.199118</td>\n",
       "      <td>0.007847</td>\n",
       "      <td>0.001809</td>\n",
       "      <td>100</td>\n",
       "      <td>balanced</td>\n",
       "      <td>False</td>\n",
       "      <td>10000</td>\n",
       "      <td>l1</td>\n",
       "      <td>{'C': 100, 'class_weight': 'balanced', 'dual':...</td>\n",
       "      <td>...</td>\n",
       "      <td>0.622986</td>\n",
       "      <td>0.007873</td>\n",
       "      <td>6</td>\n",
       "      <td>0.627138</td>\n",
       "      <td>0.625626</td>\n",
       "      <td>0.621697</td>\n",
       "      <td>0.624321</td>\n",
       "      <td>0.627100</td>\n",
       "      <td>0.625176</td>\n",
       "      <td>0.002029</td>\n",
       "    </tr>\n",
       "    <tr>\n",
       "      <th>10</th>\n",
       "      <td>0.111218</td>\n",
       "      <td>0.022632</td>\n",
       "      <td>0.005184</td>\n",
       "      <td>0.001068</td>\n",
       "      <td>100</td>\n",
       "      <td>balanced</td>\n",
       "      <td>False</td>\n",
       "      <td>10000</td>\n",
       "      <td>l2</td>\n",
       "      <td>{'C': 100, 'class_weight': 'balanced', 'dual':...</td>\n",
       "      <td>...</td>\n",
       "      <td>0.622985</td>\n",
       "      <td>0.007871</td>\n",
       "      <td>7</td>\n",
       "      <td>0.627132</td>\n",
       "      <td>0.625624</td>\n",
       "      <td>0.621698</td>\n",
       "      <td>0.624329</td>\n",
       "      <td>0.627101</td>\n",
       "      <td>0.625177</td>\n",
       "      <td>0.002027</td>\n",
       "    </tr>\n",
       "    <tr>\n",
       "      <th>11</th>\n",
       "      <td>0.002494</td>\n",
       "      <td>0.000665</td>\n",
       "      <td>0.000000</td>\n",
       "      <td>0.000000</td>\n",
       "      <td>100</td>\n",
       "      <td>balanced</td>\n",
       "      <td>False</td>\n",
       "      <td>10000</td>\n",
       "      <td>elasticnet</td>\n",
       "      <td>{'C': 100, 'class_weight': 'balanced', 'dual':...</td>\n",
       "      <td>...</td>\n",
       "      <td>NaN</td>\n",
       "      <td>NaN</td>\n",
       "      <td>17</td>\n",
       "      <td>NaN</td>\n",
       "      <td>NaN</td>\n",
       "      <td>NaN</td>\n",
       "      <td>NaN</td>\n",
       "      <td>NaN</td>\n",
       "      <td>NaN</td>\n",
       "      <td>NaN</td>\n",
       "    </tr>\n",
       "    <tr>\n",
       "      <th>12</th>\n",
       "      <td>0.014951</td>\n",
       "      <td>0.000933</td>\n",
       "      <td>0.000000</td>\n",
       "      <td>0.000000</td>\n",
       "      <td>1000</td>\n",
       "      <td>balanced</td>\n",
       "      <td>True</td>\n",
       "      <td>10000</td>\n",
       "      <td>l1</td>\n",
       "      <td>{'C': 1000, 'class_weight': 'balanced', 'dual'...</td>\n",
       "      <td>...</td>\n",
       "      <td>NaN</td>\n",
       "      <td>NaN</td>\n",
       "      <td>18</td>\n",
       "      <td>NaN</td>\n",
       "      <td>NaN</td>\n",
       "      <td>NaN</td>\n",
       "      <td>NaN</td>\n",
       "      <td>NaN</td>\n",
       "      <td>NaN</td>\n",
       "      <td>NaN</td>\n",
       "    </tr>\n",
       "    <tr>\n",
       "      <th>13</th>\n",
       "      <td>40.119705</td>\n",
       "      <td>3.750656</td>\n",
       "      <td>0.011665</td>\n",
       "      <td>0.008806</td>\n",
       "      <td>1000</td>\n",
       "      <td>balanced</td>\n",
       "      <td>True</td>\n",
       "      <td>10000</td>\n",
       "      <td>l2</td>\n",
       "      <td>{'C': 1000, 'class_weight': 'balanced', 'dual'...</td>\n",
       "      <td>...</td>\n",
       "      <td>0.623001</td>\n",
       "      <td>0.007859</td>\n",
       "      <td>1</td>\n",
       "      <td>0.627184</td>\n",
       "      <td>0.625658</td>\n",
       "      <td>0.621687</td>\n",
       "      <td>0.624348</td>\n",
       "      <td>0.627053</td>\n",
       "      <td>0.625186</td>\n",
       "      <td>0.002032</td>\n",
       "    </tr>\n",
       "    <tr>\n",
       "      <th>14</th>\n",
       "      <td>0.005518</td>\n",
       "      <td>0.005738</td>\n",
       "      <td>0.000000</td>\n",
       "      <td>0.000000</td>\n",
       "      <td>1000</td>\n",
       "      <td>balanced</td>\n",
       "      <td>True</td>\n",
       "      <td>10000</td>\n",
       "      <td>elasticnet</td>\n",
       "      <td>{'C': 1000, 'class_weight': 'balanced', 'dual'...</td>\n",
       "      <td>...</td>\n",
       "      <td>NaN</td>\n",
       "      <td>NaN</td>\n",
       "      <td>23</td>\n",
       "      <td>NaN</td>\n",
       "      <td>NaN</td>\n",
       "      <td>NaN</td>\n",
       "      <td>NaN</td>\n",
       "      <td>NaN</td>\n",
       "      <td>NaN</td>\n",
       "      <td>NaN</td>\n",
       "    </tr>\n",
       "    <tr>\n",
       "      <th>15</th>\n",
       "      <td>1.165676</td>\n",
       "      <td>0.157408</td>\n",
       "      <td>0.005667</td>\n",
       "      <td>0.001613</td>\n",
       "      <td>1000</td>\n",
       "      <td>balanced</td>\n",
       "      <td>False</td>\n",
       "      <td>10000</td>\n",
       "      <td>l1</td>\n",
       "      <td>{'C': 1000, 'class_weight': 'balanced', 'dual'...</td>\n",
       "      <td>...</td>\n",
       "      <td>0.622983</td>\n",
       "      <td>0.007874</td>\n",
       "      <td>9</td>\n",
       "      <td>0.627127</td>\n",
       "      <td>0.625627</td>\n",
       "      <td>0.621696</td>\n",
       "      <td>0.624314</td>\n",
       "      <td>0.627100</td>\n",
       "      <td>0.625173</td>\n",
       "      <td>0.002028</td>\n",
       "    </tr>\n",
       "    <tr>\n",
       "      <th>16</th>\n",
       "      <td>0.078019</td>\n",
       "      <td>0.006948</td>\n",
       "      <td>0.003558</td>\n",
       "      <td>0.000173</td>\n",
       "      <td>1000</td>\n",
       "      <td>balanced</td>\n",
       "      <td>False</td>\n",
       "      <td>10000</td>\n",
       "      <td>l2</td>\n",
       "      <td>{'C': 1000, 'class_weight': 'balanced', 'dual'...</td>\n",
       "      <td>...</td>\n",
       "      <td>0.622988</td>\n",
       "      <td>0.007868</td>\n",
       "      <td>3</td>\n",
       "      <td>0.627133</td>\n",
       "      <td>0.625631</td>\n",
       "      <td>0.621699</td>\n",
       "      <td>0.624332</td>\n",
       "      <td>0.627102</td>\n",
       "      <td>0.625180</td>\n",
       "      <td>0.002027</td>\n",
       "    </tr>\n",
       "    <tr>\n",
       "      <th>17</th>\n",
       "      <td>0.002094</td>\n",
       "      <td>0.000257</td>\n",
       "      <td>0.000000</td>\n",
       "      <td>0.000000</td>\n",
       "      <td>1000</td>\n",
       "      <td>balanced</td>\n",
       "      <td>False</td>\n",
       "      <td>10000</td>\n",
       "      <td>elasticnet</td>\n",
       "      <td>{'C': 1000, 'class_weight': 'balanced', 'dual'...</td>\n",
       "      <td>...</td>\n",
       "      <td>NaN</td>\n",
       "      <td>NaN</td>\n",
       "      <td>16</td>\n",
       "      <td>NaN</td>\n",
       "      <td>NaN</td>\n",
       "      <td>NaN</td>\n",
       "      <td>NaN</td>\n",
       "      <td>NaN</td>\n",
       "      <td>NaN</td>\n",
       "      <td>NaN</td>\n",
       "    </tr>\n",
       "    <tr>\n",
       "      <th>18</th>\n",
       "      <td>0.014762</td>\n",
       "      <td>0.004123</td>\n",
       "      <td>0.000000</td>\n",
       "      <td>0.000000</td>\n",
       "      <td>10000</td>\n",
       "      <td>balanced</td>\n",
       "      <td>True</td>\n",
       "      <td>10000</td>\n",
       "      <td>l1</td>\n",
       "      <td>{'C': 10000, 'class_weight': 'balanced', 'dual...</td>\n",
       "      <td>...</td>\n",
       "      <td>NaN</td>\n",
       "      <td>NaN</td>\n",
       "      <td>15</td>\n",
       "      <td>NaN</td>\n",
       "      <td>NaN</td>\n",
       "      <td>NaN</td>\n",
       "      <td>NaN</td>\n",
       "      <td>NaN</td>\n",
       "      <td>NaN</td>\n",
       "      <td>NaN</td>\n",
       "    </tr>\n",
       "    <tr>\n",
       "      <th>19</th>\n",
       "      <td>40.308721</td>\n",
       "      <td>1.952736</td>\n",
       "      <td>0.005177</td>\n",
       "      <td>0.001347</td>\n",
       "      <td>10000</td>\n",
       "      <td>balanced</td>\n",
       "      <td>True</td>\n",
       "      <td>10000</td>\n",
       "      <td>l2</td>\n",
       "      <td>{'C': 10000, 'class_weight': 'balanced', 'dual...</td>\n",
       "      <td>...</td>\n",
       "      <td>0.577862</td>\n",
       "      <td>0.009830</td>\n",
       "      <td>12</td>\n",
       "      <td>0.584559</td>\n",
       "      <td>0.581884</td>\n",
       "      <td>0.583306</td>\n",
       "      <td>0.587377</td>\n",
       "      <td>0.580679</td>\n",
       "      <td>0.583561</td>\n",
       "      <td>0.002313</td>\n",
       "    </tr>\n",
       "    <tr>\n",
       "      <th>20</th>\n",
       "      <td>0.003268</td>\n",
       "      <td>0.000795</td>\n",
       "      <td>0.000000</td>\n",
       "      <td>0.000000</td>\n",
       "      <td>10000</td>\n",
       "      <td>balanced</td>\n",
       "      <td>True</td>\n",
       "      <td>10000</td>\n",
       "      <td>elasticnet</td>\n",
       "      <td>{'C': 10000, 'class_weight': 'balanced', 'dual...</td>\n",
       "      <td>...</td>\n",
       "      <td>NaN</td>\n",
       "      <td>NaN</td>\n",
       "      <td>14</td>\n",
       "      <td>NaN</td>\n",
       "      <td>NaN</td>\n",
       "      <td>NaN</td>\n",
       "      <td>NaN</td>\n",
       "      <td>NaN</td>\n",
       "      <td>NaN</td>\n",
       "      <td>NaN</td>\n",
       "    </tr>\n",
       "    <tr>\n",
       "      <th>21</th>\n",
       "      <td>1.219128</td>\n",
       "      <td>0.136604</td>\n",
       "      <td>0.004321</td>\n",
       "      <td>0.000419</td>\n",
       "      <td>10000</td>\n",
       "      <td>balanced</td>\n",
       "      <td>False</td>\n",
       "      <td>10000</td>\n",
       "      <td>l1</td>\n",
       "      <td>{'C': 10000, 'class_weight': 'balanced', 'dual...</td>\n",
       "      <td>...</td>\n",
       "      <td>0.622987</td>\n",
       "      <td>0.007875</td>\n",
       "      <td>4</td>\n",
       "      <td>0.627129</td>\n",
       "      <td>0.625631</td>\n",
       "      <td>0.621697</td>\n",
       "      <td>0.624326</td>\n",
       "      <td>0.627099</td>\n",
       "      <td>0.625176</td>\n",
       "      <td>0.002027</td>\n",
       "    </tr>\n",
       "    <tr>\n",
       "      <th>22</th>\n",
       "      <td>0.085484</td>\n",
       "      <td>0.014109</td>\n",
       "      <td>0.004330</td>\n",
       "      <td>0.000997</td>\n",
       "      <td>10000</td>\n",
       "      <td>balanced</td>\n",
       "      <td>False</td>\n",
       "      <td>10000</td>\n",
       "      <td>l2</td>\n",
       "      <td>{'C': 10000, 'class_weight': 'balanced', 'dual...</td>\n",
       "      <td>...</td>\n",
       "      <td>0.622987</td>\n",
       "      <td>0.007869</td>\n",
       "      <td>5</td>\n",
       "      <td>0.627132</td>\n",
       "      <td>0.625630</td>\n",
       "      <td>0.621702</td>\n",
       "      <td>0.624331</td>\n",
       "      <td>0.627103</td>\n",
       "      <td>0.625180</td>\n",
       "      <td>0.002026</td>\n",
       "    </tr>\n",
       "    <tr>\n",
       "      <th>23</th>\n",
       "      <td>0.002258</td>\n",
       "      <td>0.000395</td>\n",
       "      <td>0.000000</td>\n",
       "      <td>0.000000</td>\n",
       "      <td>10000</td>\n",
       "      <td>balanced</td>\n",
       "      <td>False</td>\n",
       "      <td>10000</td>\n",
       "      <td>elasticnet</td>\n",
       "      <td>{'C': 10000, 'class_weight': 'balanced', 'dual...</td>\n",
       "      <td>...</td>\n",
       "      <td>NaN</td>\n",
       "      <td>NaN</td>\n",
       "      <td>24</td>\n",
       "      <td>NaN</td>\n",
       "      <td>NaN</td>\n",
       "      <td>NaN</td>\n",
       "      <td>NaN</td>\n",
       "      <td>NaN</td>\n",
       "      <td>NaN</td>\n",
       "      <td>NaN</td>\n",
       "    </tr>\n",
       "  </tbody>\n",
       "</table>\n",
       "<p>24 rows × 25 columns</p>\n",
       "</div>"
      ],
      "text/plain": [
       "    mean_fit_time  std_fit_time  mean_score_time  std_score_time param_C  \\\n",
       "0        0.036908      0.024017         0.000000        0.000000      10   \n",
       "1        0.708879      0.075698         0.004318        0.000859      10   \n",
       "2        0.002086      0.000165         0.000000        0.000000      10   \n",
       "3        1.208206      0.376813         0.004911        0.001415      10   \n",
       "4        0.327451      0.145656         0.010985        0.005837      10   \n",
       "5        0.009775      0.007413         0.000000        0.000000      10   \n",
       "6        0.055500      0.039193         0.000000        0.000000     100   \n",
       "7        8.042251      0.930234         0.006349        0.003524     100   \n",
       "8        0.003458      0.000397         0.000000        0.000000     100   \n",
       "9        1.829475      0.199118         0.007847        0.001809     100   \n",
       "10       0.111218      0.022632         0.005184        0.001068     100   \n",
       "11       0.002494      0.000665         0.000000        0.000000     100   \n",
       "12       0.014951      0.000933         0.000000        0.000000    1000   \n",
       "13      40.119705      3.750656         0.011665        0.008806    1000   \n",
       "14       0.005518      0.005738         0.000000        0.000000    1000   \n",
       "15       1.165676      0.157408         0.005667        0.001613    1000   \n",
       "16       0.078019      0.006948         0.003558        0.000173    1000   \n",
       "17       0.002094      0.000257         0.000000        0.000000    1000   \n",
       "18       0.014762      0.004123         0.000000        0.000000   10000   \n",
       "19      40.308721      1.952736         0.005177        0.001347   10000   \n",
       "20       0.003268      0.000795         0.000000        0.000000   10000   \n",
       "21       1.219128      0.136604         0.004321        0.000419   10000   \n",
       "22       0.085484      0.014109         0.004330        0.000997   10000   \n",
       "23       0.002258      0.000395         0.000000        0.000000   10000   \n",
       "\n",
       "   param_class_weight param_dual param_max_iter param_penalty  \\\n",
       "0            balanced       True          10000            l1   \n",
       "1            balanced       True          10000            l2   \n",
       "2            balanced       True          10000    elasticnet   \n",
       "3            balanced      False          10000            l1   \n",
       "4            balanced      False          10000            l2   \n",
       "5            balanced      False          10000    elasticnet   \n",
       "6            balanced       True          10000            l1   \n",
       "7            balanced       True          10000            l2   \n",
       "8            balanced       True          10000    elasticnet   \n",
       "9            balanced      False          10000            l1   \n",
       "10           balanced      False          10000            l2   \n",
       "11           balanced      False          10000    elasticnet   \n",
       "12           balanced       True          10000            l1   \n",
       "13           balanced       True          10000            l2   \n",
       "14           balanced       True          10000    elasticnet   \n",
       "15           balanced      False          10000            l1   \n",
       "16           balanced      False          10000            l2   \n",
       "17           balanced      False          10000    elasticnet   \n",
       "18           balanced       True          10000            l1   \n",
       "19           balanced       True          10000            l2   \n",
       "20           balanced       True          10000    elasticnet   \n",
       "21           balanced      False          10000            l1   \n",
       "22           balanced      False          10000            l2   \n",
       "23           balanced      False          10000    elasticnet   \n",
       "\n",
       "                                               params  ...  mean_test_score  \\\n",
       "0   {'C': 10, 'class_weight': 'balanced', 'dual': ...  ...              NaN   \n",
       "1   {'C': 10, 'class_weight': 'balanced', 'dual': ...  ...         0.622965   \n",
       "2   {'C': 10, 'class_weight': 'balanced', 'dual': ...  ...              NaN   \n",
       "3   {'C': 10, 'class_weight': 'balanced', 'dual': ...  ...         0.622997   \n",
       "4   {'C': 10, 'class_weight': 'balanced', 'dual': ...  ...         0.622976   \n",
       "5   {'C': 10, 'class_weight': 'balanced', 'dual': ...  ...              NaN   \n",
       "6   {'C': 100, 'class_weight': 'balanced', 'dual':...  ...              NaN   \n",
       "7   {'C': 100, 'class_weight': 'balanced', 'dual':...  ...         0.622984   \n",
       "8   {'C': 100, 'class_weight': 'balanced', 'dual':...  ...              NaN   \n",
       "9   {'C': 100, 'class_weight': 'balanced', 'dual':...  ...         0.622986   \n",
       "10  {'C': 100, 'class_weight': 'balanced', 'dual':...  ...         0.622985   \n",
       "11  {'C': 100, 'class_weight': 'balanced', 'dual':...  ...              NaN   \n",
       "12  {'C': 1000, 'class_weight': 'balanced', 'dual'...  ...              NaN   \n",
       "13  {'C': 1000, 'class_weight': 'balanced', 'dual'...  ...         0.623001   \n",
       "14  {'C': 1000, 'class_weight': 'balanced', 'dual'...  ...              NaN   \n",
       "15  {'C': 1000, 'class_weight': 'balanced', 'dual'...  ...         0.622983   \n",
       "16  {'C': 1000, 'class_weight': 'balanced', 'dual'...  ...         0.622988   \n",
       "17  {'C': 1000, 'class_weight': 'balanced', 'dual'...  ...              NaN   \n",
       "18  {'C': 10000, 'class_weight': 'balanced', 'dual...  ...              NaN   \n",
       "19  {'C': 10000, 'class_weight': 'balanced', 'dual...  ...         0.577862   \n",
       "20  {'C': 10000, 'class_weight': 'balanced', 'dual...  ...              NaN   \n",
       "21  {'C': 10000, 'class_weight': 'balanced', 'dual...  ...         0.622987   \n",
       "22  {'C': 10000, 'class_weight': 'balanced', 'dual...  ...         0.622987   \n",
       "23  {'C': 10000, 'class_weight': 'balanced', 'dual...  ...              NaN   \n",
       "\n",
       "    std_test_score  rank_test_score  split0_train_score  split1_train_score  \\\n",
       "0              NaN               13                 NaN                 NaN   \n",
       "1         0.007864               11            0.627167            0.625619   \n",
       "2              NaN               22                 NaN                 NaN   \n",
       "3         0.007875                2            0.627150            0.625642   \n",
       "4         0.007878               10            0.627164            0.625620   \n",
       "5              NaN               21                 NaN                 NaN   \n",
       "6              NaN               20                 NaN                 NaN   \n",
       "7         0.007873                8            0.627130            0.625631   \n",
       "8              NaN               19                 NaN                 NaN   \n",
       "9         0.007873                6            0.627138            0.625626   \n",
       "10        0.007871                7            0.627132            0.625624   \n",
       "11             NaN               17                 NaN                 NaN   \n",
       "12             NaN               18                 NaN                 NaN   \n",
       "13        0.007859                1            0.627184            0.625658   \n",
       "14             NaN               23                 NaN                 NaN   \n",
       "15        0.007874                9            0.627127            0.625627   \n",
       "16        0.007868                3            0.627133            0.625631   \n",
       "17             NaN               16                 NaN                 NaN   \n",
       "18             NaN               15                 NaN                 NaN   \n",
       "19        0.009830               12            0.584559            0.581884   \n",
       "20             NaN               14                 NaN                 NaN   \n",
       "21        0.007875                4            0.627129            0.625631   \n",
       "22        0.007869                5            0.627132            0.625630   \n",
       "23             NaN               24                 NaN                 NaN   \n",
       "\n",
       "    split2_train_score  split3_train_score  split4_train_score  \\\n",
       "0                  NaN                 NaN                 NaN   \n",
       "1             0.621679            0.624308            0.627082   \n",
       "2                  NaN                 NaN                 NaN   \n",
       "3             0.621696            0.624300            0.627105   \n",
       "4             0.621685            0.624307            0.627083   \n",
       "5                  NaN                 NaN                 NaN   \n",
       "6                  NaN                 NaN                 NaN   \n",
       "7             0.621701            0.624329            0.627101   \n",
       "8                  NaN                 NaN                 NaN   \n",
       "9             0.621697            0.624321            0.627100   \n",
       "10            0.621698            0.624329            0.627101   \n",
       "11                 NaN                 NaN                 NaN   \n",
       "12                 NaN                 NaN                 NaN   \n",
       "13            0.621687            0.624348            0.627053   \n",
       "14                 NaN                 NaN                 NaN   \n",
       "15            0.621696            0.624314            0.627100   \n",
       "16            0.621699            0.624332            0.627102   \n",
       "17                 NaN                 NaN                 NaN   \n",
       "18                 NaN                 NaN                 NaN   \n",
       "19            0.583306            0.587377            0.580679   \n",
       "20                 NaN                 NaN                 NaN   \n",
       "21            0.621697            0.624326            0.627099   \n",
       "22            0.621702            0.624331            0.627103   \n",
       "23                 NaN                 NaN                 NaN   \n",
       "\n",
       "    mean_train_score  std_train_score  \n",
       "0                NaN              NaN  \n",
       "1           0.625171         0.002038  \n",
       "2                NaN              NaN  \n",
       "3           0.625179         0.002035  \n",
       "4           0.625172         0.002036  \n",
       "5                NaN              NaN  \n",
       "6                NaN              NaN  \n",
       "7           0.625178         0.002026  \n",
       "8                NaN              NaN  \n",
       "9           0.625176         0.002029  \n",
       "10          0.625177         0.002027  \n",
       "11               NaN              NaN  \n",
       "12               NaN              NaN  \n",
       "13          0.625186         0.002032  \n",
       "14               NaN              NaN  \n",
       "15          0.625173         0.002028  \n",
       "16          0.625180         0.002027  \n",
       "17               NaN              NaN  \n",
       "18               NaN              NaN  \n",
       "19          0.583561         0.002313  \n",
       "20               NaN              NaN  \n",
       "21          0.625176         0.002027  \n",
       "22          0.625180         0.002026  \n",
       "23               NaN              NaN  \n",
       "\n",
       "[24 rows x 25 columns]"
      ]
     },
     "execution_count": 254,
     "metadata": {},
     "output_type": "execute_result"
    }
   ],
   "source": [
    "skf = StratifiedKFold(n_splits = 5)\n",
    "\n",
    "param_grid = {'penalty' : ['l1', 'l2','elasticnet'],\n",
    "              'dual' : [True, False],\n",
    "              'C' : [10,100,1000,10000],\n",
    "              'class_weight' :['balanced'],\n",
    "              'max_iter' : [10000]\n",
    "              }\n",
    "\n",
    "opt_model2 = GridSearchCV(model2_log,\n",
    "                         param_grid,\n",
    "                         cv=skf,\n",
    "                         scoring='roc_auc',\n",
    "                         return_train_score=True)\n",
    "\n",
    "opt_model2.fit(X_train_resampled,y_train_resampled)\n",
    "\n",
    "pd.DataFrame(opt_model2.cv_results_)"
   ]
  },
  {
   "cell_type": "code",
   "execution_count": 391,
   "metadata": {},
   "outputs": [
    {
     "name": "stdout",
     "output_type": "stream",
     "text": [
      "best model:{'C': 1000, 'class_weight': 'balanced', 'dual': True, 'max_iter': 10000, 'penalty': 'l2'}\n",
      "best score: 0.6230013895514614\n"
     ]
    }
   ],
   "source": [
    "print(f'best model:{opt_model2.best_params_}')\n",
    "print(f'best score: {opt_model2.best_score_}')"
   ]
  },
  {
   "cell_type": "code",
   "execution_count": 200,
   "metadata": {},
   "outputs": [
    {
     "data": {
      "text/plain": [
       "0.0    0.755363\n",
       "1.0    0.244637\n",
       "Name: Arrested, dtype: float64"
      ]
     },
     "execution_count": 200,
     "metadata": {},
     "output_type": "execute_result"
    }
   ],
   "source": [
    "y_train.value_counts(normalize=True)"
   ]
  },
  {
   "cell_type": "code",
   "execution_count": 392,
   "metadata": {},
   "outputs": [
    {
     "name": "stdout",
     "output_type": "stream",
     "text": [
      "LogisticRegression(C=10, class_weight=None, dual=False, fit_intercept=False,\n",
      "                   intercept_scaling=1, l1_ratio=None, max_iter=100,\n",
      "                   multi_class='auto', n_jobs=None, penalty='l2',\n",
      "                   random_state=None, solver='liblinear', tol=0.0001, verbose=0,\n",
      "                   warm_start=False)\n",
      "AUC for 10: 0.6102400499234649\n",
      "-------------------------------------------------------\n",
      "LogisticRegression(C=100, class_weight=None, dual=False, fit_intercept=False,\n",
      "                   intercept_scaling=1, l1_ratio=None, max_iter=100,\n",
      "                   multi_class='auto', n_jobs=None, penalty='l2',\n",
      "                   random_state=None, solver='liblinear', tol=0.0001, verbose=0,\n",
      "                   warm_start=False)\n",
      "AUC for 100: 0.6102627242336714\n",
      "-------------------------------------------------------\n",
      "LogisticRegression(C=1000, class_weight=None, dual=False, fit_intercept=False,\n",
      "                   intercept_scaling=1, l1_ratio=None, max_iter=100,\n",
      "                   multi_class='auto', n_jobs=None, penalty='l2',\n",
      "                   random_state=None, solver='liblinear', tol=0.0001, verbose=0,\n",
      "                   warm_start=False)\n",
      "AUC for 1000: 0.6102673537912078\n",
      "-------------------------------------------------------\n",
      "LogisticRegression(C=1000000, class_weight=None, dual=False,\n",
      "                   fit_intercept=False, intercept_scaling=1, l1_ratio=None,\n",
      "                   max_iter=100, multi_class='auto', n_jobs=None, penalty='l2',\n",
      "                   random_state=None, solver='liblinear', tol=0.0001, verbose=0,\n",
      "                   warm_start=False)\n",
      "AUC for 1000000: 0.6102615668442873\n",
      "-------------------------------------------------------\n"
     ]
    }
   ],
   "source": [
    "\n",
    "C_param_range = [10, 100,1000, 1000000]\n",
    "names = [10, 100,1000, 1000000]\n",
    "\n",
    "\n",
    "for n, c in enumerate(C_param_range):\n",
    "    # Fit a model\n",
    "    logreg = LogisticRegression(fit_intercept=False, C=c, solver='liblinear')\n",
    "    model_log2 = logreg.fit(X_train, y_train)\n",
    "    print(model_log2) # Preview model params\n",
    "\n",
    "    # Predict\n",
    "    y_hat_test = logreg.predict(X_test)\n",
    "\n",
    "    y_score = logreg.fit(X_train, y_train).decision_function(X_test)\n",
    "\n",
    "    fpr, tpr, thresholds = roc_curve(y_test, y_score)\n",
    "    \n",
    "    print('AUC for {}: {}'.format(names[n], auc(fpr, tpr)))\n",
    "    print('-------------------------------------------------------')"
   ]
  },
  {
   "cell_type": "code",
   "execution_count": null,
   "metadata": {},
   "outputs": [],
   "source": []
  },
  {
   "cell_type": "code",
   "execution_count": null,
   "metadata": {},
   "outputs": [],
   "source": []
  },
  {
   "cell_type": "code",
   "execution_count": null,
   "metadata": {},
   "outputs": [],
   "source": []
  },
  {
   "cell_type": "code",
   "execution_count": null,
   "metadata": {},
   "outputs": [],
   "source": []
  },
  {
   "cell_type": "code",
   "execution_count": null,
   "metadata": {},
   "outputs": [],
   "source": [
    "penalty={‘l1’, ‘l2’, ‘elasticnet’, ‘none’}\n",
    "    dual=False, True\n",
    "    tol=0.0001,\n",
    "    C=1.0,\n",
    "    fit_intercept=True,\n",
    "    intercept_scaling=1,\n",
    "    class_weight=None,\n",
    "    random_state=None,\n",
    "    solver='lbfgs',\n",
    "    max_iter=100,\n",
    "    multi_class='auto',\n",
    "    verbose=0,\n",
    "    warm_start=False,\n",
    "    n_jobs=None,\n",
    "    l1_ratio=None,"
   ]
  },
  {
   "cell_type": "code",
   "execution_count": null,
   "metadata": {},
   "outputs": [],
   "source": []
  },
  {
   "cell_type": "code",
   "execution_count": null,
   "metadata": {},
   "outputs": [],
   "source": []
  },
  {
   "cell_type": "code",
   "execution_count": 137,
   "metadata": {},
   "outputs": [],
   "source": []
  },
  {
   "cell_type": "code",
   "execution_count": 204,
   "metadata": {},
   "outputs": [],
   "source": [
    "from sklearn.metrics import confusion_matrix"
   ]
  },
  {
   "cell_type": "code",
   "execution_count": 337,
   "metadata": {},
   "outputs": [],
   "source": []
  },
  {
   "cell_type": "code",
   "execution_count": 339,
   "metadata": {},
   "outputs": [],
   "source": []
  },
  {
   "cell_type": "code",
   "execution_count": 211,
   "metadata": {},
   "outputs": [
    {
     "data": {
      "text/plain": [
       "LogisticRegression(C=1.0, class_weight=None, dual=False, fit_intercept=True,\n",
       "                   intercept_scaling=1, l1_ratio=None, max_iter=100,\n",
       "                   multi_class='auto', n_jobs=None, penalty='l1',\n",
       "                   random_state=None, solver='saga', tol=0.0001, verbose=0,\n",
       "                   warm_start=False)"
      ]
     },
     "execution_count": 211,
     "metadata": {},
     "output_type": "execute_result"
    }
   ],
   "source": [
    "from sklearn.linear_model import LogisticRegression\n",
    "logreg = LogisticRegression( solver='saga', penalty='l1')\n",
    "lasso_log = logreg.fit(X_train, y_train)\n",
    "lasso_log"
   ]
  },
  {
   "cell_type": "code",
   "execution_count": 212,
   "metadata": {},
   "outputs": [
    {
     "data": {
      "text/plain": [
       "0.755928810756712"
      ]
     },
     "execution_count": 212,
     "metadata": {},
     "output_type": "execute_result"
    }
   ],
   "source": [
    "lasso_log.score(X_train, y_train)"
   ]
  },
  {
   "cell_type": "code",
   "execution_count": 213,
   "metadata": {},
   "outputs": [
    {
     "data": {
      "text/plain": [
       "0.7565345080763582"
      ]
     },
     "execution_count": 213,
     "metadata": {},
     "output_type": "execute_result"
    }
   ],
   "source": [
    "lasso_log.score(X_test, y_test)"
   ]
  },
  {
   "cell_type": "code",
   "execution_count": 214,
   "metadata": {},
   "outputs": [
    {
     "name": "stdout",
     "output_type": "stream",
     "text": [
      "Accuracy of model = 0.7598224774833573\n",
      "ROC_AUC of model = 0.512860057215608\n"
     ]
    }
   ],
   "source": [
    "y_val_pred_L1 = lasso_log.predict(X_val)\n",
    "\n",
    "print(\"Accuracy of model =\", accuracy_score(y_val, y_val_pred_L1))\n",
    "\n",
    "print(\"ROC_AUC of model =\", roc_auc_score(y_val, y_val_pred_L1))"
   ]
  },
  {
   "cell_type": "code",
   "execution_count": 215,
   "metadata": {},
   "outputs": [
    {
     "name": "stdout",
     "output_type": "stream",
     "text": [
      "Intercept = [-3.37622359]\n",
      "Coefficients = [[ 2.51016260e+00  2.17395985e+00  2.43750342e+00  2.09784267e+00\n",
      "   2.51145188e+00  1.39909641e-01  2.90408175e-01  1.90434832e-01\n",
      "  -3.67971545e-04  2.47533638e-02  6.70672588e-02 -1.27016272e-01\n",
      "   3.00601719e-02  0.00000000e+00  1.03110579e-01  1.55426655e-01\n",
      "   8.08000890e-02 -5.96256476e-02 -2.17317035e-01 -2.78473083e-01\n",
      "  -5.17626514e-01 -6.76082729e-01 -2.35761235e-01  6.93167398e-01\n",
      "   5.44878956e-01  3.55477386e-01  1.65547908e-01  1.68982662e-01\n",
      "  -8.04703277e-01  1.69334948e-01]]\n",
      "['Weapon_Type', 'Officer_Gender', 'Subject_Perceived_Gender', 'Reported_Time', 'Frisk_Flag', 'Precinct', 'Subject_Age_Group', 'Officer_Race', 'Subject_Perceived_Race', 'Year', 'Month', 'Officer_Age_Group']\n"
     ]
    }
   ],
   "source": [
    "\n",
    "intercept = lasso_log.intercept_\n",
    "print(\"Intercept =\", intercept)\n",
    "\n",
    "coefs = lasso_log.coef_\n",
    "cols = list(X.columns)\n",
    "print(\"Coefficients =\", coefs)\n",
    "print(cols)"
   ]
  },
  {
   "cell_type": "markdown",
   "metadata": {},
   "source": [
    "# K-Nearest Neighbours"
   ]
  },
  {
   "cell_type": "code",
   "execution_count": 270,
   "metadata": {},
   "outputs": [],
   "source": [
    "from sklearn.neighbors import KNeighborsClassifier"
   ]
  },
  {
   "cell_type": "code",
   "execution_count": 271,
   "metadata": {},
   "outputs": [
    {
     "data": {
      "text/plain": [
       "KNeighborsClassifier(algorithm='auto', leaf_size=30, metric='minkowski',\n",
       "                     metric_params=None, n_jobs=None, n_neighbors=5, p=2,\n",
       "                     weights='uniform')"
      ]
     },
     "execution_count": 271,
     "metadata": {},
     "output_type": "execute_result"
    }
   ],
   "source": [
    "clf = KNeighborsClassifier()\n",
    "clf.fit(X_train, y_train)"
   ]
  },
  {
   "cell_type": "code",
   "execution_count": 272,
   "metadata": {},
   "outputs": [
    {
     "ename": "NameError",
     "evalue": "name 'kwargs' is not defined",
     "output_type": "error",
     "traceback": [
      "\u001b[0;31m---------------------------------------------------------------------------\u001b[0m",
      "\u001b[0;31mNameError\u001b[0m                                 Traceback (most recent call last)",
      "\u001b[0;32m<ipython-input-272-4c5d7a4081e3>\u001b[0m in \u001b[0;36m<module>\u001b[0;34m\u001b[0m\n\u001b[1;32m      8\u001b[0m     \u001b[0mmetric_params\u001b[0m\u001b[0;34m=\u001b[0m\u001b[0;32mNone\u001b[0m\u001b[0;34m,\u001b[0m\u001b[0;34m\u001b[0m\u001b[0;34m\u001b[0m\u001b[0m\n\u001b[1;32m      9\u001b[0m     \u001b[0mn_jobs\u001b[0m\u001b[0;34m=\u001b[0m\u001b[0;32mNone\u001b[0m\u001b[0;34m,\u001b[0m\u001b[0;34m\u001b[0m\u001b[0;34m\u001b[0m\u001b[0m\n\u001b[0;32m---> 10\u001b[0;31m     \u001b[0;34m**\u001b[0m\u001b[0mkwargs\u001b[0m\u001b[0;34m,\u001b[0m\u001b[0;34m\u001b[0m\u001b[0;34m\u001b[0m\u001b[0m\n\u001b[0m\u001b[1;32m     11\u001b[0m )\n",
      "\u001b[0;31mNameError\u001b[0m: name 'kwargs' is not defined"
     ]
    }
   ],
   "source": [
    "KNeighborsClassifier(\n",
    "    n_neighbors=5,\n",
    "    weights='uniform',\n",
    "    algorithm='auto',\n",
    "    leaf_size=30,\n",
    "    p=2,\n",
    "    metric='minkowski',\n",
    "    metric_params=None,\n",
    "    n_jobs=None,\n",
    "    **kwargs,\n",
    ")"
   ]
  },
  {
   "cell_type": "code",
   "execution_count": 273,
   "metadata": {},
   "outputs": [],
   "source": [
    "test_preds = clf.predict(X_train)"
   ]
  },
  {
   "cell_type": "code",
   "execution_count": 274,
   "metadata": {},
   "outputs": [],
   "source": [
    "from sklearn.metrics import precision_score, recall_score, accuracy_score, f1_score"
   ]
  },
  {
   "cell_type": "code",
   "execution_count": 275,
   "metadata": {},
   "outputs": [
    {
     "name": "stdout",
     "output_type": "stream",
     "text": [
      "Precision Score: 0.45287698412698413\n",
      "Recall Score: 0.1623977232301672\n",
      "Accuracy Score: 0.7470954266568034\n",
      "F1 Score: 0.2390678188007332\n"
     ]
    }
   ],
   "source": [
    "def print_metrics(labels, preds):\n",
    "    print(\"Precision Score: {}\".format(precision_score(labels, preds)))\n",
    "    print(\"Recall Score: {}\".format(recall_score(labels, preds)))\n",
    "    print(\"Accuracy Score: {}\".format(accuracy_score(labels, preds)))\n",
    "    print(\"F1 Score: {}\".format(f1_score(labels, preds)))\n",
    "    \n",
    "print_metrics(y_train, test_preds)"
   ]
  },
  {
   "cell_type": "code",
   "execution_count": 276,
   "metadata": {},
   "outputs": [],
   "source": [
    "def find_best_k(X_train, y_train, X_test, y_test, min_k=1, max_k=25):\n",
    "    best_k = 0\n",
    "    best_score = 0.0\n",
    "    for k in range(min_k, max_k+1, 2):\n",
    "        knn = KNeighborsClassifier(n_neighbors=k)\n",
    "        knn.fit(X_train, y_train)\n",
    "        preds = knn.predict(X_test)\n",
    "        f1 = f1_score(y_test, preds)\n",
    "        if f1 > best_score:\n",
    "            best_k = k\n",
    "            best_score = f1\n",
    "    \n",
    "    print(\"Best Value for k: {}\".format(best_k))\n",
    "    print(\"F1-Score: {}\".format(best_score))"
   ]
  },
  {
   "cell_type": "code",
   "execution_count": 277,
   "metadata": {},
   "outputs": [
    {
     "name": "stdout",
     "output_type": "stream",
     "text": [
      "Best Value for k: 1\n",
      "F1-Score: 0.26666666666666666\n"
     ]
    }
   ],
   "source": [
    "find_best_k(X_train, y_train, X_test, y_test)"
   ]
  },
  {
   "cell_type": "markdown",
   "metadata": {},
   "source": [
    "# Decision Trees"
   ]
  },
  {
   "cell_type": "code",
   "execution_count": 261,
   "metadata": {},
   "outputs": [],
   "source": [
    "from sklearn.model_selection import train_test_split\n",
    "from sklearn.tree import DecisionTreeClassifier \n",
    "from sklearn.metrics import accuracy_score, roc_curve, auc\n",
    "from sklearn.tree import export_graphviz\n",
    "from IPython.display import Image  \n",
    "from pydotplus import graph_from_dot_data"
   ]
  },
  {
   "cell_type": "code",
   "execution_count": 262,
   "metadata": {},
   "outputs": [
    {
     "data": {
      "text/plain": [
       "DecisionTreeClassifier(ccp_alpha=0.0, class_weight=None, criterion='gini',\n",
       "                       max_depth=None, max_features=None, max_leaf_nodes=None,\n",
       "                       min_impurity_decrease=0.0, min_impurity_split=None,\n",
       "                       min_samples_leaf=1, min_samples_split=2,\n",
       "                       min_weight_fraction_leaf=0.0, presort='deprecated',\n",
       "                       random_state=10, splitter='best')"
      ]
     },
     "execution_count": 262,
     "metadata": {},
     "output_type": "execute_result"
    }
   ],
   "source": [
    "classifier = DecisionTreeClassifier(random_state=10)  \n",
    "classifier.fit(X_train, y_train) "
   ]
  },
  {
   "cell_type": "code",
   "execution_count": 263,
   "metadata": {},
   "outputs": [
    {
     "ename": "IndentationError",
     "evalue": "unexpected indent (<ipython-input-263-0a41684a4dfd>, line 2)",
     "output_type": "error",
     "traceback": [
      "\u001b[0;36m  File \u001b[0;32m\"<ipython-input-263-0a41684a4dfd>\"\u001b[0;36m, line \u001b[0;32m2\u001b[0m\n\u001b[0;31m    splitter='best',\u001b[0m\n\u001b[0m    ^\u001b[0m\n\u001b[0;31mIndentationError\u001b[0m\u001b[0;31m:\u001b[0m unexpected indent\n"
     ]
    }
   ],
   "source": [
    "  criterion='gini',\n",
    "    splitter='best',\n",
    "    max_depth=None,\n",
    "    min_samples_split=2,\n",
    "    min_samples_leaf=1,\n",
    "    min_weight_fraction_leaf=0.0,\n",
    "    max_features=None,\n",
    "    random_state=None,\n",
    "    max_leaf_nodes=None,\n",
    "    min_impurity_decrease=0.0,\n",
    "    min_impurity_split=None,\n",
    "    class_weight=None,\n",
    "    presort='deprecated',\n",
    "    ccp_alpha=0.0,"
   ]
  },
  {
   "cell_type": "code",
   "execution_count": 264,
   "metadata": {},
   "outputs": [],
   "source": [
    "y_dt_pred = classifier.predict(X_test) "
   ]
  },
  {
   "cell_type": "code",
   "execution_count": 265,
   "metadata": {},
   "outputs": [
    {
     "name": "stdout",
     "output_type": "stream",
     "text": [
      "Accuracy is :74.82134116495351\n",
      "\n",
      "AUC is :0.51\n",
      "\n",
      "Confusion Matrix\n",
      "----------------\n"
     ]
    },
    {
     "data": {
      "text/html": [
       "<div>\n",
       "<style scoped>\n",
       "    .dataframe tbody tr th:only-of-type {\n",
       "        vertical-align: middle;\n",
       "    }\n",
       "\n",
       "    .dataframe tbody tr th {\n",
       "        vertical-align: top;\n",
       "    }\n",
       "\n",
       "    .dataframe thead th {\n",
       "        text-align: right;\n",
       "    }\n",
       "</style>\n",
       "<table border=\"1\" class=\"dataframe\">\n",
       "  <thead>\n",
       "    <tr style=\"text-align: right;\">\n",
       "      <th>Predicted</th>\n",
       "      <th>0.0</th>\n",
       "      <th>1.0</th>\n",
       "      <th>All</th>\n",
       "    </tr>\n",
       "    <tr>\n",
       "      <th>True</th>\n",
       "      <th></th>\n",
       "      <th></th>\n",
       "      <th></th>\n",
       "    </tr>\n",
       "  </thead>\n",
       "  <tbody>\n",
       "    <tr>\n",
       "      <th>0.0</th>\n",
       "      <td>7481</td>\n",
       "      <td>287</td>\n",
       "      <td>7768</td>\n",
       "    </tr>\n",
       "    <tr>\n",
       "      <th>1.0</th>\n",
       "      <td>2285</td>\n",
       "      <td>162</td>\n",
       "      <td>2447</td>\n",
       "    </tr>\n",
       "    <tr>\n",
       "      <th>All</th>\n",
       "      <td>9766</td>\n",
       "      <td>449</td>\n",
       "      <td>10215</td>\n",
       "    </tr>\n",
       "  </tbody>\n",
       "</table>\n",
       "</div>"
      ],
      "text/plain": [
       "Predicted   0.0  1.0    All\n",
       "True                       \n",
       "0.0        7481  287   7768\n",
       "1.0        2285  162   2447\n",
       "All        9766  449  10215"
      ]
     },
     "execution_count": 265,
     "metadata": {},
     "output_type": "execute_result"
    }
   ],
   "source": [
    "acc = accuracy_score(y_test,y_dt_pred) * 100\n",
    "print('Accuracy is :{0}'.format(acc))\n",
    "\n",
    "# Check the AUC for predictions\n",
    "false_positive_rate, true_positive_rate, thresholds = roc_curve(y_test, y_dt_pred)\n",
    "roc_auc = auc(false_positive_rate, true_positive_rate)\n",
    "print('\\nAUC is :{0}'.format(round(roc_auc, 2)))\n",
    "\n",
    "# Create and print a confusion matrix \n",
    "print('\\nConfusion Matrix')\n",
    "print('----------------')\n",
    "pd.crosstab(y_test, y_dt_pred, rownames=['True'], colnames=['Predicted'], margins=True)"
   ]
  },
  {
   "cell_type": "code",
   "execution_count": 280,
   "metadata": {},
   "outputs": [
    {
     "data": {
      "text/plain": [
       "array([0.03137384, 0.01723865, 0.03359541, 0.02921679, 0.01763146,\n",
       "       0.05050578, 0.0563482 , 0.05133535, 0.0397546 , 0.03155566,\n",
       "       0.031867  , 0.02798163, 0.02674013, 0.01014512, 0.02735779,\n",
       "       0.04805716, 0.03036308, 0.03943524, 0.03603916, 0.02367809,\n",
       "       0.01416497, 0.02647006, 0.04970648, 0.03777424, 0.04523947,\n",
       "       0.03080573, 0.0293313 , 0.01022536, 0.08095547, 0.01510677])"
      ]
     },
     "execution_count": 280,
     "metadata": {},
     "output_type": "execute_result"
    }
   ],
   "source": [
    "classifier.feature_importances_"
   ]
  },
  {
   "cell_type": "code",
   "execution_count": 281,
   "metadata": {},
   "outputs": [
    {
     "data": {
      "image/png": "[encoded data removed]",
      "text/plain": [
       "<Figure size 576x576 with 1 Axes>"
      ]
     },
     "metadata": {
      "needs_background": "light"
     },
     "output_type": "display_data"
    }
   ],
   "source": [
    "def plot_feature_importances(model):\n",
    "    n_features = X_train.shape[1]\n",
    "    plt.figure(figsize=(8,8))\n",
    "    plt.barh(range(n_features), model.feature_importances_, align='center') \n",
    "    plt.yticks(np.arange(n_features), X_train.columns.values) \n",
    "    plt.xlabel('Feature importance')\n",
    "    plt.ylabel('Feature')\n",
    "\n",
    "plot_feature_importances(classifier)"
   ]
  },
  {
   "cell_type": "code",
   "execution_count": 266,
   "metadata": {},
   "outputs": [
    {
     "data": {
      "text/plain": [
       "DecisionTreeClassifier(ccp_alpha=0.0, class_weight=None, criterion='entropy',\n",
       "                       max_depth=None, max_features=None, max_leaf_nodes=None,\n",
       "                       min_impurity_decrease=0.0, min_impurity_split=None,\n",
       "                       min_samples_leaf=1, min_samples_split=2,\n",
       "                       min_weight_fraction_leaf=0.0, presort='deprecated',\n",
       "                       random_state=10, splitter='best')"
      ]
     },
     "execution_count": 266,
     "metadata": {},
     "output_type": "execute_result"
    }
   ],
   "source": [
    "classifier_2 = DecisionTreeClassifier(random_state=10, criterion='entropy')  \n",
    "classifier_2.fit(X_train, y_train)"
   ]
  },
  {
   "cell_type": "code",
   "execution_count": 267,
   "metadata": {},
   "outputs": [],
   "source": [
    "y_dt2_pred = classifier_2.predict(X_test) "
   ]
  },
  {
   "cell_type": "code",
   "execution_count": 269,
   "metadata": {},
   "outputs": [
    {
     "name": "stdout",
     "output_type": "stream",
     "text": [
      "Accuracy is :74.6059716103769\n",
      "\n",
      "AUC is :0.51\n",
      "\n",
      "Confusion Matrix\n",
      "----------------\n"
     ]
    },
    {
     "data": {
      "text/html": [
       "<div>\n",
       "<style scoped>\n",
       "    .dataframe tbody tr th:only-of-type {\n",
       "        vertical-align: middle;\n",
       "    }\n",
       "\n",
       "    .dataframe tbody tr th {\n",
       "        vertical-align: top;\n",
       "    }\n",
       "\n",
       "    .dataframe thead th {\n",
       "        text-align: right;\n",
       "    }\n",
       "</style>\n",
       "<table border=\"1\" class=\"dataframe\">\n",
       "  <thead>\n",
       "    <tr style=\"text-align: right;\">\n",
       "      <th>Predicted</th>\n",
       "      <th>0.0</th>\n",
       "      <th>1.0</th>\n",
       "      <th>All</th>\n",
       "    </tr>\n",
       "    <tr>\n",
       "      <th>True</th>\n",
       "      <th></th>\n",
       "      <th></th>\n",
       "      <th></th>\n",
       "    </tr>\n",
       "  </thead>\n",
       "  <tbody>\n",
       "    <tr>\n",
       "      <th>0.0</th>\n",
       "      <td>7458</td>\n",
       "      <td>310</td>\n",
       "      <td>7768</td>\n",
       "    </tr>\n",
       "    <tr>\n",
       "      <th>1.0</th>\n",
       "      <td>2284</td>\n",
       "      <td>163</td>\n",
       "      <td>2447</td>\n",
       "    </tr>\n",
       "    <tr>\n",
       "      <th>All</th>\n",
       "      <td>9742</td>\n",
       "      <td>473</td>\n",
       "      <td>10215</td>\n",
       "    </tr>\n",
       "  </tbody>\n",
       "</table>\n",
       "</div>"
      ],
      "text/plain": [
       "Predicted   0.0  1.0    All\n",
       "True                       \n",
       "0.0        7458  310   7768\n",
       "1.0        2284  163   2447\n",
       "All        9742  473  10215"
      ]
     },
     "execution_count": 269,
     "metadata": {},
     "output_type": "execute_result"
    }
   ],
   "source": [
    "acc = accuracy_score(y_test,y_dt2_pred) * 100\n",
    "print('Accuracy is :{0}'.format(acc))\n",
    "\n",
    "# Check the AUC for predictions\n",
    "false_positive_rate, true_positive_rate, thresholds = roc_curve(y_test, y_dt2_pred)\n",
    "roc_auc = auc(false_positive_rate, true_positive_rate)\n",
    "print('\\nAUC is :{0}'.format(round(roc_auc, 2)))\n",
    "\n",
    "# Create and print a confusion matrix \n",
    "print('\\nConfusion Matrix')\n",
    "print('----------------')\n",
    "pd.crosstab(y_test, y_dt2_pred, rownames=['True'], colnames=['Predicted'], margins=True)"
   ]
  },
  {
   "cell_type": "code",
   "execution_count": 283,
   "metadata": {},
   "outputs": [
    {
     "data": {
      "text/plain": [
       "array([0.04073386, 0.01941815, 0.0670433 , 0.0185288 , 0.06466682,\n",
       "       0.04086394, 0.03445837, 0.05435525, 0.04883397, 0.03141432,\n",
       "       0.02860003, 0.02638369, 0.02697766, 0.01304843, 0.02731722,\n",
       "       0.03452887, 0.02919297, 0.03163001, 0.03285673, 0.02922138,\n",
       "       0.01403266, 0.02150038, 0.03545345, 0.04188513, 0.04269601,\n",
       "       0.03137389, 0.02586889, 0.00763151, 0.06285632, 0.01662801])"
      ]
     },
     "execution_count": 283,
     "metadata": {},
     "output_type": "execute_result"
    }
   ],
   "source": [
    "classifier_2.feature_importances_"
   ]
  },
  {
   "cell_type": "code",
   "execution_count": 284,
   "metadata": {},
   "outputs": [
    {
     "data": {
      "image/png": "[encoded data removed]",
      "text/plain": [
       "<Figure size 576x576 with 1 Axes>"
      ]
     },
     "metadata": {
      "needs_background": "light"
     },
     "output_type": "display_data"
    }
   ],
   "source": [
    "def plot_feature_importances(model):\n",
    "    n_features = X_train.shape[1]\n",
    "    plt.figure(figsize=(8,8))\n",
    "    plt.barh(range(n_features), model.feature_importances_, align='center') \n",
    "    plt.yticks(np.arange(n_features), X_train.columns.values) \n",
    "    plt.xlabel('Feature importance')\n",
    "    plt.ylabel('Feature')\n",
    "\n",
    "plot_feature_importances(classifier_2)"
   ]
  },
  {
   "cell_type": "markdown",
   "metadata": {},
   "source": [
    "# Decision Tree Regressor"
   ]
  },
  {
   "cell_type": "code",
   "execution_count": 278,
   "metadata": {},
   "outputs": [
    {
     "data": {
      "text/plain": [
       "DecisionTreeRegressor(ccp_alpha=0.0, criterion='mse', max_depth=None,\n",
       "                      max_features=None, max_leaf_nodes=None,\n",
       "                      min_impurity_decrease=0.0, min_impurity_split=None,\n",
       "                      min_samples_leaf=1, min_samples_split=2,\n",
       "                      min_weight_fraction_leaf=0.0, presort='deprecated',\n",
       "                      random_state=42, splitter='best')"
      ]
     },
     "execution_count": 278,
     "metadata": {},
     "output_type": "execute_result"
    }
   ],
   "source": [
    "from sklearn.tree import DecisionTreeRegressor  \n",
    "\n",
    "# Instantiate and fit a regression tree model to training data \n",
    "regressor = DecisionTreeRegressor(random_state=42)  \n",
    "regressor.fit(X_train, y_train)  "
   ]
  },
  {
   "cell_type": "code",
   "execution_count": 279,
   "metadata": {},
   "outputs": [
    {
     "name": "stdout",
     "output_type": "stream",
     "text": [
      "Mean Absolute Error: 0.34826327923908035\n",
      "Mean Squared Error: 0.19597135166973603\n",
      "Root Mean Squared Error: 0.4426865162501971\n"
     ]
    }
   ],
   "source": [
    "from sklearn.metrics import mean_absolute_error, mean_squared_error\n",
    "\n",
    "# Make predictions on the test set\n",
    "y_pred_DTR = regressor.predict(X_test) \n",
    "\n",
    "# Evaluate these predictions\n",
    "print('Mean Absolute Error:', mean_absolute_error(y_test, y_pred_DTR))  \n",
    "print('Mean Squared Error:', mean_squared_error(y_test, y_pred_DTR))  \n",
    "print('Root Mean Squared Error:', np.sqrt(mean_squared_error(y_test, y_pred_DTR)))"
   ]
  },
  {
   "cell_type": "markdown",
   "metadata": {},
   "source": [
    "# Bagging"
   ]
  },
  {
   "cell_type": "code",
   "execution_count": 286,
   "metadata": {},
   "outputs": [],
   "source": [
    "from sklearn.ensemble import BaggingClassifier, RandomForestClassifier"
   ]
  },
  {
   "cell_type": "code",
   "execution_count": 292,
   "metadata": {},
   "outputs": [],
   "source": [
    "bagged_tree =  BaggingClassifier(DecisionTreeClassifier(criterion='gini', max_depth=5), \n",
    "                                 n_estimators=20)"
   ]
  },
  {
   "cell_type": "code",
   "execution_count": 293,
   "metadata": {},
   "outputs": [
    {
     "data": {
      "text/plain": [
       "BaggingClassifier(base_estimator=DecisionTreeClassifier(ccp_alpha=0.0,\n",
       "                                                        class_weight=None,\n",
       "                                                        criterion='gini',\n",
       "                                                        max_depth=5,\n",
       "                                                        max_features=None,\n",
       "                                                        max_leaf_nodes=None,\n",
       "                                                        min_impurity_decrease=0.0,\n",
       "                                                        min_impurity_split=None,\n",
       "                                                        min_samples_leaf=1,\n",
       "                                                        min_samples_split=2,\n",
       "                                                        min_weight_fraction_leaf=0.0,\n",
       "                                                        presort='deprecated',\n",
       "                                                        random_state=None,\n",
       "                                                        splitter='best'),\n",
       "                  bootstrap=True, bootstrap_features=False, max_features=1.0,\n",
       "                  max_samples=1.0, n_estimators=20, n_jobs=None,\n",
       "                  oob_score=False, random_state=None, verbose=0,\n",
       "                  warm_start=False)"
      ]
     },
     "execution_count": 293,
     "metadata": {},
     "output_type": "execute_result"
    }
   ],
   "source": [
    "bagged_tree.fit(X_train, y_train)"
   ]
  },
  {
   "cell_type": "code",
   "execution_count": 294,
   "metadata": {},
   "outputs": [
    {
     "data": {
      "text/plain": [
       "0.757756407467038"
      ]
     },
     "execution_count": 294,
     "metadata": {},
     "output_type": "execute_result"
    }
   ],
   "source": [
    "bagged_tree.score(X_train, y_train)"
   ]
  },
  {
   "cell_type": "code",
   "execution_count": 295,
   "metadata": {},
   "outputs": [
    {
     "data": {
      "text/plain": [
       "0.7610376896720509"
      ]
     },
     "execution_count": 295,
     "metadata": {},
     "output_type": "execute_result"
    }
   ],
   "source": [
    "bagged_tree.score(X_test, y_test)"
   ]
  },
  {
   "cell_type": "markdown",
   "metadata": {},
   "source": [
    "# Random Forest"
   ]
  },
  {
   "cell_type": "code",
   "execution_count": 288,
   "metadata": {},
   "outputs": [
    {
     "data": {
      "text/plain": [
       "RandomForestClassifier(bootstrap=True, ccp_alpha=0.0, class_weight=None,\n",
       "                       criterion='gini', max_depth=5, max_features='auto',\n",
       "                       max_leaf_nodes=None, max_samples=None,\n",
       "                       min_impurity_decrease=0.0, min_impurity_split=None,\n",
       "                       min_samples_leaf=1, min_samples_split=2,\n",
       "                       min_weight_fraction_leaf=0.0, n_estimators=100,\n",
       "                       n_jobs=None, oob_score=False, random_state=None,\n",
       "                       verbose=0, warm_start=False)"
      ]
     },
     "execution_count": 288,
     "metadata": {},
     "output_type": "execute_result"
    }
   ],
   "source": [
    "forest = RandomForestClassifier(n_estimators=100, max_depth= 5)\n",
    "forest.fit(X_train, y_train)"
   ]
  },
  {
   "cell_type": "code",
   "execution_count": 289,
   "metadata": {},
   "outputs": [
    {
     "data": {
      "text/plain": [
       "0.7554066402680475"
      ]
     },
     "execution_count": 289,
     "metadata": {},
     "output_type": "execute_result"
    }
   ],
   "source": [
    "forest.score(X_train, y_train)"
   ]
  },
  {
   "cell_type": "code",
   "execution_count": 290,
   "metadata": {},
   "outputs": [
    {
     "data": {
      "text/plain": [
       "0.7604503181595693"
      ]
     },
     "execution_count": 290,
     "metadata": {},
     "output_type": "execute_result"
    }
   ],
   "source": [
    "forest.score(X_test, y_test)"
   ]
  },
  {
   "cell_type": "code",
   "execution_count": 291,
   "metadata": {},
   "outputs": [
    {
     "data": {
      "image/png": "[encoded data removed]",
      "text/plain": [
       "<Figure size 576x576 with 1 Axes>"
      ]
     },
     "metadata": {
      "needs_background": "light"
     },
     "output_type": "display_data"
    }
   ],
   "source": [
    "plot_feature_importances(forest)"
   ]
  },
  {
   "cell_type": "code",
   "execution_count": null,
   "metadata": {},
   "outputs": [],
   "source": []
  }
 ],
 "metadata": {
  "kernelspec": {
   "display_name": "Python 3",
   "language": "python",
   "name": "python3"
  },
  "language_info": {
   "codemirror_mode": {
    "name": "ipython",
    "version": 3
   },
   "file_extension": ".py",
   "mimetype": "text/x-python",
   "name": "python",
   "nbconvert_exporter": "python",
   "pygments_lexer": "ipython3",
   "version": "3.7.3"
  }
 },
 "nbformat": 4,
 "nbformat_minor": 4
}
