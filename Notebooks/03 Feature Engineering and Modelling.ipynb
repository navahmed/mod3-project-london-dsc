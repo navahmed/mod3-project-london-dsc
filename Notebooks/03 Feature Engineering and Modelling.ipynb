{
 "cells": [
  {
   "cell_type": "markdown",
   "metadata": {},
   "source": [
    "# Introduction"
   ]
  },
  {
   "cell_type": "markdown",
   "metadata": {},
   "source": [
    "This Section of the project will look at Feature Engineering and Modelling.\n",
    "\n",
    "Contents\n",
    "\n",
    "1) Feature Engineering \n",
    "        \n",
    "2) Baseline Model (Logistic Regression) & Hyperparameter Optimisation\n",
    "\n",
    "3) K-Nearest Neighbours & Hyperparameter Optimisation\n",
    "\n",
    "4) Decision Trees & Hyperparameter Optimisation\n",
    "\n",
    "5) Random Forests & Hyperparameter Optimisation\n",
    "\n",
    "6) Model Selection and Interpretation\n",
    "\n",
    "7) Threshold Selection\n",
    "\n",
    "8) Summary and Conclusions."
   ]
  },
  {
   "cell_type": "code",
   "execution_count": 60,
   "metadata": {},
   "outputs": [],
   "source": [
    "import pandas as pd\n",
    "from sklearn.ensemble import BaggingClassifier, RandomForestClassifier\n",
    "from sklearn.model_selection import train_test_split\n",
    "from sklearn.tree import DecisionTreeClassifier \n",
    "from sklearn.metrics import accuracy_score, roc_curve, auc\n",
    "from sklearn.tree import export_graphviz\n",
    "from IPython.display import Image  \n",
    "from pydotplus import graph_from_dot_data\n",
    "from sklearn.neighbors import KNeighborsClassifier\n",
    "from sklearn.preprocessing import OneHotEncoder\n",
    "import matplotlib.pyplot as plt\n",
    "%matplotlib inline\n",
    "from sklearn.model_selection import train_test_split\n",
    "from sklearn.linear_model import LogisticRegression\n",
    "from sklearn import metrics\n",
    "from sklearn.metrics import accuracy_score, roc_auc_score\n",
    "from sklearn.model_selection import GridSearchCV, StratifiedKFold\n",
    "from sklearn.metrics import precision_score, recall_score, accuracy_score, f1_score\n",
    "from imblearn.over_sampling import SMOTE\n",
    "import numpy as np\n",
    "from sklearn.metrics import precision_score, recall_score, accuracy_score, f1_score\n",
    "from sklearn.metrics import confusion_matrix\n",
    "import itertools"
   ]
  },
  {
   "cell_type": "code",
   "execution_count": 12,
   "metadata": {},
   "outputs": [
    {
     "name": "stderr",
     "output_type": "stream",
     "text": [
      "//anaconda3/lib/python3.7/site-packages/IPython/core/interactiveshell.py:3057: DtypeWarning: Columns (7) have mixed types.Specify dtype option on import or set low_memory=False.\n",
      "  interactivity=interactivity, compiler=compiler, result=result)\n"
     ]
    }
   ],
   "source": [
    "df = pd.read_csv('../CSVs/Terry_cleaned.csv')"
   ]
  },
  {
   "cell_type": "code",
   "execution_count": 13,
   "metadata": {},
   "outputs": [
    {
     "data": {
      "text/html": [
       "<div>\n",
       "<style scoped>\n",
       "    .dataframe tbody tr th:only-of-type {\n",
       "        vertical-align: middle;\n",
       "    }\n",
       "\n",
       "    .dataframe tbody tr th {\n",
       "        vertical-align: top;\n",
       "    }\n",
       "\n",
       "    .dataframe thead th {\n",
       "        text-align: right;\n",
       "    }\n",
       "</style>\n",
       "<table border=\"1\" class=\"dataframe\">\n",
       "  <thead>\n",
       "    <tr style=\"text-align: right;\">\n",
       "      <th></th>\n",
       "      <th>Unnamed: 0</th>\n",
       "      <th>Unnamed: 0.1</th>\n",
       "      <th>Subject_ID</th>\n",
       "      <th>GO_/_SC_Num</th>\n",
       "      <th>Terry_Stop_ID</th>\n",
       "      <th>Stop_Resolution</th>\n",
       "      <th>Weapon_Type</th>\n",
       "      <th>Officer_ID</th>\n",
       "      <th>Officer_YOB</th>\n",
       "      <th>Officer_Gender</th>\n",
       "      <th>...</th>\n",
       "      <th>Beat</th>\n",
       "      <th>Arrested</th>\n",
       "      <th>Weapon_Found</th>\n",
       "      <th>Subject_Age_Group</th>\n",
       "      <th>Officer_Race</th>\n",
       "      <th>Subject_Perceived_Race</th>\n",
       "      <th>Officer_Age</th>\n",
       "      <th>Year</th>\n",
       "      <th>Month</th>\n",
       "      <th>Officer_Age_Group</th>\n",
       "    </tr>\n",
       "  </thead>\n",
       "  <tbody>\n",
       "    <tr>\n",
       "      <th>0</th>\n",
       "      <td>0</td>\n",
       "      <td>1</td>\n",
       "      <td>-1</td>\n",
       "      <td>20150000130727</td>\n",
       "      <td>80117</td>\n",
       "      <td>Arrest</td>\n",
       "      <td>None</td>\n",
       "      <td>7557</td>\n",
       "      <td>1985</td>\n",
       "      <td>1</td>\n",
       "      <td>...</td>\n",
       "      <td>L3</td>\n",
       "      <td>1.0</td>\n",
       "      <td>0.0</td>\n",
       "      <td>36 - 45</td>\n",
       "      <td>White</td>\n",
       "      <td>Other</td>\n",
       "      <td>30</td>\n",
       "      <td>2015</td>\n",
       "      <td>9</td>\n",
       "      <td>30-39</td>\n",
       "    </tr>\n",
       "    <tr>\n",
       "      <th>1</th>\n",
       "      <td>1</td>\n",
       "      <td>2</td>\n",
       "      <td>-1</td>\n",
       "      <td>20150000405361</td>\n",
       "      <td>102566</td>\n",
       "      <td>Field Contact</td>\n",
       "      <td>None</td>\n",
       "      <td>6954</td>\n",
       "      <td>1974</td>\n",
       "      <td>1</td>\n",
       "      <td>...</td>\n",
       "      <td>G3</td>\n",
       "      <td>0.0</td>\n",
       "      <td>0.0</td>\n",
       "      <td>36 - 45</td>\n",
       "      <td>Asian</td>\n",
       "      <td>Multi-Racial</td>\n",
       "      <td>41</td>\n",
       "      <td>2015</td>\n",
       "      <td>11</td>\n",
       "      <td>40-49</td>\n",
       "    </tr>\n",
       "    <tr>\n",
       "      <th>2</th>\n",
       "      <td>2</td>\n",
       "      <td>3</td>\n",
       "      <td>-1</td>\n",
       "      <td>20140000120677</td>\n",
       "      <td>92317</td>\n",
       "      <td>Arrest</td>\n",
       "      <td>None</td>\n",
       "      <td>7500</td>\n",
       "      <td>1984</td>\n",
       "      <td>1</td>\n",
       "      <td>...</td>\n",
       "      <td>O2</td>\n",
       "      <td>1.0</td>\n",
       "      <td>0.0</td>\n",
       "      <td>36 - 45</td>\n",
       "      <td>Black or African American</td>\n",
       "      <td>Asian</td>\n",
       "      <td>31</td>\n",
       "      <td>2015</td>\n",
       "      <td>10</td>\n",
       "      <td>30-39</td>\n",
       "    </tr>\n",
       "    <tr>\n",
       "      <th>3</th>\n",
       "      <td>3</td>\n",
       "      <td>16</td>\n",
       "      <td>-1</td>\n",
       "      <td>20150000004043</td>\n",
       "      <td>70892</td>\n",
       "      <td>Field Contact</td>\n",
       "      <td>None</td>\n",
       "      <td>7582</td>\n",
       "      <td>1966</td>\n",
       "      <td>1</td>\n",
       "      <td>...</td>\n",
       "      <td>G2</td>\n",
       "      <td>0.0</td>\n",
       "      <td>0.0</td>\n",
       "      <td>26 - 35</td>\n",
       "      <td>Hispanic or Latino</td>\n",
       "      <td>Multi-Racial</td>\n",
       "      <td>49</td>\n",
       "      <td>2015</td>\n",
       "      <td>8</td>\n",
       "      <td>40-49</td>\n",
       "    </tr>\n",
       "    <tr>\n",
       "      <th>4</th>\n",
       "      <td>4</td>\n",
       "      <td>19</td>\n",
       "      <td>-1</td>\n",
       "      <td>20150000004385</td>\n",
       "      <td>76734</td>\n",
       "      <td>Field Contact</td>\n",
       "      <td>None</td>\n",
       "      <td>6759</td>\n",
       "      <td>1970</td>\n",
       "      <td>1</td>\n",
       "      <td>...</td>\n",
       "      <td>N2</td>\n",
       "      <td>0.0</td>\n",
       "      <td>0.0</td>\n",
       "      <td>18 - 25</td>\n",
       "      <td>Black or African American</td>\n",
       "      <td>Native Hawaiian or Other Pacific Islander</td>\n",
       "      <td>45</td>\n",
       "      <td>2015</td>\n",
       "      <td>8</td>\n",
       "      <td>40-49</td>\n",
       "    </tr>\n",
       "  </tbody>\n",
       "</table>\n",
       "<p>5 rows × 31 columns</p>\n",
       "</div>"
      ],
      "text/plain": [
       "   Unnamed: 0  Unnamed: 0.1  Subject_ID     GO_/_SC_Num  Terry_Stop_ID  \\\n",
       "0           0             1          -1  20150000130727          80117   \n",
       "1           1             2          -1  20150000405361         102566   \n",
       "2           2             3          -1  20140000120677          92317   \n",
       "3           3            16          -1  20150000004043          70892   \n",
       "4           4            19          -1  20150000004385          76734   \n",
       "\n",
       "  Stop_Resolution Weapon_Type Officer_ID  Officer_YOB  Officer_Gender  ...  \\\n",
       "0          Arrest        None     7557           1985               1  ...   \n",
       "1   Field Contact        None     6954           1974               1  ...   \n",
       "2          Arrest        None     7500           1984               1  ...   \n",
       "3   Field Contact        None     7582           1966               1  ...   \n",
       "4   Field Contact        None     6759           1970               1  ...   \n",
       "\n",
       "   Beat Arrested Weapon_Found Subject_Age_Group               Officer_Race  \\\n",
       "0    L3      1.0          0.0           36 - 45                      White   \n",
       "1    G3      0.0          0.0           36 - 45                      Asian   \n",
       "2    O2      1.0          0.0           36 - 45  Black or African American   \n",
       "3    G2      0.0          0.0           26 - 35         Hispanic or Latino   \n",
       "4    N2      0.0          0.0           18 - 25  Black or African American   \n",
       "\n",
       "                      Subject_Perceived_Race Officer_Age  Year  Month  \\\n",
       "0                                      Other          30  2015      9   \n",
       "1                               Multi-Racial          41  2015     11   \n",
       "2                                      Asian          31  2015     10   \n",
       "3                               Multi-Racial          49  2015      8   \n",
       "4  Native Hawaiian or Other Pacific Islander          45  2015      8   \n",
       "\n",
       "  Officer_Age_Group  \n",
       "0             30-39  \n",
       "1             40-49  \n",
       "2             30-39  \n",
       "3             40-49  \n",
       "4             40-49  \n",
       "\n",
       "[5 rows x 31 columns]"
      ]
     },
     "execution_count": 13,
     "metadata": {},
     "output_type": "execute_result"
    }
   ],
   "source": [
    "df.head()"
   ]
  },
  {
   "cell_type": "markdown",
   "metadata": {},
   "source": [
    "# 1) Feature Engineering"
   ]
  },
  {
   "cell_type": "markdown",
   "metadata": {},
   "source": [
    "To begin with, we will look to drop the columns that we do not think is relevant to our model. This would be the following - \n",
    "\n",
    "'Unnamed: 0', \n",
    "\n",
    "'Unnamed: 0.1',\n",
    "\n",
    "'Subject_ID', \n",
    "\n",
    "'GO_/_SC_Num',\n",
    "\n",
    "'Terry_Stop_ID', \n",
    "\n",
    "'Stop_Resolution', \n",
    "\n",
    "'Weapon_Type',\n",
    "\n",
    "'Officer_ID',\n",
    "\n",
    "'Officer_YOB',\n",
    "\n",
    "'Reported_Date'\n",
    "\n",
    "'Initial_Call_Type',\n",
    "\n",
    "'Final_Call_Type',\n",
    "\n",
    "'Call_Type', \n",
    "\n",
    "'Officer_Squad', \n",
    "\n",
    "'Arrest_Flag',\n",
    "\n",
    "'Sector',\n",
    "\n",
    "'Beat', \n",
    "\n",
    "'Officer_Age'"
   ]
  },
  {
   "cell_type": "code",
   "execution_count": 14,
   "metadata": {},
   "outputs": [],
   "source": [
    "df.drop(['Unnamed: 0', \n",
    "'Unnamed: 0.1',\n",
    "'Subject_ID', \n",
    "'GO_/_SC_Num',\n",
    "'Terry_Stop_ID', \n",
    "'Stop_Resolution', \n",
    "'Weapon_Found',\n",
    "'Officer_ID',\n",
    "'Officer_YOB',\n",
    "'Reported_Date',\n",
    "'Initial_Call_Type',\n",
    "'Final_Call_Type',\n",
    "'Call_Type', \n",
    "'Officer_Squad', \n",
    "'Arrest_Flag',\n",
    "'Sector',\n",
    "'Beat', \n",
    "'Officer_Age'], axis=1,inplace=True)"
   ]
  },
  {
   "cell_type": "markdown",
   "metadata": {},
   "source": [
    "# 1.2) Assigning X and y variables"
   ]
  },
  {
   "cell_type": "markdown",
   "metadata": {},
   "source": [
    "We will now look to assign the target variable as the binary column 'Arrested'. We will also create the independent variables under X, dropping the 'Arrested' column."
   ]
  },
  {
   "cell_type": "code",
   "execution_count": 15,
   "metadata": {},
   "outputs": [],
   "source": [
    "#Creating X and y\n",
    "X = df.drop(columns='Arrested')\n",
    "y = df['Arrested']"
   ]
  },
  {
   "cell_type": "markdown",
   "metadata": {},
   "source": [
    "# 1.3) One Hot Encoding Categorical Variables"
   ]
  },
  {
   "cell_type": "markdown",
   "metadata": {},
   "source": [
    "This section will look at creating dummy columns for our categorical data. We will be using One Hot Encoding from the sklearn libary in order to perform this."
   ]
  },
  {
   "cell_type": "markdown",
   "metadata": {},
   "source": [
    "The following code will loop through the column names and print out the value counts. This will allow us to easily identify which columns we will look to One Hot Encode."
   ]
  },
  {
   "cell_type": "code",
   "execution_count": 16,
   "metadata": {},
   "outputs": [
    {
     "name": "stdout",
     "output_type": "stream",
     "text": [
      "Weapon_Type : \n",
      "None                   38567\n",
      "Stabbing Instrument     1769\n",
      "Firearm                  414\n",
      "Other                    107\n",
      "Name: Weapon_Type, dtype: int64\n",
      "\n",
      "Officer_Gender : \n",
      "1    36300\n",
      "0     4557\n",
      "Name: Officer_Gender, dtype: int64\n",
      "\n",
      "Subject_Perceived_Gender : \n",
      "1    32424\n",
      "0     8433\n",
      "Name: Subject_Perceived_Gender, dtype: int64\n",
      "\n",
      "Reported_Time : \n",
      "19:18:00    51\n",
      "03:13:00    50\n",
      "03:09:00    50\n",
      "02:56:00    50\n",
      "17:00:00    49\n",
      "            ..\n",
      "22:55:14     1\n",
      "01:40:49     1\n",
      "03:39:58     1\n",
      "12:07:55     1\n",
      "12:56:40     1\n",
      "Name: Reported_Time, Length: 7432, dtype: int64\n",
      "\n",
      "Frisk_Flag : \n",
      "0    31891\n",
      "1     8966\n",
      "Name: Frisk_Flag, dtype: int64\n",
      "\n",
      "Precinct : \n",
      "West         11647\n",
      "North        11430\n",
      "East          6596\n",
      "South         6119\n",
      "SouthWest     3834\n",
      "OTHER         1231\n",
      "Name: Precinct, dtype: int64\n",
      "\n",
      "Subject_Age_Group : \n",
      "26 - 35         13966\n",
      "36 - 45          9241\n",
      "18 - 25          8560\n",
      "46 - 55          5235\n",
      "56 and Above     1973\n",
      "1 - 17           1882\n",
      "Name: Subject_Age_Group, dtype: int64\n",
      "\n",
      "Officer_Race : \n",
      "White                            32128\n",
      "Two or More Races                 2523\n",
      "Hispanic or Latino                2247\n",
      "Black or African American         1667\n",
      "Asian                             1550\n",
      "Nat Hawaiian/Oth Pac Islander      424\n",
      "American Indian/Alaska Native      318\n",
      "Name: Officer_Race, dtype: int64\n",
      "\n",
      "Subject_Perceived_Race : \n",
      "White                                        20102\n",
      "Black or African American                    12763\n",
      "Other                                         1819\n",
      "Hispanic                                      1795\n",
      "Asian                                         1265\n",
      "American Indian or Alaska Native              1230\n",
      "Multi-Racial                                  1222\n",
      "Native Hawaiian or Other Pacific Islander      661\n",
      "Name: Subject_Perceived_Race, dtype: int64\n",
      "\n",
      "Year : \n",
      "2018    8883\n",
      "2019    7949\n",
      "2016    7715\n",
      "2017    7488\n",
      "2015    7059\n",
      "2020    1763\n",
      "Name: Year, dtype: int64\n",
      "\n",
      "Month : \n",
      "7     3885\n",
      "6     3853\n",
      "8     3798\n",
      "5     3794\n",
      "10    3491\n",
      "3     3439\n",
      "1     3325\n",
      "9     3304\n",
      "4     3092\n",
      "11    3088\n",
      "12    2897\n",
      "2     2891\n",
      "Name: Month, dtype: int64\n",
      "\n",
      "Officer_Age_Group : \n",
      "30-39    18679\n",
      "20-29    12036\n",
      "40-49     6866\n",
      "50-59     3060\n",
      "60+        216\n",
      "Name: Officer_Age_Group, dtype: int64\n",
      "\n"
     ]
    }
   ],
   "source": [
    "for x in list(X.columns):\n",
    "    print(f'{x} : \\n{X[x].value_counts()}\\n' )"
   ]
  },
  {
   "cell_type": "markdown",
   "metadata": {},
   "source": [
    "#### Columns which need to be One Hot Encoded:\n",
    "\n",
    "'Precinct',\n",
    "\n",
    "'Subject_Age_Group', \n",
    "\n",
    "'Officer_Race',\n",
    "\n",
    "'Subject_Perceived_Race',\n",
    "\n",
    "'Officer_Age_Group'\n",
    "\n",
    "'Weapon_Type'\n",
    "\n",
    "'Month'"
   ]
  },
  {
   "cell_type": "code",
   "execution_count": 17,
   "metadata": {},
   "outputs": [],
   "source": [
    "#Creating a data grame with the variables we will one hot encode.\n",
    "X_to_ohe = X[['Precinct',\n",
    "'Subject_Age_Group', \n",
    "'Officer_Race',\n",
    "'Subject_Perceived_Race',\n",
    "'Officer_Age_Group',\n",
    "'Weapon_Type',\n",
    "'Month']]"
   ]
  },
  {
   "cell_type": "code",
   "execution_count": 18,
   "metadata": {},
   "outputs": [],
   "source": [
    "#Creating a variable X_ohe that has been fit and transformed\n",
    "ohe = OneHotEncoder(handle_unknown='ignore')\n",
    "X_ohe = ohe.fit_transform(X_to_ohe)"
   ]
  },
  {
   "cell_type": "code",
   "execution_count": 19,
   "metadata": {},
   "outputs": [],
   "source": [
    "#creating a DataFrame X_ohe_df and assignign the column names\n",
    "columns = ohe.get_feature_names(input_features=X_to_ohe.columns)\n",
    "X_ohe_df = pd.DataFrame(X_ohe.todense(), columns=columns)"
   ]
  },
  {
   "cell_type": "code",
   "execution_count": 20,
   "metadata": {},
   "outputs": [
    {
     "data": {
      "text/html": [
       "<div>\n",
       "<style scoped>\n",
       "    .dataframe tbody tr th:only-of-type {\n",
       "        vertical-align: middle;\n",
       "    }\n",
       "\n",
       "    .dataframe tbody tr th {\n",
       "        vertical-align: top;\n",
       "    }\n",
       "\n",
       "    .dataframe thead th {\n",
       "        text-align: right;\n",
       "    }\n",
       "</style>\n",
       "<table border=\"1\" class=\"dataframe\">\n",
       "  <thead>\n",
       "    <tr style=\"text-align: right;\">\n",
       "      <th></th>\n",
       "      <th>Precinct_East</th>\n",
       "      <th>Precinct_North</th>\n",
       "      <th>Precinct_OTHER</th>\n",
       "      <th>Precinct_South</th>\n",
       "      <th>Precinct_SouthWest</th>\n",
       "      <th>Precinct_West</th>\n",
       "      <th>Subject_Age_Group_1 - 17</th>\n",
       "      <th>Subject_Age_Group_18 - 25</th>\n",
       "      <th>Subject_Age_Group_26 - 35</th>\n",
       "      <th>Subject_Age_Group_36 - 45</th>\n",
       "      <th>...</th>\n",
       "      <th>Month_3</th>\n",
       "      <th>Month_4</th>\n",
       "      <th>Month_5</th>\n",
       "      <th>Month_6</th>\n",
       "      <th>Month_7</th>\n",
       "      <th>Month_8</th>\n",
       "      <th>Month_9</th>\n",
       "      <th>Month_10</th>\n",
       "      <th>Month_11</th>\n",
       "      <th>Month_12</th>\n",
       "    </tr>\n",
       "  </thead>\n",
       "  <tbody>\n",
       "    <tr>\n",
       "      <th>0</th>\n",
       "      <td>0.0</td>\n",
       "      <td>1.0</td>\n",
       "      <td>0.0</td>\n",
       "      <td>0.0</td>\n",
       "      <td>0.0</td>\n",
       "      <td>0.0</td>\n",
       "      <td>0.0</td>\n",
       "      <td>0.0</td>\n",
       "      <td>0.0</td>\n",
       "      <td>1.0</td>\n",
       "      <td>...</td>\n",
       "      <td>0.0</td>\n",
       "      <td>0.0</td>\n",
       "      <td>0.0</td>\n",
       "      <td>0.0</td>\n",
       "      <td>0.0</td>\n",
       "      <td>0.0</td>\n",
       "      <td>1.0</td>\n",
       "      <td>0.0</td>\n",
       "      <td>0.0</td>\n",
       "      <td>0.0</td>\n",
       "    </tr>\n",
       "    <tr>\n",
       "      <th>1</th>\n",
       "      <td>1.0</td>\n",
       "      <td>0.0</td>\n",
       "      <td>0.0</td>\n",
       "      <td>0.0</td>\n",
       "      <td>0.0</td>\n",
       "      <td>0.0</td>\n",
       "      <td>0.0</td>\n",
       "      <td>0.0</td>\n",
       "      <td>0.0</td>\n",
       "      <td>1.0</td>\n",
       "      <td>...</td>\n",
       "      <td>0.0</td>\n",
       "      <td>0.0</td>\n",
       "      <td>0.0</td>\n",
       "      <td>0.0</td>\n",
       "      <td>0.0</td>\n",
       "      <td>0.0</td>\n",
       "      <td>0.0</td>\n",
       "      <td>0.0</td>\n",
       "      <td>1.0</td>\n",
       "      <td>0.0</td>\n",
       "    </tr>\n",
       "    <tr>\n",
       "      <th>2</th>\n",
       "      <td>0.0</td>\n",
       "      <td>0.0</td>\n",
       "      <td>0.0</td>\n",
       "      <td>1.0</td>\n",
       "      <td>0.0</td>\n",
       "      <td>0.0</td>\n",
       "      <td>0.0</td>\n",
       "      <td>0.0</td>\n",
       "      <td>0.0</td>\n",
       "      <td>1.0</td>\n",
       "      <td>...</td>\n",
       "      <td>0.0</td>\n",
       "      <td>0.0</td>\n",
       "      <td>0.0</td>\n",
       "      <td>0.0</td>\n",
       "      <td>0.0</td>\n",
       "      <td>0.0</td>\n",
       "      <td>0.0</td>\n",
       "      <td>1.0</td>\n",
       "      <td>0.0</td>\n",
       "      <td>0.0</td>\n",
       "    </tr>\n",
       "    <tr>\n",
       "      <th>3</th>\n",
       "      <td>1.0</td>\n",
       "      <td>0.0</td>\n",
       "      <td>0.0</td>\n",
       "      <td>0.0</td>\n",
       "      <td>0.0</td>\n",
       "      <td>0.0</td>\n",
       "      <td>0.0</td>\n",
       "      <td>0.0</td>\n",
       "      <td>1.0</td>\n",
       "      <td>0.0</td>\n",
       "      <td>...</td>\n",
       "      <td>0.0</td>\n",
       "      <td>0.0</td>\n",
       "      <td>0.0</td>\n",
       "      <td>0.0</td>\n",
       "      <td>0.0</td>\n",
       "      <td>1.0</td>\n",
       "      <td>0.0</td>\n",
       "      <td>0.0</td>\n",
       "      <td>0.0</td>\n",
       "      <td>0.0</td>\n",
       "    </tr>\n",
       "    <tr>\n",
       "      <th>4</th>\n",
       "      <td>0.0</td>\n",
       "      <td>1.0</td>\n",
       "      <td>0.0</td>\n",
       "      <td>0.0</td>\n",
       "      <td>0.0</td>\n",
       "      <td>0.0</td>\n",
       "      <td>0.0</td>\n",
       "      <td>1.0</td>\n",
       "      <td>0.0</td>\n",
       "      <td>0.0</td>\n",
       "      <td>...</td>\n",
       "      <td>0.0</td>\n",
       "      <td>0.0</td>\n",
       "      <td>0.0</td>\n",
       "      <td>0.0</td>\n",
       "      <td>0.0</td>\n",
       "      <td>1.0</td>\n",
       "      <td>0.0</td>\n",
       "      <td>0.0</td>\n",
       "      <td>0.0</td>\n",
       "      <td>0.0</td>\n",
       "    </tr>\n",
       "  </tbody>\n",
       "</table>\n",
       "<p>5 rows × 48 columns</p>\n",
       "</div>"
      ],
      "text/plain": [
       "   Precinct_East  Precinct_North  Precinct_OTHER  Precinct_South  \\\n",
       "0            0.0             1.0             0.0             0.0   \n",
       "1            1.0             0.0             0.0             0.0   \n",
       "2            0.0             0.0             0.0             1.0   \n",
       "3            1.0             0.0             0.0             0.0   \n",
       "4            0.0             1.0             0.0             0.0   \n",
       "\n",
       "   Precinct_SouthWest  Precinct_West  Subject_Age_Group_1 - 17  \\\n",
       "0                 0.0            0.0                       0.0   \n",
       "1                 0.0            0.0                       0.0   \n",
       "2                 0.0            0.0                       0.0   \n",
       "3                 0.0            0.0                       0.0   \n",
       "4                 0.0            0.0                       0.0   \n",
       "\n",
       "   Subject_Age_Group_18 - 25  Subject_Age_Group_26 - 35  \\\n",
       "0                        0.0                        0.0   \n",
       "1                        0.0                        0.0   \n",
       "2                        0.0                        0.0   \n",
       "3                        0.0                        1.0   \n",
       "4                        1.0                        0.0   \n",
       "\n",
       "   Subject_Age_Group_36 - 45  ...  Month_3  Month_4  Month_5  Month_6  \\\n",
       "0                        1.0  ...      0.0      0.0      0.0      0.0   \n",
       "1                        1.0  ...      0.0      0.0      0.0      0.0   \n",
       "2                        1.0  ...      0.0      0.0      0.0      0.0   \n",
       "3                        0.0  ...      0.0      0.0      0.0      0.0   \n",
       "4                        0.0  ...      0.0      0.0      0.0      0.0   \n",
       "\n",
       "   Month_7  Month_8  Month_9  Month_10  Month_11  Month_12  \n",
       "0      0.0      0.0      1.0       0.0       0.0       0.0  \n",
       "1      0.0      0.0      0.0       0.0       1.0       0.0  \n",
       "2      0.0      0.0      0.0       1.0       0.0       0.0  \n",
       "3      0.0      1.0      0.0       0.0       0.0       0.0  \n",
       "4      0.0      1.0      0.0       0.0       0.0       0.0  \n",
       "\n",
       "[5 rows x 48 columns]"
      ]
     },
     "execution_count": 20,
     "metadata": {},
     "output_type": "execute_result"
    }
   ],
   "source": [
    "#Checking to see if it worked.\n",
    "X_ohe_df.head()"
   ]
  },
  {
   "cell_type": "code",
   "execution_count": 21,
   "metadata": {},
   "outputs": [
    {
     "data": {
      "text/plain": [
       "Index(['Precinct_East', 'Precinct_North', 'Precinct_OTHER', 'Precinct_South',\n",
       "       'Precinct_SouthWest', 'Precinct_West', 'Subject_Age_Group_1 - 17',\n",
       "       'Subject_Age_Group_18 - 25', 'Subject_Age_Group_26 - 35',\n",
       "       'Subject_Age_Group_36 - 45', 'Subject_Age_Group_46 - 55',\n",
       "       'Subject_Age_Group_56 and Above',\n",
       "       'Officer_Race_American Indian/Alaska Native', 'Officer_Race_Asian',\n",
       "       'Officer_Race_Black or African American',\n",
       "       'Officer_Race_Hispanic or Latino',\n",
       "       'Officer_Race_Nat Hawaiian/Oth Pac Islander',\n",
       "       'Officer_Race_Two or More Races', 'Officer_Race_White',\n",
       "       'Subject_Perceived_Race_American Indian or Alaska Native',\n",
       "       'Subject_Perceived_Race_Asian',\n",
       "       'Subject_Perceived_Race_Black or African American',\n",
       "       'Subject_Perceived_Race_Hispanic',\n",
       "       'Subject_Perceived_Race_Multi-Racial',\n",
       "       'Subject_Perceived_Race_Native Hawaiian or Other Pacific Islander',\n",
       "       'Subject_Perceived_Race_Other', 'Subject_Perceived_Race_White',\n",
       "       'Officer_Age_Group_20-29', 'Officer_Age_Group_30-39',\n",
       "       'Officer_Age_Group_40-49', 'Officer_Age_Group_50-59',\n",
       "       'Officer_Age_Group_60+', 'Weapon_Type_Firearm', 'Weapon_Type_None',\n",
       "       'Weapon_Type_Other', 'Weapon_Type_Stabbing Instrument', 'Month_1',\n",
       "       'Month_2', 'Month_3', 'Month_4', 'Month_5', 'Month_6', 'Month_7',\n",
       "       'Month_8', 'Month_9', 'Month_10', 'Month_11', 'Month_12'],\n",
       "      dtype='object')"
      ]
     },
     "execution_count": 21,
     "metadata": {},
     "output_type": "execute_result"
    }
   ],
   "source": [
    "#Checking the column names\n",
    "X_ohe_df.columns"
   ]
  },
  {
   "cell_type": "markdown",
   "metadata": {},
   "source": [
    "We will now drop 1 column from each of the columns from the resulting one hot encoding to prevent multicolinearity between the columns, We will drop the following:\n",
    "\n",
    "'Precinct_OTHER',\n",
    "\n",
    "'Subject_Age_Group_1 - 17',\n",
    "\n",
    "'Officer_Race_American Indian/Alaska Native',\n",
    "\n",
    "'Subject_Perceived_Race_American Indian or Alaska Native',\n",
    "\n",
    "'Officer_Age_Group_60+'\n",
    "\n",
    "'Month_1'"
   ]
  },
  {
   "cell_type": "code",
   "execution_count": 22,
   "metadata": {},
   "outputs": [],
   "source": [
    "#Dropping one column from each one hot encoded variable\n",
    "X_ohe_df.drop(columns=['Precinct_OTHER',\n",
    "'Subject_Age_Group_1 - 17',\n",
    "'Officer_Race_American Indian/Alaska Native',\n",
    "'Subject_Perceived_Race_American Indian or Alaska Native',\n",
    "'Officer_Age_Group_60+','Weapon_Type_Other','Month_1'] ,axis=1, inplace=True)"
   ]
  },
  {
   "cell_type": "code",
   "execution_count": 23,
   "metadata": {},
   "outputs": [
    {
     "data": {
      "text/plain": [
       "Index(['Precinct_East', 'Precinct_North', 'Precinct_South',\n",
       "       'Precinct_SouthWest', 'Precinct_West', 'Subject_Age_Group_18 - 25',\n",
       "       'Subject_Age_Group_26 - 35', 'Subject_Age_Group_36 - 45',\n",
       "       'Subject_Age_Group_46 - 55', 'Subject_Age_Group_56 and Above',\n",
       "       'Officer_Race_Asian', 'Officer_Race_Black or African American',\n",
       "       'Officer_Race_Hispanic or Latino',\n",
       "       'Officer_Race_Nat Hawaiian/Oth Pac Islander',\n",
       "       'Officer_Race_Two or More Races', 'Officer_Race_White',\n",
       "       'Subject_Perceived_Race_Asian',\n",
       "       'Subject_Perceived_Race_Black or African American',\n",
       "       'Subject_Perceived_Race_Hispanic',\n",
       "       'Subject_Perceived_Race_Multi-Racial',\n",
       "       'Subject_Perceived_Race_Native Hawaiian or Other Pacific Islander',\n",
       "       'Subject_Perceived_Race_Other', 'Subject_Perceived_Race_White',\n",
       "       'Officer_Age_Group_20-29', 'Officer_Age_Group_30-39',\n",
       "       'Officer_Age_Group_40-49', 'Officer_Age_Group_50-59',\n",
       "       'Weapon_Type_Firearm', 'Weapon_Type_None',\n",
       "       'Weapon_Type_Stabbing Instrument', 'Month_2', 'Month_3', 'Month_4',\n",
       "       'Month_5', 'Month_6', 'Month_7', 'Month_8', 'Month_9', 'Month_10',\n",
       "       'Month_11', 'Month_12'],\n",
       "      dtype='object')"
      ]
     },
     "execution_count": 23,
     "metadata": {},
     "output_type": "execute_result"
    }
   ],
   "source": [
    "#Checking the columns\n",
    "X_ohe_df.columns"
   ]
  },
  {
   "cell_type": "markdown",
   "metadata": {},
   "source": [
    "We will now create a new DataFrame X_all, merging the X_ohe_df to the main X variable dataframe."
   ]
  },
  {
   "cell_type": "code",
   "execution_count": 24,
   "metadata": {},
   "outputs": [],
   "source": [
    "X_all = pd.concat([pd.DataFrame(X), X_ohe_df], axis=1)"
   ]
  },
  {
   "cell_type": "markdown",
   "metadata": {},
   "source": [
    "Now that this is done, we will drop the original columns of the columns that we have one hot encoded."
   ]
  },
  {
   "cell_type": "code",
   "execution_count": 25,
   "metadata": {},
   "outputs": [],
   "source": [
    "X_all.drop(columns=['Precinct','Subject_Age_Group', 'Officer_Race','Subject_Perceived_Race','Officer_Age_Group','Weapon_Type','Month'],axis=1, inplace= True)"
   ]
  },
  {
   "cell_type": "markdown",
   "metadata": {},
   "source": [
    "## 1.4 )Train Test Validation Split"
   ]
  },
  {
   "cell_type": "markdown",
   "metadata": {},
   "source": [
    "In this section we will split our X and y data sets into training, test and validation sets."
   ]
  },
  {
   "cell_type": "markdown",
   "metadata": {},
   "source": [
    "### 1.4.1) Train Test"
   ]
  },
  {
   "cell_type": "markdown",
   "metadata": {},
   "source": [
    "For the train test split, we will use a test size of 25%."
   ]
  },
  {
   "cell_type": "code",
   "execution_count": 26,
   "metadata": {},
   "outputs": [],
   "source": [
    "X_train, X_test, y_train, y_test = train_test_split(X_ohe_df,y, test_size=0.25)"
   ]
  },
  {
   "cell_type": "markdown",
   "metadata": {},
   "source": [
    "### 1.4.2) Train Val Split"
   ]
  },
  {
   "cell_type": "markdown",
   "metadata": {},
   "source": [
    "For the train, validation split, we will make the validation size 25%."
   ]
  },
  {
   "cell_type": "code",
   "execution_count": 27,
   "metadata": {},
   "outputs": [],
   "source": [
    "X_train, X_val, y_train, y_val = train_test_split(X_train,y_train, test_size=0.25)"
   ]
  },
  {
   "cell_type": "code",
   "execution_count": 28,
   "metadata": {},
   "outputs": [
    {
     "name": "stdout",
     "output_type": "stream",
     "text": [
      "Shapes of Each Set\n",
      "-------------------\n",
      "X_train: (22981, 41)\n",
      "y_train: (22981,)\n",
      "X_val: (7661, 41)\n",
      "y_val: (7661,)\n",
      "X_test: (10215, 41)\n",
      "y_test: (10215,)\n"
     ]
    }
   ],
   "source": [
    "#Checking to see the size of each set.\n",
    "print('Shapes of Each Set')\n",
    "print('-------------------')\n",
    "print(f'X_train: {X_train.shape}')\n",
    "print(f'y_train: {y_train.shape}')\n",
    "print(f'X_val: {X_val.shape}')\n",
    "print(f'y_val: {y_val.shape}')\n",
    "print(f'X_test: {X_test.shape}')\n",
    "print(f'y_test: {y_test.shape}')"
   ]
  },
  {
   "cell_type": "markdown",
   "metadata": {},
   "source": [
    "# 2) Baseline Model"
   ]
  },
  {
   "cell_type": "markdown",
   "metadata": {},
   "source": [
    "In this section, we will develop our baseline model using the data splits we had conducted previously. For our baseline model, we will be using a Logistic Regression. Once the model has been fit, we will conduct a few diagnostic tests to see how our model is performing. Namely Accuracy and AUC."
   ]
  },
  {
   "cell_type": "markdown",
   "metadata": {},
   "source": [
    "## 2.1) Logisitic Regression"
   ]
  },
  {
   "cell_type": "markdown",
   "metadata": {},
   "source": [
    "We will fit our model using the Logistic Regression learner over here using the SKlean package."
   ]
  },
  {
   "cell_type": "code",
   "execution_count": 29,
   "metadata": {},
   "outputs": [
    {
     "data": {
      "text/plain": [
       "LogisticRegression(C=1.0, class_weight=None, dual=False, fit_intercept=True,\n",
       "                   intercept_scaling=1, l1_ratio=None, max_iter=100,\n",
       "                   multi_class='auto', n_jobs=None, penalty='none',\n",
       "                   random_state=None, solver='lbfgs', tol=0.0001, verbose=0,\n",
       "                   warm_start=False)"
      ]
     },
     "execution_count": 29,
     "metadata": {},
     "output_type": "execute_result"
    }
   ],
   "source": [
    "#Code to fit the model.\n",
    "logreg = LogisticRegression(penalty='none', solver='lbfgs')\n",
    "log_reg = logreg.fit(X_train, y_train)\n",
    "log_reg"
   ]
  },
  {
   "cell_type": "markdown",
   "metadata": {},
   "source": [
    "Now that we have fit our model, we will create a predicted y variable using the predict function on the validation dataset."
   ]
  },
  {
   "cell_type": "code",
   "execution_count": 30,
   "metadata": {},
   "outputs": [
    {
     "name": "stdout",
     "output_type": "stream",
     "text": [
      "ROC_AUC of Baseline model (val) = 0.6228354080605023\n"
     ]
    }
   ],
   "source": [
    "log_reg_yval_predproba = log_reg.predict_proba(X_val)\n",
    "print(\"ROC_AUC of Baseline model (val) =\", roc_auc_score(y_val, log_reg_yval_predproba[:,1]))"
   ]
  },
  {
   "cell_type": "markdown",
   "metadata": {},
   "source": [
    "We will now check the Accuracy and ROC_AUC score of the Logistic Regression Model."
   ]
  },
  {
   "cell_type": "code",
   "execution_count": 31,
   "metadata": {},
   "outputs": [
    {
     "data": {
      "text/plain": [
       "(7661, 41)"
      ]
     },
     "execution_count": 31,
     "metadata": {},
     "output_type": "execute_result"
    }
   ],
   "source": [
    "X_val.shape"
   ]
  },
  {
   "cell_type": "code",
   "execution_count": 32,
   "metadata": {},
   "outputs": [
    {
     "data": {
      "text/plain": [
       "(7661,)"
      ]
     },
     "execution_count": 32,
     "metadata": {},
     "output_type": "execute_result"
    }
   ],
   "source": [
    "y_val.shape"
   ]
  },
  {
   "cell_type": "code",
   "execution_count": 33,
   "metadata": {},
   "outputs": [
    {
     "name": "stdout",
     "output_type": "stream",
     "text": [
      "ROC_AUC of Baseline model (val) = 0.7584924131179638\n"
     ]
    }
   ],
   "source": [
    "log_reg_yval_predpred = log_reg.predict(X_test)\n",
    "print(\"ROC_AUC of Baseline model (val) =\", accuracy_score(y_test, log_reg_yval_predpred))"
   ]
  },
  {
   "cell_type": "markdown",
   "metadata": {},
   "source": [
    "We will now look to print out the intercept and coefficients for each variable as a dataframe."
   ]
  },
  {
   "cell_type": "code",
   "execution_count": 34,
   "metadata": {},
   "outputs": [
    {
     "name": "stdout",
     "output_type": "stream",
     "text": [
      "Intercept = [-3.93526113]\n"
     ]
    },
    {
     "data": {
      "text/html": [
       "<div>\n",
       "<style scoped>\n",
       "    .dataframe tbody tr th:only-of-type {\n",
       "        vertical-align: middle;\n",
       "    }\n",
       "\n",
       "    .dataframe tbody tr th {\n",
       "        vertical-align: top;\n",
       "    }\n",
       "\n",
       "    .dataframe thead th {\n",
       "        text-align: right;\n",
       "    }\n",
       "</style>\n",
       "<table border=\"1\" class=\"dataframe\">\n",
       "  <thead>\n",
       "    <tr style=\"text-align: right;\">\n",
       "      <th></th>\n",
       "      <th>0</th>\n",
       "    </tr>\n",
       "  </thead>\n",
       "  <tbody>\n",
       "    <tr>\n",
       "      <th>Officer_Gender</th>\n",
       "      <td>3.004424</td>\n",
       "    </tr>\n",
       "    <tr>\n",
       "      <th>Subject_Perceived_Gender</th>\n",
       "      <td>2.670309</td>\n",
       "    </tr>\n",
       "    <tr>\n",
       "      <th>Reported_Time</th>\n",
       "      <td>2.928051</td>\n",
       "    </tr>\n",
       "    <tr>\n",
       "      <th>Frisk_Flag</th>\n",
       "      <td>2.598451</td>\n",
       "    </tr>\n",
       "    <tr>\n",
       "      <th>Year</th>\n",
       "      <td>2.956259</td>\n",
       "    </tr>\n",
       "    <tr>\n",
       "      <th>Precinct_East</th>\n",
       "      <td>0.219432</td>\n",
       "    </tr>\n",
       "    <tr>\n",
       "      <th>Precinct_North</th>\n",
       "      <td>0.375500</td>\n",
       "    </tr>\n",
       "    <tr>\n",
       "      <th>Precinct_South</th>\n",
       "      <td>0.287285</td>\n",
       "    </tr>\n",
       "    <tr>\n",
       "      <th>Precinct_SouthWest</th>\n",
       "      <td>0.134517</td>\n",
       "    </tr>\n",
       "    <tr>\n",
       "      <th>Precinct_West</th>\n",
       "      <td>0.172517</td>\n",
       "    </tr>\n",
       "    <tr>\n",
       "      <th>Subject_Age_Group_18 - 25</th>\n",
       "      <td>0.331446</td>\n",
       "    </tr>\n",
       "    <tr>\n",
       "      <th>Subject_Age_Group_26 - 35</th>\n",
       "      <td>0.132963</td>\n",
       "    </tr>\n",
       "    <tr>\n",
       "      <th>Subject_Age_Group_36 - 45</th>\n",
       "      <td>0.248006</td>\n",
       "    </tr>\n",
       "    <tr>\n",
       "      <th>Subject_Age_Group_46 - 55</th>\n",
       "      <td>0.184411</td>\n",
       "    </tr>\n",
       "    <tr>\n",
       "      <th>Subject_Age_Group_56 and Above</th>\n",
       "      <td>0.448450</td>\n",
       "    </tr>\n",
       "    <tr>\n",
       "      <th>Officer_Race_Asian</th>\n",
       "      <td>0.365974</td>\n",
       "    </tr>\n",
       "    <tr>\n",
       "      <th>Officer_Race_Black or African American</th>\n",
       "      <td>-0.164652</td>\n",
       "    </tr>\n",
       "    <tr>\n",
       "      <th>Officer_Race_Hispanic or Latino</th>\n",
       "      <td>-0.208167</td>\n",
       "    </tr>\n",
       "    <tr>\n",
       "      <th>Officer_Race_Nat Hawaiian/Oth Pac Islander</th>\n",
       "      <td>-0.316684</td>\n",
       "    </tr>\n",
       "    <tr>\n",
       "      <th>Officer_Race_Two or More Races</th>\n",
       "      <td>-0.435114</td>\n",
       "    </tr>\n",
       "    <tr>\n",
       "      <th>Officer_Race_White</th>\n",
       "      <td>-0.812338</td>\n",
       "    </tr>\n",
       "    <tr>\n",
       "      <th>Subject_Perceived_Race_Asian</th>\n",
       "      <td>-0.786541</td>\n",
       "    </tr>\n",
       "    <tr>\n",
       "      <th>Subject_Perceived_Race_Black or African American</th>\n",
       "      <td>-0.356962</td>\n",
       "    </tr>\n",
       "    <tr>\n",
       "      <th>Subject_Perceived_Race_Hispanic</th>\n",
       "      <td>0.701797</td>\n",
       "    </tr>\n",
       "    <tr>\n",
       "      <th>Subject_Perceived_Race_Multi-Racial</th>\n",
       "      <td>0.545906</td>\n",
       "    </tr>\n",
       "    <tr>\n",
       "      <th>Subject_Perceived_Race_Native Hawaiian or Other Pacific Islander</th>\n",
       "      <td>0.363420</td>\n",
       "    </tr>\n",
       "    <tr>\n",
       "      <th>Subject_Perceived_Race_Other</th>\n",
       "      <td>0.158157</td>\n",
       "    </tr>\n",
       "    <tr>\n",
       "      <th>Subject_Perceived_Race_White</th>\n",
       "      <td>0.216035</td>\n",
       "    </tr>\n",
       "    <tr>\n",
       "      <th>Officer_Age_Group_20-29</th>\n",
       "      <td>-0.895003</td>\n",
       "    </tr>\n",
       "    <tr>\n",
       "      <th>Officer_Age_Group_30-39</th>\n",
       "      <td>-0.026885</td>\n",
       "    </tr>\n",
       "    <tr>\n",
       "      <th>Officer_Age_Group_40-49</th>\n",
       "      <td>0.052729</td>\n",
       "    </tr>\n",
       "    <tr>\n",
       "      <th>Officer_Age_Group_50-59</th>\n",
       "      <td>-0.007942</td>\n",
       "    </tr>\n",
       "    <tr>\n",
       "      <th>Weapon_Type_Firearm</th>\n",
       "      <td>-0.229017</td>\n",
       "    </tr>\n",
       "    <tr>\n",
       "      <th>Weapon_Type_None</th>\n",
       "      <td>-0.007478</td>\n",
       "    </tr>\n",
       "    <tr>\n",
       "      <th>Weapon_Type_Stabbing Instrument</th>\n",
       "      <td>-0.087119</td>\n",
       "    </tr>\n",
       "    <tr>\n",
       "      <th>Month_2</th>\n",
       "      <td>-0.003227</td>\n",
       "    </tr>\n",
       "    <tr>\n",
       "      <th>Month_3</th>\n",
       "      <td>0.023973</td>\n",
       "    </tr>\n",
       "    <tr>\n",
       "      <th>Month_4</th>\n",
       "      <td>-0.009078</td>\n",
       "    </tr>\n",
       "    <tr>\n",
       "      <th>Month_5</th>\n",
       "      <td>0.093579</td>\n",
       "    </tr>\n",
       "    <tr>\n",
       "      <th>Month_6</th>\n",
       "      <td>-0.059770</td>\n",
       "    </tr>\n",
       "    <tr>\n",
       "      <th>Month_7</th>\n",
       "      <td>-0.069010</td>\n",
       "    </tr>\n",
       "  </tbody>\n",
       "</table>\n",
       "</div>"
      ],
      "text/plain": [
       "                                                           0\n",
       "Officer_Gender                                      3.004424\n",
       "Subject_Perceived_Gender                            2.670309\n",
       "Reported_Time                                       2.928051\n",
       "Frisk_Flag                                          2.598451\n",
       "Year                                                2.956259\n",
       "Precinct_East                                       0.219432\n",
       "Precinct_North                                      0.375500\n",
       "Precinct_South                                      0.287285\n",
       "Precinct_SouthWest                                  0.134517\n",
       "Precinct_West                                       0.172517\n",
       "Subject_Age_Group_18 - 25                           0.331446\n",
       "Subject_Age_Group_26 - 35                           0.132963\n",
       "Subject_Age_Group_36 - 45                           0.248006\n",
       "Subject_Age_Group_46 - 55                           0.184411\n",
       "Subject_Age_Group_56 and Above                      0.448450\n",
       "Officer_Race_Asian                                  0.365974\n",
       "Officer_Race_Black or African American             -0.164652\n",
       "Officer_Race_Hispanic or Latino                    -0.208167\n",
       "Officer_Race_Nat Hawaiian/Oth Pac Islander         -0.316684\n",
       "Officer_Race_Two or More Races                     -0.435114\n",
       "Officer_Race_White                                 -0.812338\n",
       "Subject_Perceived_Race_Asian                       -0.786541\n",
       "Subject_Perceived_Race_Black or African American   -0.356962\n",
       "Subject_Perceived_Race_Hispanic                     0.701797\n",
       "Subject_Perceived_Race_Multi-Racial                 0.545906\n",
       "Subject_Perceived_Race_Native Hawaiian or Other...  0.363420\n",
       "Subject_Perceived_Race_Other                        0.158157\n",
       "Subject_Perceived_Race_White                        0.216035\n",
       "Officer_Age_Group_20-29                            -0.895003\n",
       "Officer_Age_Group_30-39                            -0.026885\n",
       "Officer_Age_Group_40-49                             0.052729\n",
       "Officer_Age_Group_50-59                            -0.007942\n",
       "Weapon_Type_Firearm                                -0.229017\n",
       "Weapon_Type_None                                   -0.007478\n",
       "Weapon_Type_Stabbing Instrument                    -0.087119\n",
       "Month_2                                            -0.003227\n",
       "Month_3                                             0.023973\n",
       "Month_4                                            -0.009078\n",
       "Month_5                                             0.093579\n",
       "Month_6                                            -0.059770\n",
       "Month_7                                            -0.069010"
      ]
     },
     "execution_count": 34,
     "metadata": {},
     "output_type": "execute_result"
    }
   ],
   "source": [
    "intercept = log_reg.intercept_\n",
    "print(\"Intercept =\", intercept)\n",
    "\n",
    "coefs = log_reg.coef_[0]\n",
    "cols = list(X_all.columns)\n",
    "dict = {cols[i]: coefs[i] for i in range(len(coefs))}\n",
    "dict_pd = pd.DataFrame.from_dict(dict, orient='index')\n",
    "dict_pd"
   ]
  },
  {
   "cell_type": "markdown",
   "metadata": {},
   "source": [
    "## 2.2) Grid Search CV on Logistic Regression.\n"
   ]
  },
  {
   "cell_type": "markdown",
   "metadata": {},
   "source": [
    "### 1.1) First Iteration of Grid Search CV\n"
   ]
  },
  {
   "cell_type": "markdown",
   "metadata": {},
   "source": [
    "Now that we have completed our baseline model, we will look to improve the performance of this by adjusting the hyperparameters. We will do this using GridSearchCV from SKlearn."
   ]
  },
  {
   "cell_type": "code",
   "execution_count": 35,
   "metadata": {},
   "outputs": [
    {
     "name": "stderr",
     "output_type": "stream",
     "text": [
      "//anaconda3/lib/python3.7/site-packages/sklearn/model_selection/_validation.py:536: FitFailedWarning: Estimator fit failed. The score on this train-test partition for these parameters will be set to nan. Details: \n",
      "ValueError: Solver lbfgs supports only 'l2' or 'none' penalties, got l1 penalty.\n",
      "\n",
      "  FitFailedWarning)\n",
      "//anaconda3/lib/python3.7/site-packages/sklearn/model_selection/_validation.py:536: FitFailedWarning: Estimator fit failed. The score on this train-test partition for these parameters will be set to nan. Details: \n",
      "ValueError: Solver lbfgs supports only dual=False, got dual=True\n",
      "\n",
      "  FitFailedWarning)\n",
      "//anaconda3/lib/python3.7/site-packages/sklearn/model_selection/_validation.py:536: FitFailedWarning: Estimator fit failed. The score on this train-test partition for these parameters will be set to nan. Details: \n",
      "ValueError: Solver lbfgs supports only 'l2' or 'none' penalties, got elasticnet penalty.\n",
      "\n",
      "  FitFailedWarning)\n",
      "//anaconda3/lib/python3.7/site-packages/sklearn/model_selection/_validation.py:536: FitFailedWarning: Estimator fit failed. The score on this train-test partition for these parameters will be set to nan. Details: \n",
      "ValueError: Solver lbfgs supports only 'l2' or 'none' penalties, got elasticnet penalty.\n",
      "\n",
      "  FitFailedWarning)\n",
      "//anaconda3/lib/python3.7/site-packages/sklearn/model_selection/_validation.py:536: FitFailedWarning: Estimator fit failed. The score on this train-test partition for these parameters will be set to nan. Details: \n",
      "ValueError: Solver lbfgs supports only 'l2' or 'none' penalties, got l1 penalty.\n",
      "\n",
      "  FitFailedWarning)\n",
      "//anaconda3/lib/python3.7/site-packages/sklearn/model_selection/_validation.py:536: FitFailedWarning: Estimator fit failed. The score on this train-test partition for these parameters will be set to nan. Details: \n",
      "ValueError: Solver lbfgs supports only dual=False, got dual=True\n",
      "\n",
      "  FitFailedWarning)\n",
      "//anaconda3/lib/python3.7/site-packages/sklearn/model_selection/_validation.py:536: FitFailedWarning: Estimator fit failed. The score on this train-test partition for these parameters will be set to nan. Details: \n",
      "ValueError: Solver lbfgs supports only 'l2' or 'none' penalties, got elasticnet penalty.\n",
      "\n",
      "  FitFailedWarning)\n",
      "//anaconda3/lib/python3.7/site-packages/sklearn/model_selection/_validation.py:536: FitFailedWarning: Estimator fit failed. The score on this train-test partition for these parameters will be set to nan. Details: \n",
      "ValueError: Solver lbfgs supports only 'l2' or 'none' penalties, got l1 penalty.\n",
      "\n",
      "  FitFailedWarning)\n",
      "//anaconda3/lib/python3.7/site-packages/sklearn/model_selection/_validation.py:536: FitFailedWarning: Estimator fit failed. The score on this train-test partition for these parameters will be set to nan. Details: \n",
      "ValueError: Solver lbfgs supports only dual=False, got dual=True\n",
      "\n",
      "  FitFailedWarning)\n",
      "//anaconda3/lib/python3.7/site-packages/sklearn/model_selection/_validation.py:536: FitFailedWarning: Estimator fit failed. The score on this train-test partition for these parameters will be set to nan. Details: \n",
      "ValueError: Solver lbfgs supports only 'l2' or 'none' penalties, got elasticnet penalty.\n",
      "\n",
      "  FitFailedWarning)\n",
      "//anaconda3/lib/python3.7/site-packages/sklearn/model_selection/_validation.py:536: FitFailedWarning: Estimator fit failed. The score on this train-test partition for these parameters will be set to nan. Details: \n",
      "ValueError: Solver lbfgs supports only 'l2' or 'none' penalties, got l1 penalty.\n",
      "\n",
      "  FitFailedWarning)\n",
      "//anaconda3/lib/python3.7/site-packages/sklearn/model_selection/_validation.py:536: FitFailedWarning: Estimator fit failed. The score on this train-test partition for these parameters will be set to nan. Details: \n",
      "ValueError: Solver lbfgs supports only dual=False, got dual=True\n",
      "\n",
      "  FitFailedWarning)\n",
      "//anaconda3/lib/python3.7/site-packages/sklearn/model_selection/_validation.py:536: FitFailedWarning: Estimator fit failed. The score on this train-test partition for these parameters will be set to nan. Details: \n",
      "ValueError: Solver lbfgs supports only 'l2' or 'none' penalties, got elasticnet penalty.\n",
      "\n",
      "  FitFailedWarning)\n"
     ]
    },
    {
     "data": {
      "text/plain": [
       "GridSearchCV(cv=StratifiedKFold(n_splits=5, random_state=None, shuffle=False),\n",
       "             error_score=nan,\n",
       "             estimator=LogisticRegression(C=1.0, class_weight=None, dual=False,\n",
       "                                          fit_intercept=True,\n",
       "                                          intercept_scaling=1, l1_ratio=None,\n",
       "                                          max_iter=100, multi_class='auto',\n",
       "                                          n_jobs=None, penalty='none',\n",
       "                                          random_state=None, solver='lbfgs',\n",
       "                                          tol=0.0001, verbose=0,\n",
       "                                          warm_start=False),\n",
       "             iid='deprecated', n_jobs=None,\n",
       "             param_grid={'C': [10, 100, 1000, 10000], 'dual': [True, False],\n",
       "                         'max_iter': [10000],\n",
       "                         'penalty': ['l1', 'l2', 'elasticnet']},\n",
       "             pre_dispatch='2*n_jobs', refit=True, return_train_score=True,\n",
       "             scoring='roc_auc', verbose=0)"
      ]
     },
     "execution_count": 35,
     "metadata": {},
     "output_type": "execute_result"
    }
   ],
   "source": [
    "skf = StratifiedKFold(n_splits = 5)\n",
    "\n",
    "param_grid = {'penalty' : ['l1', 'l2','elasticnet'],\n",
    "              'dual' : [True, False],\n",
    "              'C' : [10,100,1000,10000],\n",
    "              'max_iter' : [10000]\n",
    "              }\n",
    "\n",
    "log_reg_gs = GridSearchCV(log_reg,\n",
    "                         param_grid,\n",
    "                         cv=skf,\n",
    "                         scoring='roc_auc',\n",
    "                         return_train_score=True)\n",
    "\n",
    "log_reg_gs.fit(X_train,y_train)"
   ]
  },
  {
   "cell_type": "markdown",
   "metadata": {},
   "source": [
    "We can save the best estimator model under the variable log_reg_gs_model"
   ]
  },
  {
   "cell_type": "code",
   "execution_count": 36,
   "metadata": {},
   "outputs": [],
   "source": [
    "log_reg_gs_model = log_reg_gs.best_estimator_"
   ]
  },
  {
   "cell_type": "markdown",
   "metadata": {},
   "source": [
    "### 1.2) Assessing the results of First Iteration of Grid Search CV"
   ]
  },
  {
   "cell_type": "markdown",
   "metadata": {},
   "source": [
    "We will now check the parameters on this model, and also check the R-Squared value."
   ]
  },
  {
   "cell_type": "code",
   "execution_count": 37,
   "metadata": {},
   "outputs": [
    {
     "name": "stdout",
     "output_type": "stream",
     "text": [
      "best model:{'C': 10, 'dual': False, 'max_iter': 10000, 'penalty': 'l2'}\n",
      "best score: 0.6107533751580213\n"
     ]
    }
   ],
   "source": [
    "print(f'best model:{log_reg_gs.best_params_}')\n",
    "print(f'best score: {log_reg_gs.best_score_}')"
   ]
  },
  {
   "cell_type": "markdown",
   "metadata": {},
   "source": [
    "We will now get the predicted y values based on the X_val dataset and check the Accuracy of the model."
   ]
  },
  {
   "cell_type": "code",
   "execution_count": 38,
   "metadata": {},
   "outputs": [
    {
     "name": "stdout",
     "output_type": "stream",
     "text": [
      "ROC_AUC Tuned Logistic Regression (val) = 0.6228530712158077\n"
     ]
    }
   ],
   "source": [
    "log_reg_gs_yval_predprob = log_reg_gs_model.predict_proba(X_val)\n",
    "print(\"ROC_AUC Tuned Logistic Regression (val) =\", roc_auc_score(y_val, log_reg_gs_yval_predprob[:,1]))"
   ]
  },
  {
   "cell_type": "code",
   "execution_count": 39,
   "metadata": {},
   "outputs": [
    {
     "name": "stdout",
     "output_type": "stream",
     "text": [
      "ROC_AUC of Baseline model (val) = 0.7583945178658835\n"
     ]
    }
   ],
   "source": [
    "log_reg_gs_model_predpred = log_reg_gs_model.predict(X_test)\n",
    "print(\"ROC_AUC of Baseline model (val) =\", accuracy_score(y_test, log_reg_gs_model_predpred))"
   ]
  },
  {
   "cell_type": "markdown",
   "metadata": {},
   "source": [
    "### 2.1) Second Iteration of Grid Search CV"
   ]
  },
  {
   "cell_type": "markdown",
   "metadata": {},
   "source": [
    "We will now look to adjust some of the hyperparameters and see if we can further improve our performance>"
   ]
  },
  {
   "cell_type": "code",
   "execution_count": 313,
   "metadata": {},
   "outputs": [
    {
     "name": "stderr",
     "output_type": "stream",
     "text": [
      "//anaconda3/lib/python3.7/site-packages/sklearn/model_selection/_validation.py:536: FitFailedWarning: Estimator fit failed. The score on this train-test partition for these parameters will be set to nan. Details: \n",
      "ValueError: Solver lbfgs supports only 'l2' or 'none' penalties, got l1 penalty.\n",
      "\n",
      "  FitFailedWarning)\n",
      "//anaconda3/lib/python3.7/site-packages/sklearn/model_selection/_validation.py:536: FitFailedWarning: Estimator fit failed. The score on this train-test partition for these parameters will be set to nan. Details: \n",
      "ValueError: Solver lbfgs supports only dual=False, got dual=True\n",
      "\n",
      "  FitFailedWarning)\n",
      "//anaconda3/lib/python3.7/site-packages/sklearn/model_selection/_validation.py:536: FitFailedWarning: Estimator fit failed. The score on this train-test partition for these parameters will be set to nan. Details: \n",
      "ValueError: Solver lbfgs supports only 'l2' or 'none' penalties, got elasticnet penalty.\n",
      "\n",
      "  FitFailedWarning)\n",
      "//anaconda3/lib/python3.7/site-packages/sklearn/model_selection/_validation.py:536: FitFailedWarning: Estimator fit failed. The score on this train-test partition for these parameters will be set to nan. Details: \n",
      "ValueError: Solver lbfgs supports only 'l2' or 'none' penalties, got elasticnet penalty.\n",
      "\n",
      "  FitFailedWarning)\n",
      "//anaconda3/lib/python3.7/site-packages/sklearn/model_selection/_validation.py:536: FitFailedWarning: Estimator fit failed. The score on this train-test partition for these parameters will be set to nan. Details: \n",
      "ValueError: Solver lbfgs supports only 'l2' or 'none' penalties, got l1 penalty.\n",
      "\n",
      "  FitFailedWarning)\n",
      "//anaconda3/lib/python3.7/site-packages/sklearn/model_selection/_validation.py:536: FitFailedWarning: Estimator fit failed. The score on this train-test partition for these parameters will be set to nan. Details: \n",
      "ValueError: Solver lbfgs supports only dual=False, got dual=True\n",
      "\n",
      "  FitFailedWarning)\n",
      "//anaconda3/lib/python3.7/site-packages/sklearn/model_selection/_validation.py:536: FitFailedWarning: Estimator fit failed. The score on this train-test partition for these parameters will be set to nan. Details: \n",
      "ValueError: Solver lbfgs supports only 'l2' or 'none' penalties, got elasticnet penalty.\n",
      "\n",
      "  FitFailedWarning)\n",
      "//anaconda3/lib/python3.7/site-packages/sklearn/model_selection/_validation.py:536: FitFailedWarning: Estimator fit failed. The score on this train-test partition for these parameters will be set to nan. Details: \n",
      "ValueError: Solver lbfgs supports only 'l2' or 'none' penalties, got l1 penalty.\n",
      "\n",
      "  FitFailedWarning)\n",
      "//anaconda3/lib/python3.7/site-packages/sklearn/model_selection/_validation.py:536: FitFailedWarning: Estimator fit failed. The score on this train-test partition for these parameters will be set to nan. Details: \n",
      "ValueError: Solver lbfgs supports only dual=False, got dual=True\n",
      "\n",
      "  FitFailedWarning)\n",
      "//anaconda3/lib/python3.7/site-packages/sklearn/model_selection/_validation.py:536: FitFailedWarning: Estimator fit failed. The score on this train-test partition for these parameters will be set to nan. Details: \n",
      "ValueError: Solver lbfgs supports only 'l2' or 'none' penalties, got elasticnet penalty.\n",
      "\n",
      "  FitFailedWarning)\n"
     ]
    },
    {
     "data": {
      "text/plain": [
       "GridSearchCV(cv=StratifiedKFold(n_splits=5, random_state=None, shuffle=False),\n",
       "             error_score=nan,\n",
       "             estimator=LogisticRegression(C=1.0, class_weight=None, dual=False,\n",
       "                                          fit_intercept=True,\n",
       "                                          intercept_scaling=1, l1_ratio=None,\n",
       "                                          max_iter=100, multi_class='auto',\n",
       "                                          n_jobs=None, penalty='none',\n",
       "                                          random_state=None, solver='lbfgs',\n",
       "                                          tol=0.0001, verbose=0,\n",
       "                                          warm_start=False),\n",
       "             iid='deprecated', n_jobs=None,\n",
       "             param_grid={'C': [1, 10, 100], 'dual': [True, False],\n",
       "                         'max_iter': [10000],\n",
       "                         'penalty': ['l1', 'l2', 'elasticnet']},\n",
       "             pre_dispatch='2*n_jobs', refit=True, return_train_score=True,\n",
       "             scoring='roc_auc', verbose=0)"
      ]
     },
     "execution_count": 313,
     "metadata": {},
     "output_type": "execute_result"
    }
   ],
   "source": [
    "skf = StratifiedKFold(n_splits = 5)\n",
    "\n",
    "param_grid = {'penalty' : ['l1', 'l2','elasticnet'],\n",
    "              'dual' : [True, False],\n",
    "              'C' : [1,10,100],\n",
    "              'max_iter' : [10000]\n",
    "              }\n",
    "\n",
    "log_reg_gs2 = GridSearchCV(log_reg,\n",
    "                         param_grid,\n",
    "                         cv=skf,\n",
    "                         scoring='roc_auc',\n",
    "                         return_train_score=True)\n",
    "\n",
    "log_reg_gs2.fit(X_train,y_train)"
   ]
  },
  {
   "cell_type": "markdown",
   "metadata": {},
   "source": [
    "### 2.2) Assessing the results of Second Iteration of Grid Search CV"
   ]
  },
  {
   "cell_type": "code",
   "execution_count": 315,
   "metadata": {},
   "outputs": [
    {
     "name": "stdout",
     "output_type": "stream",
     "text": [
      "best model:{'C': 1, 'dual': False, 'max_iter': 10000, 'penalty': 'l2'}\n",
      "best score: 0.6164533596036038\n"
     ]
    }
   ],
   "source": [
    "#Checking to see the parameters and R-Squared\n",
    "print(f'best model:{log_reg_gs2.best_params_}')\n",
    "print(f'best score: {log_reg_gs2.best_score_}')"
   ]
  },
  {
   "cell_type": "code",
   "execution_count": 319,
   "metadata": {},
   "outputs": [
    {
     "data": {
      "text/plain": [
       "LogisticRegression(C=1, class_weight=None, dual=False, fit_intercept=True,\n",
       "                   intercept_scaling=1, l1_ratio=None, max_iter=10000,\n",
       "                   multi_class='auto', n_jobs=None, penalty='l2',\n",
       "                   random_state=None, solver='lbfgs', tol=0.0001, verbose=0,\n",
       "                   warm_start=False)"
      ]
     },
     "execution_count": 319,
     "metadata": {},
     "output_type": "execute_result"
    }
   ],
   "source": [
    "log_reg_gs2_model = log_reg_gs2.best_estimator_\n",
    "log_reg_gs2_model"
   ]
  },
  {
   "cell_type": "code",
   "execution_count": 317,
   "metadata": {},
   "outputs": [
    {
     "name": "stdout",
     "output_type": "stream",
     "text": [
      "ROC_AUC of model (val) = 0.6112791504073816\n"
     ]
    }
   ],
   "source": [
    "log_reg_gs2_yval_predprob = log_reg_gs2_model.predict_proba(X_val)\n",
    "print(\"ROC_AUC of model (val) =\", roc_auc_score(y_val, log_reg_gs2_yval_predprob[:,1]))"
   ]
  },
  {
   "cell_type": "markdown",
   "metadata": {},
   "source": [
    "### 3.1) Third Iteration of Grid Search CV"
   ]
  },
  {
   "cell_type": "code",
   "execution_count": 321,
   "metadata": {},
   "outputs": [
    {
     "name": "stderr",
     "output_type": "stream",
     "text": [
      "//anaconda3/lib/python3.7/site-packages/sklearn/model_selection/_validation.py:536: FitFailedWarning: Estimator fit failed. The score on this train-test partition for these parameters will be set to nan. Details: \n",
      "ValueError: Solver lbfgs supports only 'l2' or 'none' penalties, got l1 penalty.\n",
      "\n",
      "  FitFailedWarning)\n",
      "//anaconda3/lib/python3.7/site-packages/sklearn/model_selection/_validation.py:536: FitFailedWarning: Estimator fit failed. The score on this train-test partition for these parameters will be set to nan. Details: \n",
      "ValueError: Solver lbfgs supports only dual=False, got dual=True\n",
      "\n",
      "  FitFailedWarning)\n",
      "//anaconda3/lib/python3.7/site-packages/sklearn/model_selection/_validation.py:536: FitFailedWarning: Estimator fit failed. The score on this train-test partition for these parameters will be set to nan. Details: \n",
      "ValueError: Solver lbfgs supports only 'l2' or 'none' penalties, got elasticnet penalty.\n",
      "\n",
      "  FitFailedWarning)\n",
      "//anaconda3/lib/python3.7/site-packages/sklearn/model_selection/_validation.py:536: FitFailedWarning: Estimator fit failed. The score on this train-test partition for these parameters will be set to nan. Details: \n",
      "ZeroDivisionError: float division by zero\n",
      "\n",
      "  FitFailedWarning)\n",
      "//anaconda3/lib/python3.7/site-packages/sklearn/model_selection/_validation.py:536: FitFailedWarning: Estimator fit failed. The score on this train-test partition for these parameters will be set to nan. Details: \n",
      "ZeroDivisionError: float division by zero\n",
      "\n",
      "  FitFailedWarning)\n",
      "//anaconda3/lib/python3.7/site-packages/sklearn/model_selection/_validation.py:536: FitFailedWarning: Estimator fit failed. The score on this train-test partition for these parameters will be set to nan. Details: \n",
      "ZeroDivisionError: float division by zero\n",
      "\n",
      "  FitFailedWarning)\n",
      "//anaconda3/lib/python3.7/site-packages/sklearn/model_selection/_validation.py:536: FitFailedWarning: Estimator fit failed. The score on this train-test partition for these parameters will be set to nan. Details: \n",
      "ZeroDivisionError: float division by zero\n",
      "\n",
      "  FitFailedWarning)\n",
      "//anaconda3/lib/python3.7/site-packages/sklearn/model_selection/_validation.py:536: FitFailedWarning: Estimator fit failed. The score on this train-test partition for these parameters will be set to nan. Details: \n",
      "ZeroDivisionError: float division by zero\n",
      "\n",
      "  FitFailedWarning)\n",
      "//anaconda3/lib/python3.7/site-packages/sklearn/model_selection/_validation.py:536: FitFailedWarning: Estimator fit failed. The score on this train-test partition for these parameters will be set to nan. Details: \n",
      "ValueError: Solver lbfgs supports only 'l2' or 'none' penalties, got elasticnet penalty.\n",
      "\n",
      "  FitFailedWarning)\n",
      "//anaconda3/lib/python3.7/site-packages/sklearn/model_selection/_validation.py:536: FitFailedWarning: Estimator fit failed. The score on this train-test partition for these parameters will be set to nan. Details: \n",
      "ValueError: Solver lbfgs supports only 'l2' or 'none' penalties, got l1 penalty.\n",
      "\n",
      "  FitFailedWarning)\n",
      "//anaconda3/lib/python3.7/site-packages/sklearn/model_selection/_validation.py:536: FitFailedWarning: Estimator fit failed. The score on this train-test partition for these parameters will be set to nan. Details: \n",
      "ValueError: Solver lbfgs supports only dual=False, got dual=True\n",
      "\n",
      "  FitFailedWarning)\n",
      "//anaconda3/lib/python3.7/site-packages/sklearn/model_selection/_validation.py:536: FitFailedWarning: Estimator fit failed. The score on this train-test partition for these parameters will be set to nan. Details: \n",
      "ValueError: Solver lbfgs supports only 'l2' or 'none' penalties, got elasticnet penalty.\n",
      "\n",
      "  FitFailedWarning)\n",
      "//anaconda3/lib/python3.7/site-packages/sklearn/model_selection/_validation.py:536: FitFailedWarning: Estimator fit failed. The score on this train-test partition for these parameters will be set to nan. Details: \n",
      "ValueError: Solver lbfgs supports only 'l2' or 'none' penalties, got l1 penalty.\n",
      "\n",
      "  FitFailedWarning)\n",
      "//anaconda3/lib/python3.7/site-packages/sklearn/model_selection/_validation.py:536: FitFailedWarning: Estimator fit failed. The score on this train-test partition for these parameters will be set to nan. Details: \n",
      "ValueError: Solver lbfgs supports only dual=False, got dual=True\n",
      "\n",
      "  FitFailedWarning)\n",
      "//anaconda3/lib/python3.7/site-packages/sklearn/model_selection/_validation.py:536: FitFailedWarning: Estimator fit failed. The score on this train-test partition for these parameters will be set to nan. Details: \n",
      "ValueError: Solver lbfgs supports only 'l2' or 'none' penalties, got elasticnet penalty.\n",
      "\n",
      "  FitFailedWarning)\n",
      "//anaconda3/lib/python3.7/site-packages/sklearn/model_selection/_validation.py:536: FitFailedWarning: Estimator fit failed. The score on this train-test partition for these parameters will be set to nan. Details: \n",
      "ValueError: Solver lbfgs supports only 'l2' or 'none' penalties, got l1 penalty.\n",
      "\n",
      "  FitFailedWarning)\n",
      "//anaconda3/lib/python3.7/site-packages/sklearn/model_selection/_validation.py:536: FitFailedWarning: Estimator fit failed. The score on this train-test partition for these parameters will be set to nan. Details: \n",
      "ValueError: Solver lbfgs supports only dual=False, got dual=True\n",
      "\n",
      "  FitFailedWarning)\n",
      "//anaconda3/lib/python3.7/site-packages/sklearn/model_selection/_validation.py:536: FitFailedWarning: Estimator fit failed. The score on this train-test partition for these parameters will be set to nan. Details: \n",
      "ValueError: Solver lbfgs supports only 'l2' or 'none' penalties, got elasticnet penalty.\n",
      "\n",
      "  FitFailedWarning)\n"
     ]
    },
    {
     "data": {
      "text/plain": [
       "GridSearchCV(cv=StratifiedKFold(n_splits=5, random_state=None, shuffle=False),\n",
       "             error_score=nan,\n",
       "             estimator=LogisticRegression(C=1.0, class_weight=None, dual=False,\n",
       "                                          fit_intercept=True,\n",
       "                                          intercept_scaling=1, l1_ratio=None,\n",
       "                                          max_iter=100, multi_class='auto',\n",
       "                                          n_jobs=None, penalty='none',\n",
       "                                          random_state=None, solver='lbfgs',\n",
       "                                          tol=0.0001, verbose=0,\n",
       "                                          warm_start=False),\n",
       "             iid='deprecated', n_jobs=None,\n",
       "             param_grid={'C': [0, 0.1, 0.5, 1], 'dual': [True, False],\n",
       "                         'max_iter': [10000],\n",
       "                         'penalty': ['l1', 'l2', 'elasticnet']},\n",
       "             pre_dispatch='2*n_jobs', refit=True, return_train_score=True,\n",
       "             scoring='roc_auc', verbose=0)"
      ]
     },
     "execution_count": 321,
     "metadata": {},
     "output_type": "execute_result"
    }
   ],
   "source": [
    "skf = StratifiedKFold(n_splits = 5)\n",
    "\n",
    "param_grid = {'penalty' : ['l1', 'l2','elasticnet'],\n",
    "              'dual' : [True, False],\n",
    "              'C' : [0,0.1,0.5,1],\n",
    "              'max_iter' : [10000]\n",
    "              }\n",
    "              \n",
    "\n",
    "log_reg_gs3 = GridSearchCV(log_reg,\n",
    "                         param_grid,\n",
    "                         cv=skf,\n",
    "                         scoring='roc_auc',\n",
    "                         return_train_score=True)\n",
    "\n",
    "log_reg_gs3.fit(X_train,y_train)"
   ]
  },
  {
   "cell_type": "markdown",
   "metadata": {},
   "source": [
    "### 3.2) Assessing the results of Third Iteration of Grid Search CV"
   ]
  },
  {
   "cell_type": "code",
   "execution_count": 322,
   "metadata": {},
   "outputs": [
    {
     "name": "stdout",
     "output_type": "stream",
     "text": [
      "best model:{'C': 0.5, 'dual': False, 'max_iter': 10000, 'penalty': 'l2'}\n",
      "best score: 0.6165485373592658\n"
     ]
    }
   ],
   "source": [
    "#Checking to see the parameters and R-Squared\n",
    "print(f'best model:{log_reg_gs3.best_params_}')\n",
    "print(f'best score: {log_reg_gs3.best_score_}')"
   ]
  },
  {
   "cell_type": "code",
   "execution_count": 323,
   "metadata": {},
   "outputs": [
    {
     "data": {
      "text/plain": [
       "LogisticRegression(C=0.5, class_weight=None, dual=False, fit_intercept=True,\n",
       "                   intercept_scaling=1, l1_ratio=None, max_iter=10000,\n",
       "                   multi_class='auto', n_jobs=None, penalty='l2',\n",
       "                   random_state=None, solver='lbfgs', tol=0.0001, verbose=0,\n",
       "                   warm_start=False)"
      ]
     },
     "execution_count": 323,
     "metadata": {},
     "output_type": "execute_result"
    }
   ],
   "source": [
    "log_reg_gs3_model = log_reg_gs3.best_estimator_\n",
    "log_reg_gs3_model"
   ]
  },
  {
   "cell_type": "code",
   "execution_count": 324,
   "metadata": {},
   "outputs": [
    {
     "name": "stdout",
     "output_type": "stream",
     "text": [
      "ROC_AUC of model (val) = 0.6111679299278959\n"
     ]
    }
   ],
   "source": [
    "log_reg_gs3_yval_predprob = log_reg_gs3_model.predict_proba(X_val)\n",
    "print(\"ROC_AUC of model (val) =\", roc_auc_score(y_val, log_reg_gs3_yval_predprob[:,1]))"
   ]
  },
  {
   "cell_type": "markdown",
   "metadata": {},
   "source": [
    "### 4.1) Fourth Iteration of Grid Search CV"
   ]
  },
  {
   "cell_type": "code",
   "execution_count": 325,
   "metadata": {},
   "outputs": [
    {
     "name": "stderr",
     "output_type": "stream",
     "text": [
      "//anaconda3/lib/python3.7/site-packages/sklearn/model_selection/_validation.py:536: FitFailedWarning: Estimator fit failed. The score on this train-test partition for these parameters will be set to nan. Details: \n",
      "ValueError: Solver lbfgs supports only 'l2' or 'none' penalties, got l1 penalty.\n",
      "\n",
      "  FitFailedWarning)\n",
      "//anaconda3/lib/python3.7/site-packages/sklearn/model_selection/_validation.py:536: FitFailedWarning: Estimator fit failed. The score on this train-test partition for these parameters will be set to nan. Details: \n",
      "ValueError: Solver lbfgs supports only dual=False, got dual=True\n",
      "\n",
      "  FitFailedWarning)\n",
      "//anaconda3/lib/python3.7/site-packages/sklearn/model_selection/_validation.py:536: FitFailedWarning: Estimator fit failed. The score on this train-test partition for these parameters will be set to nan. Details: \n",
      "ValueError: Solver lbfgs supports only 'l2' or 'none' penalties, got elasticnet penalty.\n",
      "\n",
      "  FitFailedWarning)\n",
      "//anaconda3/lib/python3.7/site-packages/sklearn/model_selection/_validation.py:536: FitFailedWarning: Estimator fit failed. The score on this train-test partition for these parameters will be set to nan. Details: \n",
      "ValueError: Solver lbfgs supports only 'l2' or 'none' penalties, got elasticnet penalty.\n",
      "\n",
      "  FitFailedWarning)\n",
      "//anaconda3/lib/python3.7/site-packages/sklearn/model_selection/_validation.py:536: FitFailedWarning: Estimator fit failed. The score on this train-test partition for these parameters will be set to nan. Details: \n",
      "ValueError: Solver lbfgs supports only 'l2' or 'none' penalties, got l1 penalty.\n",
      "\n",
      "  FitFailedWarning)\n",
      "//anaconda3/lib/python3.7/site-packages/sklearn/model_selection/_validation.py:536: FitFailedWarning: Estimator fit failed. The score on this train-test partition for these parameters will be set to nan. Details: \n",
      "ValueError: Solver lbfgs supports only dual=False, got dual=True\n",
      "\n",
      "  FitFailedWarning)\n",
      "//anaconda3/lib/python3.7/site-packages/sklearn/model_selection/_validation.py:536: FitFailedWarning: Estimator fit failed. The score on this train-test partition for these parameters will be set to nan. Details: \n",
      "ValueError: Solver lbfgs supports only 'l2' or 'none' penalties, got elasticnet penalty.\n",
      "\n",
      "  FitFailedWarning)\n",
      "//anaconda3/lib/python3.7/site-packages/sklearn/model_selection/_validation.py:536: FitFailedWarning: Estimator fit failed. The score on this train-test partition for these parameters will be set to nan. Details: \n",
      "ValueError: Solver lbfgs supports only 'l2' or 'none' penalties, got l1 penalty.\n",
      "\n",
      "  FitFailedWarning)\n",
      "//anaconda3/lib/python3.7/site-packages/sklearn/model_selection/_validation.py:536: FitFailedWarning: Estimator fit failed. The score on this train-test partition for these parameters will be set to nan. Details: \n",
      "ValueError: Solver lbfgs supports only dual=False, got dual=True\n",
      "\n",
      "  FitFailedWarning)\n",
      "//anaconda3/lib/python3.7/site-packages/sklearn/model_selection/_validation.py:536: FitFailedWarning: Estimator fit failed. The score on this train-test partition for these parameters will be set to nan. Details: \n",
      "ValueError: Solver lbfgs supports only 'l2' or 'none' penalties, got elasticnet penalty.\n",
      "\n",
      "  FitFailedWarning)\n"
     ]
    },
    {
     "data": {
      "text/plain": [
       "GridSearchCV(cv=StratifiedKFold(n_splits=5, random_state=None, shuffle=False),\n",
       "             error_score=nan,\n",
       "             estimator=LogisticRegression(C=1.0, class_weight=None, dual=False,\n",
       "                                          fit_intercept=True,\n",
       "                                          intercept_scaling=1, l1_ratio=None,\n",
       "                                          max_iter=100, multi_class='auto',\n",
       "                                          n_jobs=None, penalty='none',\n",
       "                                          random_state=None, solver='lbfgs',\n",
       "                                          tol=0.0001, verbose=0,\n",
       "                                          warm_start=False),\n",
       "             iid='deprecated', n_jobs=None,\n",
       "             param_grid={'C': [1, 10, 100], 'dual': [True, False],\n",
       "                         'max_iter': [10000],\n",
       "                         'penalty': ['l1', 'l2', 'elasticnet']},\n",
       "             pre_dispatch='2*n_jobs', refit=True, return_train_score=True,\n",
       "             scoring='roc_auc', verbose=0)"
      ]
     },
     "execution_count": 325,
     "metadata": {},
     "output_type": "execute_result"
    }
   ],
   "source": [
    "skf = StratifiedKFold(n_splits = 5)\n",
    "\n",
    "param_grid = {'penalty' : ['l1', 'l2','elasticnet'],\n",
    "              'dual' : [True, False],\n",
    "              'C' : [1,10,100],\n",
    "              'max_iter' : [10000]\n",
    "              \n",
    "              }\n",
    "\n",
    "log_reg_gs4 = GridSearchCV(log_reg,\n",
    "                         param_grid,\n",
    "                         cv=skf,\n",
    "                         scoring='roc_auc',\n",
    "                         return_train_score=True)\n",
    "\n",
    "log_reg_gs4.fit(X_train,y_train)"
   ]
  },
  {
   "cell_type": "markdown",
   "metadata": {},
   "source": [
    "### 4.2) Assessing the results of Fourth Iteration of Grid Search CV"
   ]
  },
  {
   "cell_type": "code",
   "execution_count": 326,
   "metadata": {},
   "outputs": [
    {
     "name": "stdout",
     "output_type": "stream",
     "text": [
      "best model:{'C': 1, 'dual': False, 'max_iter': 10000, 'penalty': 'l2'}\n",
      "best score: 0.6164533596036038\n"
     ]
    }
   ],
   "source": [
    "#Checking to see the parameters and R-Squared\n",
    "print(f'best model:{log_reg_gs4.best_params_}')\n",
    "print(f'best score: {log_reg_gs4.best_score_}')"
   ]
  },
  {
   "cell_type": "code",
   "execution_count": 327,
   "metadata": {},
   "outputs": [
    {
     "data": {
      "text/plain": [
       "LogisticRegression(C=1, class_weight=None, dual=False, fit_intercept=True,\n",
       "                   intercept_scaling=1, l1_ratio=None, max_iter=10000,\n",
       "                   multi_class='auto', n_jobs=None, penalty='l2',\n",
       "                   random_state=None, solver='lbfgs', tol=0.0001, verbose=0,\n",
       "                   warm_start=False)"
      ]
     },
     "execution_count": 327,
     "metadata": {},
     "output_type": "execute_result"
    }
   ],
   "source": [
    "log_reg_gs4_model = log_reg_gs4.best_estimator_\n",
    "log_reg_gs4_model"
   ]
  },
  {
   "cell_type": "code",
   "execution_count": 328,
   "metadata": {},
   "outputs": [
    {
     "name": "stdout",
     "output_type": "stream",
     "text": [
      "ROC_AUC of model (val) = 0.6112791504073816\n"
     ]
    }
   ],
   "source": [
    "log_reg_gs4_yval_predprob = log_reg_gs4_model.predict_proba(X_val)\n",
    "print(\"ROC_AUC of model (val) =\", roc_auc_score(y_val, log_reg_gs4_yval_predprob[:,1]))"
   ]
  },
  {
   "cell_type": "markdown",
   "metadata": {},
   "source": [
    "### 5.1) Fifth Iteration of Grid Search CV"
   ]
  },
  {
   "cell_type": "code",
   "execution_count": 329,
   "metadata": {},
   "outputs": [
    {
     "data": {
      "text/plain": [
       "GridSearchCV(cv=StratifiedKFold(n_splits=5, random_state=None, shuffle=False),\n",
       "             error_score=nan,\n",
       "             estimator=LogisticRegression(C=1.0, class_weight=None, dual=False,\n",
       "                                          fit_intercept=True,\n",
       "                                          intercept_scaling=1, l1_ratio=None,\n",
       "                                          max_iter=100, multi_class='auto',\n",
       "                                          n_jobs=None, penalty='none',\n",
       "                                          random_state=None, solver='lbfgs',\n",
       "                                          tol=0.0001, verbose=0,\n",
       "                                          warm_start=False),\n",
       "             iid='deprecated', n_jobs=None,\n",
       "             param_grid={'C': [0.5], 'class_weight': ['balanced'],\n",
       "                         'dual': [False], 'fit_intercept': [True],\n",
       "                         'intercept_scaling': [1], 'max_iter': [10000],\n",
       "                         'multi_class': ['ovr', 'auto'], 'penalty': ['l2'],\n",
       "                         'warm_start': [False]},\n",
       "             pre_dispatch='2*n_jobs', refit=True, return_train_score=True,\n",
       "             scoring='roc_auc', verbose=0)"
      ]
     },
     "execution_count": 329,
     "metadata": {},
     "output_type": "execute_result"
    }
   ],
   "source": [
    "skf = StratifiedKFold(n_splits = 5)\n",
    "\n",
    "param_grid = {'penalty' : ['l2'],\n",
    "              'dual' : [False],\n",
    "              'C' : [0.5],\n",
    "              'class_weight' :['balanced'],\n",
    "              'max_iter' : [10000],\n",
    "              'fit_intercept': [True],\n",
    "              'multi_class' : ['ovr','auto'],\n",
    "              'warm_start': [False],\n",
    "              'intercept_scaling':[1]\n",
    "              }\n",
    "\n",
    "log_reg_gs5 = GridSearchCV(log_reg,\n",
    "                         param_grid,\n",
    "                         cv=skf,\n",
    "                         scoring='roc_auc',\n",
    "                         return_train_score=True)\n",
    "\n",
    "log_reg_gs5.fit(X_train,y_train)"
   ]
  },
  {
   "cell_type": "markdown",
   "metadata": {},
   "source": [
    "### 5.2) Assessing the results of Fifth Iteration of Grid Search CV"
   ]
  },
  {
   "cell_type": "code",
   "execution_count": 330,
   "metadata": {},
   "outputs": [
    {
     "name": "stdout",
     "output_type": "stream",
     "text": [
      "best model:{'C': 0.5, 'class_weight': 'balanced', 'dual': False, 'fit_intercept': True, 'intercept_scaling': 1, 'max_iter': 10000, 'multi_class': 'ovr', 'penalty': 'l2', 'warm_start': False}\n",
      "best score: 0.6165659663878807\n"
     ]
    }
   ],
   "source": [
    "#Checking to see the parameters and R-Squared\n",
    "print(f'best model:{log_reg_gs5.best_params_}')\n",
    "print(f'best score: {log_reg_gs5.best_score_}')"
   ]
  },
  {
   "cell_type": "code",
   "execution_count": 331,
   "metadata": {},
   "outputs": [
    {
     "data": {
      "text/plain": [
       "LogisticRegression(C=0.5, class_weight='balanced', dual=False,\n",
       "                   fit_intercept=True, intercept_scaling=1, l1_ratio=None,\n",
       "                   max_iter=10000, multi_class='ovr', n_jobs=None, penalty='l2',\n",
       "                   random_state=None, solver='lbfgs', tol=0.0001, verbose=0,\n",
       "                   warm_start=False)"
      ]
     },
     "execution_count": 331,
     "metadata": {},
     "output_type": "execute_result"
    }
   ],
   "source": [
    "log_reg_gs5_model = log_reg_gs5.best_estimator_\n",
    "log_reg_gs5_model"
   ]
  },
  {
   "cell_type": "code",
   "execution_count": 332,
   "metadata": {},
   "outputs": [
    {
     "name": "stdout",
     "output_type": "stream",
     "text": [
      "ROC_AUC of model (val) = 0.6113276504471232\n"
     ]
    }
   ],
   "source": [
    "log_reg_gs5_yval_predprob = log_reg_gs5_model.predict_proba(X_val)\n",
    "print(\"ROC_AUC of model (val) =\", roc_auc_score(y_val, log_reg_gs5_yval_predprob[:,1]))"
   ]
  },
  {
   "cell_type": "markdown",
   "metadata": {},
   "source": [
    "## 2.3) Summary of Logistic Regression Modelling"
   ]
  },
  {
   "cell_type": "markdown",
   "metadata": {},
   "source": [
    "Based on the iterations we modelled using Grid Search CV, the best ROC_AUC score came from Iteration number 5. Having worked this out, we can now move onto other learners to see if we can further improve our model."
   ]
  },
  {
   "cell_type": "code",
   "execution_count": 337,
   "metadata": {},
   "outputs": [
    {
     "name": "stdout",
     "output_type": "stream",
     "text": [
      "ROC_AUC Scores Using Grid Search CV: \n",
      "------------------------------------ \n",
      "1: 0.6113313232656669\n",
      "2: 0.6112791504073816\n",
      "3: 0.6111679299278959\n",
      "4: 0.6112791504073816\n",
      "5: 0.6113276504471232\n",
      "------------------------------------ \n",
      "Baseline Model Using Logisitc Regression\n",
      "------------------------------------ \n",
      "0.611341211623284\n"
     ]
    }
   ],
   "source": [
    "print(\"ROC_AUC Scores Using Grid Search CV: \")\n",
    "print(\"------------------------------------ \")\n",
    "print(\"1:\", roc_auc_score(y_val, log_reg_gs_yval_predprob[:,1]))\n",
    "print(\"2:\", roc_auc_score(y_val, log_reg_gs2_yval_predprob[:,1]))\n",
    "print(\"3:\", roc_auc_score(y_val, log_reg_gs3_yval_predprob[:,1]))\n",
    "print(\"4:\", roc_auc_score(y_val, log_reg_gs4_yval_predprob[:,1]))\n",
    "print(\"5:\", roc_auc_score(y_val, log_reg_gs5_yval_predprob[:,1]))\n",
    "print(\"------------------------------------ \")\n",
    "print(\"Baseline Model Using Logisitc Regression\")\n",
    "print(\"------------------------------------ \")\n",
    "print(roc_auc_score(y_val, log_reg_yval_predproba[:,1]))"
   ]
  },
  {
   "cell_type": "code",
   "execution_count": 339,
   "metadata": {},
   "outputs": [
    {
     "data": {
      "text/plain": [
       "{'C': 0.5,\n",
       " 'class_weight': 'balanced',\n",
       " 'dual': False,\n",
       " 'fit_intercept': True,\n",
       " 'intercept_scaling': 1,\n",
       " 'max_iter': 10000,\n",
       " 'multi_class': 'ovr',\n",
       " 'penalty': 'l2',\n",
       " 'warm_start': False}"
      ]
     },
     "execution_count": 339,
     "metadata": {},
     "output_type": "execute_result"
    }
   ],
   "source": [
    "log_reg_gs5.best_params_"
   ]
  },
  {
   "cell_type": "markdown",
   "metadata": {},
   "source": [
    "# 3) K-Nearest Neighbours"
   ]
  },
  {
   "cell_type": "markdown",
   "metadata": {},
   "source": [
    "The next learner we will use to help with our analysis is K-Nearest Neighbours."
   ]
  },
  {
   "cell_type": "markdown",
   "metadata": {},
   "source": [
    "## 3.1) K-Nearest Neighbours Model"
   ]
  },
  {
   "cell_type": "markdown",
   "metadata": {},
   "source": [
    "We will begin by fitting the KNN learner onto the X_train and y_train data."
   ]
  },
  {
   "cell_type": "code",
   "execution_count": 341,
   "metadata": {},
   "outputs": [
    {
     "data": {
      "text/plain": [
       "KNeighborsClassifier(algorithm='auto', leaf_size=30, metric='minkowski',\n",
       "                     metric_params=None, n_jobs=None, n_neighbors=5, p=2,\n",
       "                     weights='uniform')"
      ]
     },
     "execution_count": 341,
     "metadata": {},
     "output_type": "execute_result"
    }
   ],
   "source": [
    "clf = KNeighborsClassifier()\n",
    "clf.fit(X_train, y_train)"
   ]
  },
  {
   "cell_type": "code",
   "execution_count": 342,
   "metadata": {},
   "outputs": [],
   "source": [
    "knn_preds = clf.predict(X_train)"
   ]
  },
  {
   "cell_type": "code",
   "execution_count": 343,
   "metadata": {},
   "outputs": [],
   "source": [
    "knn_pred_val = clf.predict(X_val)\n",
    "knn_yval_predproba = clf.predict_proba(X_val)"
   ]
  },
  {
   "cell_type": "code",
   "execution_count": 344,
   "metadata": {},
   "outputs": [
    {
     "name": "stdout",
     "output_type": "stream",
     "text": [
      "Accuracy of Baseline model (val) = 0.7163555671583344\n",
      "ROC_AUC of Baseline model (val) = 0.5513651678176714\n"
     ]
    }
   ],
   "source": [
    "print(\"Accuracy of Baseline model (val) =\", accuracy_score(y_val, knn_pred_val))\n",
    "print(\"ROC_AUC of Baseline model (val) =\", roc_auc_score(y_val, knn_yval_predproba[:,1]))"
   ]
  },
  {
   "cell_type": "markdown",
   "metadata": {},
   "source": [
    "## 3.2) Grid Search CV on KNN Model."
   ]
  },
  {
   "cell_type": "markdown",
   "metadata": {},
   "source": [
    "We will now look to improve on our KNN Model using GridSearch hyperparameter tuning."
   ]
  },
  {
   "cell_type": "markdown",
   "metadata": {},
   "source": [
    "## 1.1) First Iteration of Grid Search CV"
   ]
  },
  {
   "cell_type": "code",
   "execution_count": 346,
   "metadata": {},
   "outputs": [
    {
     "data": {
      "text/plain": [
       "GridSearchCV(cv=StratifiedKFold(n_splits=5, random_state=None, shuffle=False),\n",
       "             error_score=nan,\n",
       "             estimator=KNeighborsClassifier(algorithm='auto', leaf_size=30,\n",
       "                                            metric='minkowski',\n",
       "                                            metric_params=None, n_jobs=None,\n",
       "                                            n_neighbors=5, p=2,\n",
       "                                            weights='uniform'),\n",
       "             iid='deprecated', n_jobs=None,\n",
       "             param_grid={'n_neighbors': [1, 3, 5, 10],\n",
       "                         'weights': ['uniform', 'distance']},\n",
       "             pre_dispatch='2*n_jobs', refit=True, return_train_score=False,\n",
       "             scoring=None, verbose=0)"
      ]
     },
     "execution_count": 346,
     "metadata": {},
     "output_type": "execute_result"
    }
   ],
   "source": [
    "skf_knn = StratifiedKFold(n_splits = 5)\n",
    "\n",
    "param_grid_knn = {'n_neighbors':[1,3,5,10],\n",
    "                  'weights':['uniform','distance']\n",
    "                  \n",
    "              }\n",
    "\n",
    "grid_search_knn = GridSearchCV(clf,\n",
    "                         param_grid =param_grid_knn,\n",
    "                         cv=skf_knn,\n",
    "                         )\n",
    "\n",
    "grid_search_knn.fit(X_train,y_train)"
   ]
  },
  {
   "cell_type": "markdown",
   "metadata": {},
   "source": [
    "## 1.2) Assessing the results of First Iteration of Grid Search CV"
   ]
  },
  {
   "cell_type": "code",
   "execution_count": 348,
   "metadata": {},
   "outputs": [
    {
     "data": {
      "text/plain": [
       "{'n_neighbors': 10, 'weights': 'uniform'}"
      ]
     },
     "execution_count": 348,
     "metadata": {},
     "output_type": "execute_result"
    }
   ],
   "source": [
    "grid_search_knn_best = grid_search_knn.best_params_\n",
    "grid_search_knn_best"
   ]
  },
  {
   "cell_type": "code",
   "execution_count": 349,
   "metadata": {},
   "outputs": [
    {
     "name": "stdout",
     "output_type": "stream",
     "text": [
      "KNN Grid Search ROC AUC Score:0.5616553223661088\n"
     ]
    }
   ],
   "source": [
    "y_val_knn_predproba = grid_search_knn.predict_proba(X_val)[:,1]\n",
    "print(f'KNN Grid Search ROC AUC Score:{roc_auc_score(y_val, y_val_knn_predproba)}')"
   ]
  },
  {
   "cell_type": "markdown",
   "metadata": {},
   "source": [
    "# 4) Decision Tree"
   ]
  },
  {
   "cell_type": "markdown",
   "metadata": {},
   "source": [
    "The next learner we will consider for our classification problem is the Decision Tree."
   ]
  },
  {
   "cell_type": "markdown",
   "metadata": {},
   "source": [
    "## 4.1) Decision Tree Model"
   ]
  },
  {
   "cell_type": "markdown",
   "metadata": {},
   "source": [
    "We will begin by fitting the KNN learner onto the X_train and y_train data."
   ]
  },
  {
   "cell_type": "code",
   "execution_count": 291,
   "metadata": {},
   "outputs": [
    {
     "data": {
      "text/plain": [
       "DecisionTreeClassifier(ccp_alpha=0.0, class_weight=None, criterion='gini',\n",
       "                       max_depth=None, max_features=None, max_leaf_nodes=None,\n",
       "                       min_impurity_decrease=0.0, min_impurity_split=None,\n",
       "                       min_samples_leaf=1, min_samples_split=2,\n",
       "                       min_weight_fraction_leaf=0.0, presort='deprecated',\n",
       "                       random_state=None, splitter='best')"
      ]
     },
     "execution_count": 291,
     "metadata": {},
     "output_type": "execute_result"
    }
   ],
   "source": [
    "DT_classifier = DecisionTreeClassifier()  \n",
    "DT_classifier.fit(X_train, y_train) "
   ]
  },
  {
   "cell_type": "code",
   "execution_count": 292,
   "metadata": {},
   "outputs": [],
   "source": [
    "y_DT_pred = DT_classifier.predict(X_val)\n",
    "y_val_DT_predproba = DT_classifier.predict_proba(X_val)[:,1]"
   ]
  },
  {
   "cell_type": "code",
   "execution_count": 293,
   "metadata": {},
   "outputs": [
    {
     "name": "stdout",
     "output_type": "stream",
     "text": [
      "DT Accuracy Score:0.7235347865813863\n",
      "DT ROC AUC Score:0.5605444831063531\n"
     ]
    }
   ],
   "source": [
    "print(f'DT Accuracy Score:{accuracy_score(y_val, y_DT_pred)}')\n",
    "print(f'DT ROC AUC Score:{roc_auc_score(y_val, y_val_DT_predproba)}')"
   ]
  },
  {
   "cell_type": "code",
   "execution_count": 350,
   "metadata": {},
   "outputs": [
    {
     "data": {
      "text/plain": [
       "array([0.01516805, 0.00994912, 0.01175619, 0.00920666, 0.01467831,\n",
       "       0.04827631, 0.0483667 , 0.04373796, 0.04346842, 0.02581297,\n",
       "       0.02193087, 0.01852539, 0.02196198, 0.00776355, 0.01898271,\n",
       "       0.02414547, 0.02155032, 0.04415583, 0.02259804, 0.01958717,\n",
       "       0.00845186, 0.01537289, 0.04085225, 0.0268718 , 0.02969004,\n",
       "       0.02376883, 0.01593782, 0.003656  , 0.02597296, 0.00542566,\n",
       "       0.02646887, 0.02535084, 0.02358803, 0.03289243, 0.03183399,\n",
       "       0.03295893, 0.02573695, 0.03048564, 0.02549881, 0.02921513,\n",
       "       0.02834825])"
      ]
     },
     "execution_count": 350,
     "metadata": {},
     "output_type": "execute_result"
    }
   ],
   "source": [
    "DT_classifier.feature_importances_"
   ]
  },
  {
   "cell_type": "code",
   "execution_count": 356,
   "metadata": {},
   "outputs": [
    {
     "data": {
      "image/png": "[encoded data removed]",
      "text/plain": [
       "<Figure size 576x720 with 1 Axes>"
      ]
     },
     "metadata": {
      "needs_background": "light"
     },
     "output_type": "display_data"
    }
   ],
   "source": [
    "def plot_feature_importances(model):\n",
    "    n_features = X_train.shape[1]\n",
    "    plt.figure(figsize=(8,10))\n",
    "    plt.barh(range(n_features), model.feature_importances_, align='center') \n",
    "    plt.yticks(np.arange(n_features), X_train.columns.values) \n",
    "    plt.xlabel('Feature importance')\n",
    "    plt.ylabel('Feature')\n",
    "\n",
    "plot_feature_importances(DT_classifier)"
   ]
  },
  {
   "cell_type": "markdown",
   "metadata": {},
   "source": [
    "## 4.2) Grid Search CV on Decision Trees Model.\n"
   ]
  },
  {
   "cell_type": "markdown",
   "metadata": {},
   "source": [
    "### 1.1) First Iteration of Grid Search CV"
   ]
  },
  {
   "cell_type": "code",
   "execution_count": 358,
   "metadata": {},
   "outputs": [
    {
     "data": {
      "text/plain": [
       "GridSearchCV(cv=StratifiedKFold(n_splits=5, random_state=None, shuffle=False),\n",
       "             error_score=nan,\n",
       "             estimator=DecisionTreeClassifier(ccp_alpha=0.0, class_weight=None,\n",
       "                                              criterion='gini', max_depth=None,\n",
       "                                              max_features=None,\n",
       "                                              max_leaf_nodes=None,\n",
       "                                              min_impurity_decrease=0.0,\n",
       "                                              min_impurity_split=None,\n",
       "                                              min_samples_leaf=1,\n",
       "                                              min_samples_split=2,\n",
       "                                              min_weight_fraction_leaf=0.0,\n",
       "                                              presort='deprecated',\n",
       "                                              random_state=None,\n",
       "                                              splitter='best'),\n",
       "             iid='deprecated', n_jobs=None,\n",
       "             param_grid={'class_weight': ['balanced'],\n",
       "                         'criterion': ['gini', 'entropy'], 'max_depth': [2, 5],\n",
       "                         'max_features': [10, 15], 'max_leaf_nodes': [2, 5]},\n",
       "             pre_dispatch='2*n_jobs', refit=True, return_train_score=False,\n",
       "             scoring=None, verbose=0)"
      ]
     },
     "execution_count": 358,
     "metadata": {},
     "output_type": "execute_result"
    }
   ],
   "source": [
    "skf_dt = StratifiedKFold(n_splits = 5)\n",
    "\n",
    "param_grid_dt = {'criterion' : ['gini','entropy'],\n",
    "            'max_depth' : [2,5],\n",
    "            'max_features' : [10,15],\n",
    "            'max_leaf_nodes' : [2,5 ],\n",
    "            'class_weight' : ['balanced']\n",
    "              }\n",
    "\n",
    "grid_search_dt = GridSearchCV(DT_classifier,\n",
    "                         param_grid =param_grid_dt,\n",
    "                         cv=skf_dt,\n",
    "                         )\n",
    "\n",
    "grid_search_dt.fit(X_train,y_train)"
   ]
  },
  {
   "cell_type": "markdown",
   "metadata": {},
   "source": [
    "### 1.2) Assessing the results of First Iteration of Grid Search CV"
   ]
  },
  {
   "cell_type": "code",
   "execution_count": 359,
   "metadata": {},
   "outputs": [
    {
     "name": "stdout",
     "output_type": "stream",
     "text": [
      "best model:{'class_weight': 'balanced', 'criterion': 'entropy', 'max_depth': 5, 'max_features': 10, 'max_leaf_nodes': 2}\n",
      "best score: 0.7289055676943736\n"
     ]
    }
   ],
   "source": [
    "print(f'best model:{grid_search_dt.best_params_}')\n",
    "print(f'best score: {grid_search_dt.best_score_}')"
   ]
  },
  {
   "cell_type": "code",
   "execution_count": 363,
   "metadata": {},
   "outputs": [
    {
     "data": {
      "text/plain": [
       "DecisionTreeClassifier(ccp_alpha=0.0, class_weight='balanced',\n",
       "                       criterion='entropy', max_depth=5, max_features=10,\n",
       "                       max_leaf_nodes=2, min_impurity_decrease=0.0,\n",
       "                       min_impurity_split=None, min_samples_leaf=1,\n",
       "                       min_samples_split=2, min_weight_fraction_leaf=0.0,\n",
       "                       presort='deprecated', random_state=None,\n",
       "                       splitter='best')"
      ]
     },
     "execution_count": 363,
     "metadata": {},
     "output_type": "execute_result"
    }
   ],
   "source": [
    "tuned_dt = grid_search_dt.best_estimator_\n",
    "tuned_dt"
   ]
  },
  {
   "cell_type": "code",
   "execution_count": 364,
   "metadata": {},
   "outputs": [
    {
     "name": "stdout",
     "output_type": "stream",
     "text": [
      "ROC_AUC of dt best model (val) = 0.5301245047816331\n"
     ]
    }
   ],
   "source": [
    "tuned_dt_yval_predproba = grid_search_dt.predict_proba(X_val)\n",
    "print(\"ROC_AUC of dt best model (val) =\", roc_auc_score(y_val, tuned_dt_yval_predproba[:,1]))"
   ]
  },
  {
   "cell_type": "markdown",
   "metadata": {},
   "source": [
    "### 2.1) Second Iteration of Grid Search CV"
   ]
  },
  {
   "cell_type": "code",
   "execution_count": 365,
   "metadata": {},
   "outputs": [
    {
     "data": {
      "text/plain": [
       "GridSearchCV(cv=StratifiedKFold(n_splits=5, random_state=None, shuffle=False),\n",
       "             error_score=nan,\n",
       "             estimator=DecisionTreeClassifier(ccp_alpha=0.0, class_weight=None,\n",
       "                                              criterion='gini', max_depth=None,\n",
       "                                              max_features=None,\n",
       "                                              max_leaf_nodes=None,\n",
       "                                              min_impurity_decrease=0.0,\n",
       "                                              min_impurity_split=None,\n",
       "                                              min_samples_leaf=1,\n",
       "                                              min_samples_split=2,\n",
       "                                              min_weight_fraction_leaf=0.0,\n",
       "                                              presort='deprecated',\n",
       "                                              random_state=None,\n",
       "                                              splitter='best'),\n",
       "             iid='deprecated', n_jobs=None,\n",
       "             param_grid={'class_weight': ['balanced', None],\n",
       "                         'criterion': ['gini', 'entropy'],\n",
       "                         'max_depth': [2, 5, 10],\n",
       "                         'max_features': [10, 15, None],\n",
       "                         'max_leaf_nodes': [2, 3, 5]},\n",
       "             pre_dispatch='2*n_jobs', refit=True, return_train_score=False,\n",
       "             scoring=None, verbose=0)"
      ]
     },
     "execution_count": 365,
     "metadata": {},
     "output_type": "execute_result"
    }
   ],
   "source": [
    "skf_dt2 = StratifiedKFold(n_splits = 5)\n",
    "\n",
    "param_grid_dt2 = {'criterion' : ['gini','entropy'],\n",
    "            'max_depth' : [2,5,10],\n",
    "            'max_features' : [10,15, None],\n",
    "            'max_leaf_nodes' : [2,3,5 ],\n",
    "            'class_weight' : ['balanced',None]\n",
    "              }\n",
    "\n",
    "grid_search_dt2 = GridSearchCV(DT_classifier,\n",
    "                         param_grid =param_grid_dt2,\n",
    "                         cv=skf_dt2,\n",
    "                         )\n",
    "\n",
    "grid_search_dt2.fit(X_train,y_train)"
   ]
  },
  {
   "cell_type": "markdown",
   "metadata": {},
   "source": [
    "### 2.2) Assessing the results of Second Iteration of Grid Search CV"
   ]
  },
  {
   "cell_type": "code",
   "execution_count": 366,
   "metadata": {},
   "outputs": [
    {
     "name": "stdout",
     "output_type": "stream",
     "text": [
      "best model:{'class_weight': None, 'criterion': 'gini', 'max_depth': 2, 'max_features': 10, 'max_leaf_nodes': 2}\n",
      "best score: 0.757930466249889\n"
     ]
    }
   ],
   "source": [
    "print(f'best model:{grid_search_dt2.best_params_}')\n",
    "print(f'best score: {grid_search_dt2.best_score_}')"
   ]
  },
  {
   "cell_type": "code",
   "execution_count": 367,
   "metadata": {},
   "outputs": [
    {
     "data": {
      "text/plain": [
       "DecisionTreeClassifier(ccp_alpha=0.0, class_weight=None, criterion='gini',\n",
       "                       max_depth=2, max_features=10, max_leaf_nodes=2,\n",
       "                       min_impurity_decrease=0.0, min_impurity_split=None,\n",
       "                       min_samples_leaf=1, min_samples_split=2,\n",
       "                       min_weight_fraction_leaf=0.0, presort='deprecated',\n",
       "                       random_state=None, splitter='best')"
      ]
     },
     "execution_count": 367,
     "metadata": {},
     "output_type": "execute_result"
    }
   ],
   "source": [
    "tuned_dt2 = grid_search_dt2.best_estimator_\n",
    "tuned_dt2"
   ]
  },
  {
   "cell_type": "code",
   "execution_count": 368,
   "metadata": {},
   "outputs": [
    {
     "name": "stdout",
     "output_type": "stream",
     "text": [
      "ROC_AUC of dt best model (val) = 0.5224471368401782\n"
     ]
    }
   ],
   "source": [
    "tuned_dt2_yval_predproba = grid_search_dt2.predict_proba(X_val)\n",
    "print(\"ROC_AUC of dt best model (val) =\", roc_auc_score(y_val, tuned_dt2_yval_predproba[:,1]))"
   ]
  },
  {
   "cell_type": "markdown",
   "metadata": {},
   "source": [
    "# 5) Random Forest "
   ]
  },
  {
   "cell_type": "markdown",
   "metadata": {},
   "source": [
    "The next learner we will consider for our classification problem is the Random Forest Model"
   ]
  },
  {
   "cell_type": "markdown",
   "metadata": {},
   "source": [
    "## 5.1) Random Forest Model"
   ]
  },
  {
   "cell_type": "markdown",
   "metadata": {},
   "source": [
    "We will begin by fitting the Random Forest learner onto the X_train and y_train data."
   ]
  },
  {
   "cell_type": "code",
   "execution_count": 370,
   "metadata": {},
   "outputs": [
    {
     "data": {
      "text/plain": [
       "RandomForestClassifier(bootstrap=True, ccp_alpha=0.0, class_weight=None,\n",
       "                       criterion='gini', max_depth=5, max_features='auto',\n",
       "                       max_leaf_nodes=None, max_samples=None,\n",
       "                       min_impurity_decrease=0.0, min_impurity_split=None,\n",
       "                       min_samples_leaf=1, min_samples_split=2,\n",
       "                       min_weight_fraction_leaf=0.0, n_estimators=100,\n",
       "                       n_jobs=None, oob_score=False, random_state=None,\n",
       "                       verbose=0, warm_start=False)"
      ]
     },
     "execution_count": 370,
     "metadata": {},
     "output_type": "execute_result"
    }
   ],
   "source": [
    "forest = RandomForestClassifier(n_estimators=100, max_depth= 5)\n",
    "forest.fit(X_train, y_train)"
   ]
  },
  {
   "cell_type": "code",
   "execution_count": 371,
   "metadata": {},
   "outputs": [
    {
     "data": {
      "text/plain": [
       "0.7579304642965928"
      ]
     },
     "execution_count": 371,
     "metadata": {},
     "output_type": "execute_result"
    }
   ],
   "source": [
    "forest.score(X_train, y_train)"
   ]
  },
  {
   "cell_type": "code",
   "execution_count": 389,
   "metadata": {},
   "outputs": [],
   "source": [
    "forest_yval_predproba = forest.predict_proba(X_val)"
   ]
  },
  {
   "cell_type": "markdown",
   "metadata": {},
   "source": [
    "## 5.2) Grid Search CV on Random Forest Model."
   ]
  },
  {
   "cell_type": "markdown",
   "metadata": {},
   "source": [
    "### 1.1) First Iteration of Grid Search CV"
   ]
  },
  {
   "cell_type": "code",
   "execution_count": 372,
   "metadata": {},
   "outputs": [
    {
     "data": {
      "text/plain": [
       "GridSearchCV(cv=StratifiedKFold(n_splits=5, random_state=None, shuffle=False),\n",
       "             error_score=nan,\n",
       "             estimator=RandomForestClassifier(bootstrap=True, ccp_alpha=0.0,\n",
       "                                              class_weight=None,\n",
       "                                              criterion='gini', max_depth=5,\n",
       "                                              max_features='auto',\n",
       "                                              max_leaf_nodes=None,\n",
       "                                              max_samples=None,\n",
       "                                              min_impurity_decrease=0.0,\n",
       "                                              min_impurity_split=None,\n",
       "                                              min_samples_leaf=1,\n",
       "                                              min_samples_split=2,\n",
       "                                              min_weight_fraction_leaf=0.0,\n",
       "                                              n_estimators=100, n_jobs=None,\n",
       "                                              oob_score=False,\n",
       "                                              random_state=None, verbose=0,\n",
       "                                              warm_start=False),\n",
       "             iid='deprecated', n_jobs=None,\n",
       "             param_grid={'bootstrap': [True, False],\n",
       "                         'criterion': ['gini', 'entropy'],\n",
       "                         'max_depth': [2, 5, None],\n",
       "                         'min_samples_split': [2, 5, 10]},\n",
       "             pre_dispatch='2*n_jobs', refit=True, return_train_score=False,\n",
       "             scoring=None, verbose=0)"
      ]
     },
     "execution_count": 372,
     "metadata": {},
     "output_type": "execute_result"
    }
   ],
   "source": [
    "skf_rf = StratifiedKFold(n_splits = 5)\n",
    "\n",
    "param_grid_rf = {'criterion' : ['gini','entropy'],\n",
    "            'max_depth' : [2,5,None],\n",
    "            'bootstrap' :[True,False],\n",
    "            'min_samples_split': [2, 5, 10],\n",
    "              }\n",
    "\n",
    "grid_search_rf = GridSearchCV(forest,\n",
    "                         param_grid =param_grid_rf,\n",
    "                         cv=skf_rf,\n",
    "                         )\n",
    "\n",
    "grid_search_rf.fit(X_train,y_train)"
   ]
  },
  {
   "cell_type": "markdown",
   "metadata": {},
   "source": [
    "### 1.2) Assessing the results of First Iteration of Grid Search CV"
   ]
  },
  {
   "cell_type": "code",
   "execution_count": 373,
   "metadata": {},
   "outputs": [
    {
     "name": "stdout",
     "output_type": "stream",
     "text": [
      "best model:{'bootstrap': True, 'criterion': 'gini', 'max_depth': 2, 'min_samples_split': 2}\n",
      "best score: 0.757930466249889\n"
     ]
    }
   ],
   "source": [
    "print(f'best model:{grid_search_rf.best_params_}')\n",
    "print(f'best score: {grid_search_rf.best_score_}')"
   ]
  },
  {
   "cell_type": "code",
   "execution_count": 374,
   "metadata": {},
   "outputs": [
    {
     "data": {
      "text/plain": [
       "RandomForestClassifier(bootstrap=True, ccp_alpha=0.0, class_weight=None,\n",
       "                       criterion='gini', max_depth=2, max_features='auto',\n",
       "                       max_leaf_nodes=None, max_samples=None,\n",
       "                       min_impurity_decrease=0.0, min_impurity_split=None,\n",
       "                       min_samples_leaf=1, min_samples_split=2,\n",
       "                       min_weight_fraction_leaf=0.0, n_estimators=100,\n",
       "                       n_jobs=None, oob_score=False, random_state=None,\n",
       "                       verbose=0, warm_start=False)"
      ]
     },
     "execution_count": 374,
     "metadata": {},
     "output_type": "execute_result"
    }
   ],
   "source": [
    "tuned_rf = grid_search_rf.best_estimator_\n",
    "tuned_rf"
   ]
  },
  {
   "cell_type": "code",
   "execution_count": 375,
   "metadata": {},
   "outputs": [
    {
     "name": "stdout",
     "output_type": "stream",
     "text": [
      "ROC_AUC of rf best model (val) = 0.5860929385072234\n"
     ]
    }
   ],
   "source": [
    "tuned_rf_yval_predproba = grid_search_rf.predict_proba(X_val)\n",
    "print(\"ROC_AUC of rf best model (val) =\", roc_auc_score(y_val, tuned_rf_yval_predproba[:,1]))"
   ]
  },
  {
   "cell_type": "markdown",
   "metadata": {},
   "source": [
    "### 2.1) Second Iteration of Grid Search CV"
   ]
  },
  {
   "cell_type": "code",
   "execution_count": 376,
   "metadata": {},
   "outputs": [
    {
     "data": {
      "text/plain": [
       "GridSearchCV(cv=StratifiedKFold(n_splits=5, random_state=None, shuffle=False),\n",
       "             error_score=nan,\n",
       "             estimator=RandomForestClassifier(bootstrap=True, ccp_alpha=0.0,\n",
       "                                              class_weight=None,\n",
       "                                              criterion='gini', max_depth=5,\n",
       "                                              max_features='auto',\n",
       "                                              max_leaf_nodes=None,\n",
       "                                              max_samples=None,\n",
       "                                              min_impurity_decrease=0.0,\n",
       "                                              min_impurity_split=None,\n",
       "                                              min_samples_leaf=1,\n",
       "                                              min_samples_split=2,\n",
       "                                              min_weight_fraction_leaf=0.0,\n",
       "                                              n_estimators=100, n_jobs=None,\n",
       "                                              oob_score=False,\n",
       "                                              random_state=None, verbose=0,\n",
       "                                              warm_start=False),\n",
       "             iid='deprecated', n_jobs=None,\n",
       "             param_grid={'bootstrap': [True], 'criterion': ['gini', 'entropy'],\n",
       "                         'max_depth': [5, 10, 15],\n",
       "                         'min_samples_split': [5, 10, 15]},\n",
       "             pre_dispatch='2*n_jobs', refit=True, return_train_score=False,\n",
       "             scoring=None, verbose=0)"
      ]
     },
     "execution_count": 376,
     "metadata": {},
     "output_type": "execute_result"
    }
   ],
   "source": [
    "skf_rf = StratifiedKFold(n_splits = 5)\n",
    "\n",
    "param_grid_rf = {'criterion' : ['gini','entropy'],\n",
    "            'max_depth' : [5,10,15],\n",
    "            'bootstrap' :[True],\n",
    "            'min_samples_split': [5, 10,15],\n",
    "              }\n",
    "\n",
    "grid_search2_rf = GridSearchCV(forest,\n",
    "                         param_grid =param_grid_rf,\n",
    "                         cv=skf_rf,\n",
    "                         )\n",
    "\n",
    "grid_search2_rf.fit(X_train,y_train)"
   ]
  },
  {
   "cell_type": "markdown",
   "metadata": {},
   "source": [
    "### 2.2) Assessing the results of Second Iteration of Grid Search CV"
   ]
  },
  {
   "cell_type": "code",
   "execution_count": 377,
   "metadata": {},
   "outputs": [
    {
     "name": "stdout",
     "output_type": "stream",
     "text": [
      "best model:{'bootstrap': True, 'criterion': 'entropy', 'max_depth': 10, 'min_samples_split': 15}\n",
      "best score: 0.7587137276685347\n"
     ]
    }
   ],
   "source": [
    "print(f'best model:{grid_search2_rf.best_params_}')\n",
    "print(f'best score: {grid_search2_rf.best_score_}')"
   ]
  },
  {
   "cell_type": "code",
   "execution_count": 378,
   "metadata": {},
   "outputs": [
    {
     "data": {
      "text/plain": [
       "RandomForestClassifier(bootstrap=True, ccp_alpha=0.0, class_weight=None,\n",
       "                       criterion='entropy', max_depth=10, max_features='auto',\n",
       "                       max_leaf_nodes=None, max_samples=None,\n",
       "                       min_impurity_decrease=0.0, min_impurity_split=None,\n",
       "                       min_samples_leaf=1, min_samples_split=15,\n",
       "                       min_weight_fraction_leaf=0.0, n_estimators=100,\n",
       "                       n_jobs=None, oob_score=False, random_state=None,\n",
       "                       verbose=0, warm_start=False)"
      ]
     },
     "execution_count": 378,
     "metadata": {},
     "output_type": "execute_result"
    }
   ],
   "source": [
    "tuned_rf2 = grid_search2_rf.best_estimator_\n",
    "tuned_rf2"
   ]
  },
  {
   "cell_type": "code",
   "execution_count": 379,
   "metadata": {},
   "outputs": [
    {
     "name": "stdout",
     "output_type": "stream",
     "text": [
      "ROC_AUC of rf best model (val) = 0.6083996606692366\n"
     ]
    }
   ],
   "source": [
    "tuned_rf2_yval_predproba = grid_search2_rf.predict_proba(X_val)\n",
    "print(\"ROC_AUC of rf best model (val) =\", roc_auc_score(y_val, tuned_rf2_yval_predproba[:,1]))"
   ]
  },
  {
   "cell_type": "markdown",
   "metadata": {},
   "source": [
    "### 3.1) Third Iteration of Grid Search CV"
   ]
  },
  {
   "cell_type": "code",
   "execution_count": 380,
   "metadata": {},
   "outputs": [
    {
     "data": {
      "text/plain": [
       "GridSearchCV(cv=StratifiedKFold(n_splits=5, random_state=None, shuffle=False),\n",
       "             error_score=nan,\n",
       "             estimator=RandomForestClassifier(bootstrap=True, ccp_alpha=0.0,\n",
       "                                              class_weight=None,\n",
       "                                              criterion='gini', max_depth=5,\n",
       "                                              max_features='auto',\n",
       "                                              max_leaf_nodes=None,\n",
       "                                              max_samples=None,\n",
       "                                              min_impurity_decrease=0.0,\n",
       "                                              min_impurity_split=None,\n",
       "                                              min_samples_leaf=1,\n",
       "                                              min_samples_split=2,\n",
       "                                              min_weight_fraction_leaf=0.0,\n",
       "                                              n_estimators=100, n_jobs=None,\n",
       "                                              oob_score=False,\n",
       "                                              random_state=None, verbose=0,\n",
       "                                              warm_start=False),\n",
       "             iid='deprecated', n_jobs=None,\n",
       "             param_grid={'bootstrap': [True], 'criterion': ['gini', 'entropy'],\n",
       "                         'max_depth': [10, 15, 20, 30],\n",
       "                         'min_samples_split': [10, 15, 20]},\n",
       "             pre_dispatch='2*n_jobs', refit=True, return_train_score=False,\n",
       "             scoring=None, verbose=0)"
      ]
     },
     "execution_count": 380,
     "metadata": {},
     "output_type": "execute_result"
    }
   ],
   "source": [
    "skf_rf = StratifiedKFold(n_splits = 5)\n",
    "\n",
    "param_grid_rf = {'criterion' : ['gini','entropy'],\n",
    "            'max_depth' : [10,15,20,30],\n",
    "            'bootstrap' :[True],\n",
    "            'min_samples_split': [10,15,20],\n",
    "              }\n",
    "\n",
    "grid_search3_rf = GridSearchCV(forest,\n",
    "                         param_grid =param_grid_rf,\n",
    "                         cv=skf_rf,\n",
    "                         )\n",
    "\n",
    "grid_search3_rf.fit(X_train,y_train)"
   ]
  },
  {
   "cell_type": "markdown",
   "metadata": {},
   "source": [
    "### 3.2) Assessing the results of Third Iteration of Grid Search CV"
   ]
  },
  {
   "cell_type": "code",
   "execution_count": 381,
   "metadata": {},
   "outputs": [
    {
     "name": "stdout",
     "output_type": "stream",
     "text": [
      "best model:{'bootstrap': True, 'criterion': 'gini', 'max_depth': 15, 'min_samples_split': 10}\n",
      "best score: 0.7587571491075364\n"
     ]
    }
   ],
   "source": [
    "print(f'best model:{grid_search3_rf.best_params_}')\n",
    "print(f'best score: {grid_search3_rf.best_score_}')"
   ]
  },
  {
   "cell_type": "code",
   "execution_count": 382,
   "metadata": {},
   "outputs": [
    {
     "data": {
      "text/plain": [
       "RandomForestClassifier(bootstrap=True, ccp_alpha=0.0, class_weight=None,\n",
       "                       criterion='gini', max_depth=15, max_features='auto',\n",
       "                       max_leaf_nodes=None, max_samples=None,\n",
       "                       min_impurity_decrease=0.0, min_impurity_split=None,\n",
       "                       min_samples_leaf=1, min_samples_split=10,\n",
       "                       min_weight_fraction_leaf=0.0, n_estimators=100,\n",
       "                       n_jobs=None, oob_score=False, random_state=None,\n",
       "                       verbose=0, warm_start=False)"
      ]
     },
     "execution_count": 382,
     "metadata": {},
     "output_type": "execute_result"
    }
   ],
   "source": [
    "tuned_rf3 = grid_search3_rf.best_estimator_\n",
    "tuned_rf3"
   ]
  },
  {
   "cell_type": "code",
   "execution_count": 383,
   "metadata": {},
   "outputs": [
    {
     "name": "stdout",
     "output_type": "stream",
     "text": [
      "ROC_AUC of rf best model (val) = 0.6103502098403661\n"
     ]
    }
   ],
   "source": [
    "tuned_rf3_yval_predproba = grid_search3_rf.predict_proba(X_val)\n",
    "print(\"ROC_AUC of rf best model (val) =\", roc_auc_score(y_val, tuned_rf3_yval_predproba[:,1]))"
   ]
  },
  {
   "cell_type": "markdown",
   "metadata": {},
   "source": [
    "### 4.1 )Fourth Iteration of Grid Search CV"
   ]
  },
  {
   "cell_type": "code",
   "execution_count": 384,
   "metadata": {},
   "outputs": [
    {
     "data": {
      "text/plain": [
       "GridSearchCV(cv=StratifiedKFold(n_splits=5, random_state=None, shuffle=False),\n",
       "             error_score=nan,\n",
       "             estimator=RandomForestClassifier(bootstrap=True, ccp_alpha=0.0,\n",
       "                                              class_weight=None,\n",
       "                                              criterion='gini', max_depth=5,\n",
       "                                              max_features='auto',\n",
       "                                              max_leaf_nodes=None,\n",
       "                                              max_samples=None,\n",
       "                                              min_impurity_decrease=0.0,\n",
       "                                              min_impurity_split=None,\n",
       "                                              min_samples_leaf=1,\n",
       "                                              min_samples_split=2,\n",
       "                                              min...\n",
       "                                              n_estimators=100, n_jobs=None,\n",
       "                                              oob_score=False,\n",
       "                                              random_state=None, verbose=0,\n",
       "                                              warm_start=False),\n",
       "             iid='deprecated', n_jobs=None,\n",
       "             param_grid={'bootstrap': [True], 'criterion': ['gini', 'entropy'],\n",
       "                         'max_depth': [10, 15, 20, 30, 50],\n",
       "                         'min_samples_split': [30, 50, 75],\n",
       "                         'n_estimators': [100, 150]},\n",
       "             pre_dispatch='2*n_jobs', refit=True, return_train_score=False,\n",
       "             scoring=None, verbose=0)"
      ]
     },
     "execution_count": 384,
     "metadata": {},
     "output_type": "execute_result"
    }
   ],
   "source": [
    "skf_rf = StratifiedKFold(n_splits = 5)\n",
    "\n",
    "param_grid_rf = {'criterion' : ['gini','entropy'],\n",
    "            'max_depth' : [10,15,20,30,50],\n",
    "            'bootstrap' :[True],\n",
    "            'min_samples_split': [30,50, 75],\n",
    "            'n_estimators' : [100,150]     \n",
    "            \n",
    "              }\n",
    "\n",
    "grid_search4_rf = GridSearchCV(forest,\n",
    "                         param_grid =param_grid_rf,\n",
    "                         cv=skf_rf,\n",
    "                         )\n",
    "\n",
    "grid_search4_rf.fit(X_train,y_train)"
   ]
  },
  {
   "cell_type": "markdown",
   "metadata": {},
   "source": [
    "### 4.2) Assessing the results of Fourth Iteration of Grid Search CV"
   ]
  },
  {
   "cell_type": "code",
   "execution_count": 385,
   "metadata": {},
   "outputs": [
    {
     "name": "stdout",
     "output_type": "stream",
     "text": [
      "best model:{'bootstrap': True, 'criterion': 'entropy', 'max_depth': 20, 'min_samples_split': 30, 'n_estimators': 150}\n",
      "best score: 0.7588877826061686\n"
     ]
    }
   ],
   "source": [
    "print(f'best model:{grid_search4_rf.best_params_}')\n",
    "print(f'best score: {grid_search4_rf.best_score_}')"
   ]
  },
  {
   "cell_type": "code",
   "execution_count": 386,
   "metadata": {},
   "outputs": [
    {
     "data": {
      "text/plain": [
       "RandomForestClassifier(bootstrap=True, ccp_alpha=0.0, class_weight=None,\n",
       "                       criterion='entropy', max_depth=20, max_features='auto',\n",
       "                       max_leaf_nodes=None, max_samples=None,\n",
       "                       min_impurity_decrease=0.0, min_impurity_split=None,\n",
       "                       min_samples_leaf=1, min_samples_split=30,\n",
       "                       min_weight_fraction_leaf=0.0, n_estimators=150,\n",
       "                       n_jobs=None, oob_score=False, random_state=None,\n",
       "                       verbose=0, warm_start=False)"
      ]
     },
     "execution_count": 386,
     "metadata": {},
     "output_type": "execute_result"
    }
   ],
   "source": [
    "tuned_rf4 = grid_search4_rf.best_estimator_\n",
    "tuned_rf4"
   ]
  },
  {
   "cell_type": "code",
   "execution_count": 387,
   "metadata": {},
   "outputs": [
    {
     "name": "stdout",
     "output_type": "stream",
     "text": [
      "ROC_AUC of rf best model (val) = 0.6112014561689602\n"
     ]
    }
   ],
   "source": [
    "tuned_rf4_yval_predproba = grid_search4_rf.predict_proba(X_val)\n",
    "print(\"ROC_AUC of rf best model (val) =\", roc_auc_score(y_val, tuned_rf4_yval_predproba[:,1]))"
   ]
  },
  {
   "cell_type": "markdown",
   "metadata": {},
   "source": [
    "  "
   ]
  },
  {
   "cell_type": "markdown",
   "metadata": {},
   "source": [
    "## 4.3) Summary of Random Forest Modelling"
   ]
  },
  {
   "cell_type": "markdown",
   "metadata": {},
   "source": [
    "Based on the iterations we modelled using Grid Search CV, the best ROC_AUC score came from Iteration number 4. "
   ]
  },
  {
   "cell_type": "code",
   "execution_count": 391,
   "metadata": {},
   "outputs": [
    {
     "name": "stdout",
     "output_type": "stream",
     "text": [
      "ROC_AUC Scores Using Grid Search CV: \n",
      "------------------------------------ \n",
      "1: 0.5860929385072234\n",
      "2: 0.6083996606692366\n",
      "3: 0.6103502098403661\n",
      "4: 0.6112014561689602\n",
      "------------------------------------ \n",
      "Initial Model Using Random Forest\n",
      "------------------------------------ \n",
      "0.6003029321899755\n"
     ]
    }
   ],
   "source": [
    "print(\"ROC_AUC Scores Using Grid Search CV: \")\n",
    "print(\"------------------------------------ \")\n",
    "print(\"1:\", roc_auc_score(y_val, tuned_rf_yval_predproba[:,1]))\n",
    "print(\"2:\", roc_auc_score(y_val, tuned_rf2_yval_predproba[:,1]))\n",
    "print(\"3:\", roc_auc_score(y_val, tuned_rf3_yval_predproba[:,1]))\n",
    "print(\"4:\", roc_auc_score(y_val, tuned_rf4_yval_predproba[:,1]))\n",
    "print(\"------------------------------------ \")\n",
    "print(\"Initial Model Using Random Forest\")\n",
    "print(\"------------------------------------ \")\n",
    "print(roc_auc_score(y_val, forest_yval_predproba[:,1]))"
   ]
  },
  {
   "cell_type": "markdown",
   "metadata": {},
   "source": [
    "# 5) Final Model Selection"
   ]
  },
  {
   "cell_type": "markdown",
   "metadata": {},
   "source": [
    "### 5.1) Comparing the 2 best performing models"
   ]
  },
  {
   "cell_type": "markdown",
   "metadata": {},
   "source": [
    "Based on the analysis that we ran, we got the best performing ROC_AUC scores from the Logistic Regression models. For our final model, we will also consider the Accuracy scores in order to determine the best. Looking back to our ROC_AUC scores, the best performing models were iteration 1 and iteration 5."
   ]
  },
  {
   "cell_type": "code",
   "execution_count": 672,
   "metadata": {},
   "outputs": [
    {
     "name": "stdout",
     "output_type": "stream",
     "text": [
      "ROC_AUC of Iteration 1 = 0.6157248693840752\n"
     ]
    }
   ],
   "source": [
    "iteration1_predproba = log_reg_gs_model.predict_proba(X_val)\n",
    "print(\"ROC_AUC of Iteration 1 =\", roc_auc_score(y_val, iteration1_predproba[:,1]))"
   ]
  },
  {
   "cell_type": "code",
   "execution_count": 673,
   "metadata": {},
   "outputs": [
    {
     "name": "stdout",
     "output_type": "stream",
     "text": [
      "Accuracy of Iteration 1 = 0.7595614149588826\n"
     ]
    }
   ],
   "source": [
    "iteration1_pred = log_reg_gs_model.predict(X_val)\n",
    "print(\"Accuracy of Iteration 1 =\", accuracy_score(y_val, iteration1_pred))"
   ]
  },
  {
   "cell_type": "code",
   "execution_count": 674,
   "metadata": {},
   "outputs": [
    {
     "name": "stdout",
     "output_type": "stream",
     "text": [
      "ROC_AUC of Iteration 5 = 0.616101270973679\n"
     ]
    }
   ],
   "source": [
    "iteration5_predproba = log_reg_gs5_model.predict_proba(X_val)\n",
    "print(\"ROC_AUC of Iteration 5 =\", roc_auc_score(y_val, iteration5_predproba[:,1]))"
   ]
  },
  {
   "cell_type": "code",
   "execution_count": 675,
   "metadata": {},
   "outputs": [
    {
     "name": "stdout",
     "output_type": "stream",
     "text": [
      "Accuracy of Iteration 5 = 0.5632423965539747\n"
     ]
    }
   ],
   "source": [
    "iteration5_pred = log_reg_gs5_model.predict(X_val)\n",
    "print(\"Accuracy of Iteration 5 =\", accuracy_score(y_val, iteration5_pred))"
   ]
  },
  {
   "cell_type": "markdown",
   "metadata": {},
   "source": [
    "Given that Iteration 1 has a significantly better Accuracy score 76% compared to 56%, we will select Iteration 1 as our final model"
   ]
  },
  {
   "cell_type": "markdown",
   "metadata": {},
   "source": [
    "### 5.2) Interpretation of the Final Model"
   ]
  },
  {
   "cell_type": "markdown",
   "metadata": {},
   "source": [
    "This section will go about the interpretation of the final model. We will look to extract the coefficients and the feature names, and then create a dataframe with the 2 columns."
   ]
  },
  {
   "cell_type": "code",
   "execution_count": 40,
   "metadata": {},
   "outputs": [
    {
     "data": {
      "text/plain": [
       "array([[ 2.90852764,  2.57460146,  2.83219252,  2.50223834,  2.86065077,\n",
       "         0.2195793 ,  0.37560687,  0.28746796,  0.1347547 ,  0.17270384,\n",
       "         0.32159556,  0.12243634,  0.23788477,  0.17475137,  0.43832509,\n",
       "         0.35633913, -0.1615415 , -0.20499049, -0.31339575, -0.43071079,\n",
       "        -0.80724218, -0.7829645 , -0.35371446,  0.68993365,  0.53410821,\n",
       "         0.3516969 ,  0.14644036,  0.23109657, -0.88056358, -0.01223646,\n",
       "         0.05257678, -0.00785581, -0.22897873, -0.00743431, -0.0869744 ,\n",
       "        -0.00328675,  0.02414308, -0.0090083 ,  0.09355662, -0.05959291,\n",
       "        -0.06887946]])"
      ]
     },
     "execution_count": 40,
     "metadata": {},
     "output_type": "execute_result"
    }
   ],
   "source": [
    "#looking at the coefficients of the final model.\n",
    "log_reg_gs_model.coef_"
   ]
  },
  {
   "cell_type": "code",
   "execution_count": 41,
   "metadata": {},
   "outputs": [],
   "source": [
    "coefficients = list(log_reg_gs_model.coef_[0])\n",
    "features = list(X_ohe_df.columns)\n",
    "final_model = pd.DataFrame(list(zip(features, coefficients)), columns=['features', 'coefficients'])"
   ]
  },
  {
   "cell_type": "markdown",
   "metadata": {},
   "source": [
    "Now we will look to create a column with the log odds, odds and probability after assigning the value of 3 to each coefficinent."
   ]
  },
  {
   "cell_type": "code",
   "execution_count": 42,
   "metadata": {},
   "outputs": [],
   "source": [
    "intercept = log_reg_gs_model.intercept_"
   ]
  },
  {
   "cell_type": "code",
   "execution_count": 43,
   "metadata": {},
   "outputs": [],
   "source": [
    "final_model['log_odds_1'] = intercept + (final_model['coefficients'] *3)\n",
    "final_model['odds_1'] = np.exp(final_model['log_odds_1'])\n",
    "final_model['probability_1'] = final_model['odds_1'] / (1+final_model['odds_1'])"
   ]
  },
  {
   "cell_type": "markdown",
   "metadata": {},
   "source": [
    "We will look to create another column with the log odds, odds and probability after assigning the value of 4 to each coefficinent."
   ]
  },
  {
   "cell_type": "code",
   "execution_count": 44,
   "metadata": {},
   "outputs": [],
   "source": [
    "final_model['log_odds_2'] = intercept + (final_model['coefficients'] *4)\n",
    "final_model['odds_2'] = np.exp(final_model['log_odds_2'])\n",
    "final_model['probability_2'] = final_model['odds_2'] / (1+final_model['odds_2'])"
   ]
  },
  {
   "cell_type": "markdown",
   "metadata": {},
   "source": [
    "We will now calculate a column 'prob_change' which shows the difference in the probabilities when the value of the coefficient changes."
   ]
  },
  {
   "cell_type": "code",
   "execution_count": 45,
   "metadata": {},
   "outputs": [],
   "source": [
    "final_model['prob_change'] = final_model['probability_2'] - final_model['probability_1']"
   ]
  },
  {
   "cell_type": "code",
   "execution_count": 46,
   "metadata": {},
   "outputs": [
    {
     "data": {
      "text/html": [
       "<div>\n",
       "<style scoped>\n",
       "    .dataframe tbody tr th:only-of-type {\n",
       "        vertical-align: middle;\n",
       "    }\n",
       "\n",
       "    .dataframe tbody tr th {\n",
       "        vertical-align: top;\n",
       "    }\n",
       "\n",
       "    .dataframe thead th {\n",
       "        text-align: right;\n",
       "    }\n",
       "</style>\n",
       "<table border=\"1\" class=\"dataframe\">\n",
       "  <thead>\n",
       "    <tr style=\"text-align: right;\">\n",
       "      <th></th>\n",
       "      <th>features</th>\n",
       "      <th>coefficients</th>\n",
       "      <th>log_odds_1</th>\n",
       "      <th>odds_1</th>\n",
       "      <th>probability_1</th>\n",
       "      <th>log_odds_2</th>\n",
       "      <th>odds_2</th>\n",
       "      <th>probability_2</th>\n",
       "      <th>prob_change</th>\n",
       "    </tr>\n",
       "  </thead>\n",
       "  <tbody>\n",
       "    <tr>\n",
       "      <th>23</th>\n",
       "      <td>Officer_Age_Group_20-29</td>\n",
       "      <td>0.689934</td>\n",
       "      <td>-1.766313</td>\n",
       "      <td>0.170962</td>\n",
       "      <td>0.146001</td>\n",
       "      <td>-1.076380</td>\n",
       "      <td>0.340827</td>\n",
       "      <td>0.254192</td>\n",
       "      <td>0.108190</td>\n",
       "    </tr>\n",
       "    <tr>\n",
       "      <th>24</th>\n",
       "      <td>Officer_Age_Group_30-39</td>\n",
       "      <td>0.534108</td>\n",
       "      <td>-2.233790</td>\n",
       "      <td>0.107122</td>\n",
       "      <td>0.096757</td>\n",
       "      <td>-1.699681</td>\n",
       "      <td>0.182742</td>\n",
       "      <td>0.154507</td>\n",
       "      <td>0.057750</td>\n",
       "    </tr>\n",
       "    <tr>\n",
       "      <th>14</th>\n",
       "      <td>Officer_Race_Two or More Races</td>\n",
       "      <td>0.438325</td>\n",
       "      <td>-2.521139</td>\n",
       "      <td>0.080368</td>\n",
       "      <td>0.074389</td>\n",
       "      <td>-2.082814</td>\n",
       "      <td>0.124579</td>\n",
       "      <td>0.110778</td>\n",
       "      <td>0.036389</td>\n",
       "    </tr>\n",
       "    <tr>\n",
       "      <th>6</th>\n",
       "      <td>Subject_Age_Group_26 - 35</td>\n",
       "      <td>0.375607</td>\n",
       "      <td>-2.709294</td>\n",
       "      <td>0.066584</td>\n",
       "      <td>0.062427</td>\n",
       "      <td>-2.333687</td>\n",
       "      <td>0.096938</td>\n",
       "      <td>0.088371</td>\n",
       "      <td>0.025944</td>\n",
       "    </tr>\n",
       "    <tr>\n",
       "      <th>15</th>\n",
       "      <td>Officer_Race_White</td>\n",
       "      <td>0.356339</td>\n",
       "      <td>-2.767097</td>\n",
       "      <td>0.062844</td>\n",
       "      <td>0.059128</td>\n",
       "      <td>-2.410758</td>\n",
       "      <td>0.089747</td>\n",
       "      <td>0.082356</td>\n",
       "      <td>0.023228</td>\n",
       "    </tr>\n",
       "    <tr>\n",
       "      <th>3</th>\n",
       "      <td>Precinct_SouthWest</td>\n",
       "      <td>2.502238</td>\n",
       "      <td>3.670601</td>\n",
       "      <td>39.275494</td>\n",
       "      <td>0.975171</td>\n",
       "      <td>6.172839</td>\n",
       "      <td>479.545648</td>\n",
       "      <td>0.997919</td>\n",
       "      <td>0.022748</td>\n",
       "    </tr>\n",
       "    <tr>\n",
       "      <th>25</th>\n",
       "      <td>Officer_Age_Group_40-49</td>\n",
       "      <td>0.351697</td>\n",
       "      <td>-2.781024</td>\n",
       "      <td>0.061975</td>\n",
       "      <td>0.058358</td>\n",
       "      <td>-2.429327</td>\n",
       "      <td>0.088096</td>\n",
       "      <td>0.080964</td>\n",
       "      <td>0.022605</td>\n",
       "    </tr>\n",
       "    <tr>\n",
       "      <th>10</th>\n",
       "      <td>Officer_Race_Asian</td>\n",
       "      <td>0.321596</td>\n",
       "      <td>-2.871328</td>\n",
       "      <td>0.056624</td>\n",
       "      <td>0.053589</td>\n",
       "      <td>-2.549732</td>\n",
       "      <td>0.078103</td>\n",
       "      <td>0.072444</td>\n",
       "      <td>0.018855</td>\n",
       "    </tr>\n",
       "    <tr>\n",
       "      <th>1</th>\n",
       "      <td>Precinct_North</td>\n",
       "      <td>2.574601</td>\n",
       "      <td>3.887690</td>\n",
       "      <td>48.798038</td>\n",
       "      <td>0.979919</td>\n",
       "      <td>6.462292</td>\n",
       "      <td>640.527186</td>\n",
       "      <td>0.998441</td>\n",
       "      <td>0.018522</td>\n",
       "    </tr>\n",
       "    <tr>\n",
       "      <th>7</th>\n",
       "      <td>Subject_Age_Group_36 - 45</td>\n",
       "      <td>0.287468</td>\n",
       "      <td>-2.973710</td>\n",
       "      <td>0.051113</td>\n",
       "      <td>0.048628</td>\n",
       "      <td>-2.686242</td>\n",
       "      <td>0.068136</td>\n",
       "      <td>0.063790</td>\n",
       "      <td>0.015162</td>\n",
       "    </tr>\n",
       "    <tr>\n",
       "      <th>12</th>\n",
       "      <td>Officer_Race_Hispanic or Latino</td>\n",
       "      <td>0.237885</td>\n",
       "      <td>-3.122460</td>\n",
       "      <td>0.044049</td>\n",
       "      <td>0.042190</td>\n",
       "      <td>-2.884575</td>\n",
       "      <td>0.055879</td>\n",
       "      <td>0.052921</td>\n",
       "      <td>0.010731</td>\n",
       "    </tr>\n",
       "    <tr>\n",
       "      <th>27</th>\n",
       "      <td>Weapon_Type_Firearm</td>\n",
       "      <td>0.231097</td>\n",
       "      <td>-3.142825</td>\n",
       "      <td>0.043161</td>\n",
       "      <td>0.041375</td>\n",
       "      <td>-2.911728</td>\n",
       "      <td>0.054382</td>\n",
       "      <td>0.051577</td>\n",
       "      <td>0.010202</td>\n",
       "    </tr>\n",
       "    <tr>\n",
       "      <th>5</th>\n",
       "      <td>Subject_Age_Group_18 - 25</td>\n",
       "      <td>0.219579</td>\n",
       "      <td>-3.177376</td>\n",
       "      <td>0.041695</td>\n",
       "      <td>0.040026</td>\n",
       "      <td>-2.957797</td>\n",
       "      <td>0.051933</td>\n",
       "      <td>0.049369</td>\n",
       "      <td>0.009343</td>\n",
       "    </tr>\n",
       "    <tr>\n",
       "      <th>2</th>\n",
       "      <td>Precinct_South</td>\n",
       "      <td>2.832193</td>\n",
       "      <td>4.660463</td>\n",
       "      <td>105.685033</td>\n",
       "      <td>0.990627</td>\n",
       "      <td>7.492656</td>\n",
       "      <td>1794.812442</td>\n",
       "      <td>0.999443</td>\n",
       "      <td>0.008817</td>\n",
       "    </tr>\n",
       "    <tr>\n",
       "      <th>4</th>\n",
       "      <td>Precinct_West</td>\n",
       "      <td>2.860651</td>\n",
       "      <td>4.745838</td>\n",
       "      <td>115.104228</td>\n",
       "      <td>0.991387</td>\n",
       "      <td>7.606489</td>\n",
       "      <td>2011.203989</td>\n",
       "      <td>0.999503</td>\n",
       "      <td>0.008116</td>\n",
       "    </tr>\n",
       "    <tr>\n",
       "      <th>0</th>\n",
       "      <td>Precinct_East</td>\n",
       "      <td>2.908528</td>\n",
       "      <td>4.889469</td>\n",
       "      <td>132.882950</td>\n",
       "      <td>0.992531</td>\n",
       "      <td>7.797996</td>\n",
       "      <td>2435.716653</td>\n",
       "      <td>0.999590</td>\n",
       "      <td>0.007059</td>\n",
       "    </tr>\n",
       "    <tr>\n",
       "      <th>13</th>\n",
       "      <td>Officer_Race_Nat Hawaiian/Oth Pac Islander</td>\n",
       "      <td>0.174751</td>\n",
       "      <td>-3.311860</td>\n",
       "      <td>0.036448</td>\n",
       "      <td>0.035167</td>\n",
       "      <td>-3.137109</td>\n",
       "      <td>0.043408</td>\n",
       "      <td>0.041602</td>\n",
       "      <td>0.006436</td>\n",
       "    </tr>\n",
       "    <tr>\n",
       "      <th>9</th>\n",
       "      <td>Subject_Age_Group_56 and Above</td>\n",
       "      <td>0.172704</td>\n",
       "      <td>-3.318003</td>\n",
       "      <td>0.036225</td>\n",
       "      <td>0.034959</td>\n",
       "      <td>-3.145299</td>\n",
       "      <td>0.043054</td>\n",
       "      <td>0.041277</td>\n",
       "      <td>0.006318</td>\n",
       "    </tr>\n",
       "    <tr>\n",
       "      <th>26</th>\n",
       "      <td>Officer_Age_Group_50-59</td>\n",
       "      <td>0.146440</td>\n",
       "      <td>-3.396793</td>\n",
       "      <td>0.033480</td>\n",
       "      <td>0.032396</td>\n",
       "      <td>-3.250353</td>\n",
       "      <td>0.038761</td>\n",
       "      <td>0.037314</td>\n",
       "      <td>0.004918</td>\n",
       "    </tr>\n",
       "    <tr>\n",
       "      <th>8</th>\n",
       "      <td>Subject_Age_Group_46 - 55</td>\n",
       "      <td>0.134755</td>\n",
       "      <td>-3.431850</td>\n",
       "      <td>0.032327</td>\n",
       "      <td>0.031315</td>\n",
       "      <td>-3.297095</td>\n",
       "      <td>0.036990</td>\n",
       "      <td>0.035671</td>\n",
       "      <td>0.004356</td>\n",
       "    </tr>\n",
       "    <tr>\n",
       "      <th>11</th>\n",
       "      <td>Officer_Race_Black or African American</td>\n",
       "      <td>0.122436</td>\n",
       "      <td>-3.468805</td>\n",
       "      <td>0.031154</td>\n",
       "      <td>0.030213</td>\n",
       "      <td>-3.346369</td>\n",
       "      <td>0.035212</td>\n",
       "      <td>0.034014</td>\n",
       "      <td>0.003801</td>\n",
       "    </tr>\n",
       "    <tr>\n",
       "      <th>38</th>\n",
       "      <td>Month_10</td>\n",
       "      <td>0.093557</td>\n",
       "      <td>-3.555444</td>\n",
       "      <td>0.028569</td>\n",
       "      <td>0.027775</td>\n",
       "      <td>-3.461888</td>\n",
       "      <td>0.031370</td>\n",
       "      <td>0.030416</td>\n",
       "      <td>0.002641</td>\n",
       "    </tr>\n",
       "    <tr>\n",
       "      <th>30</th>\n",
       "      <td>Month_2</td>\n",
       "      <td>0.052577</td>\n",
       "      <td>-3.678384</td>\n",
       "      <td>0.025264</td>\n",
       "      <td>0.024641</td>\n",
       "      <td>-3.625807</td>\n",
       "      <td>0.026628</td>\n",
       "      <td>0.025937</td>\n",
       "      <td>0.001296</td>\n",
       "    </tr>\n",
       "    <tr>\n",
       "      <th>36</th>\n",
       "      <td>Month_8</td>\n",
       "      <td>0.024143</td>\n",
       "      <td>-3.763685</td>\n",
       "      <td>0.023198</td>\n",
       "      <td>0.022672</td>\n",
       "      <td>-3.739542</td>\n",
       "      <td>0.023765</td>\n",
       "      <td>0.023213</td>\n",
       "      <td>0.000541</td>\n",
       "    </tr>\n",
       "    <tr>\n",
       "      <th>35</th>\n",
       "      <td>Month_7</td>\n",
       "      <td>-0.003287</td>\n",
       "      <td>-3.845975</td>\n",
       "      <td>0.021366</td>\n",
       "      <td>0.020919</td>\n",
       "      <td>-3.849261</td>\n",
       "      <td>0.021295</td>\n",
       "      <td>0.020851</td>\n",
       "      <td>-0.000067</td>\n",
       "    </tr>\n",
       "    <tr>\n",
       "      <th>33</th>\n",
       "      <td>Month_5</td>\n",
       "      <td>-0.007434</td>\n",
       "      <td>-3.858417</td>\n",
       "      <td>0.021101</td>\n",
       "      <td>0.020665</td>\n",
       "      <td>-3.865852</td>\n",
       "      <td>0.020945</td>\n",
       "      <td>0.020515</td>\n",
       "      <td>-0.000150</td>\n",
       "    </tr>\n",
       "    <tr>\n",
       "      <th>31</th>\n",
       "      <td>Month_3</td>\n",
       "      <td>-0.007856</td>\n",
       "      <td>-3.859682</td>\n",
       "      <td>0.021075</td>\n",
       "      <td>0.020640</td>\n",
       "      <td>-3.867538</td>\n",
       "      <td>0.020910</td>\n",
       "      <td>0.020482</td>\n",
       "      <td>-0.000158</td>\n",
       "    </tr>\n",
       "    <tr>\n",
       "      <th>37</th>\n",
       "      <td>Month_9</td>\n",
       "      <td>-0.009008</td>\n",
       "      <td>-3.863139</td>\n",
       "      <td>0.021002</td>\n",
       "      <td>0.020570</td>\n",
       "      <td>-3.872147</td>\n",
       "      <td>0.020814</td>\n",
       "      <td>0.020389</td>\n",
       "      <td>-0.000181</td>\n",
       "    </tr>\n",
       "    <tr>\n",
       "      <th>29</th>\n",
       "      <td>Weapon_Type_Stabbing Instrument</td>\n",
       "      <td>-0.012236</td>\n",
       "      <td>-3.872824</td>\n",
       "      <td>0.020800</td>\n",
       "      <td>0.020376</td>\n",
       "      <td>-3.885060</td>\n",
       "      <td>0.020547</td>\n",
       "      <td>0.020133</td>\n",
       "      <td>-0.000243</td>\n",
       "    </tr>\n",
       "    <tr>\n",
       "      <th>28</th>\n",
       "      <td>Weapon_Type_None</td>\n",
       "      <td>-0.880564</td>\n",
       "      <td>-6.477805</td>\n",
       "      <td>0.001537</td>\n",
       "      <td>0.001535</td>\n",
       "      <td>-7.358369</td>\n",
       "      <td>0.000637</td>\n",
       "      <td>0.000637</td>\n",
       "      <td>-0.000898</td>\n",
       "    </tr>\n",
       "    <tr>\n",
       "      <th>39</th>\n",
       "      <td>Month_11</td>\n",
       "      <td>-0.059593</td>\n",
       "      <td>-4.014893</td>\n",
       "      <td>0.018045</td>\n",
       "      <td>0.017725</td>\n",
       "      <td>-4.074486</td>\n",
       "      <td>0.017001</td>\n",
       "      <td>0.016717</td>\n",
       "      <td>-0.001008</td>\n",
       "    </tr>\n",
       "    <tr>\n",
       "      <th>20</th>\n",
       "      <td>Subject_Perceived_Race_Native Hawaiian or Othe...</td>\n",
       "      <td>-0.807242</td>\n",
       "      <td>-6.257841</td>\n",
       "      <td>0.001915</td>\n",
       "      <td>0.001912</td>\n",
       "      <td>-7.065083</td>\n",
       "      <td>0.000854</td>\n",
       "      <td>0.000854</td>\n",
       "      <td>-0.001058</td>\n",
       "    </tr>\n",
       "    <tr>\n",
       "      <th>21</th>\n",
       "      <td>Subject_Perceived_Race_Other</td>\n",
       "      <td>-0.782964</td>\n",
       "      <td>-6.185008</td>\n",
       "      <td>0.002060</td>\n",
       "      <td>0.002056</td>\n",
       "      <td>-6.967972</td>\n",
       "      <td>0.000942</td>\n",
       "      <td>0.000941</td>\n",
       "      <td>-0.001115</td>\n",
       "    </tr>\n",
       "    <tr>\n",
       "      <th>40</th>\n",
       "      <td>Month_12</td>\n",
       "      <td>-0.068879</td>\n",
       "      <td>-4.042753</td>\n",
       "      <td>0.017549</td>\n",
       "      <td>0.017246</td>\n",
       "      <td>-4.111632</td>\n",
       "      <td>0.016381</td>\n",
       "      <td>0.016117</td>\n",
       "      <td>-0.001129</td>\n",
       "    </tr>\n",
       "    <tr>\n",
       "      <th>34</th>\n",
       "      <td>Month_6</td>\n",
       "      <td>-0.086974</td>\n",
       "      <td>-4.097037</td>\n",
       "      <td>0.016622</td>\n",
       "      <td>0.016350</td>\n",
       "      <td>-4.184012</td>\n",
       "      <td>0.015237</td>\n",
       "      <td>0.015009</td>\n",
       "      <td>-0.001342</td>\n",
       "    </tr>\n",
       "    <tr>\n",
       "      <th>16</th>\n",
       "      <td>Subject_Perceived_Race_Asian</td>\n",
       "      <td>-0.161542</td>\n",
       "      <td>-4.320739</td>\n",
       "      <td>0.013290</td>\n",
       "      <td>0.013116</td>\n",
       "      <td>-4.482280</td>\n",
       "      <td>0.011308</td>\n",
       "      <td>0.011181</td>\n",
       "      <td>-0.001935</td>\n",
       "    </tr>\n",
       "    <tr>\n",
       "      <th>19</th>\n",
       "      <td>Subject_Perceived_Race_Multi-Racial</td>\n",
       "      <td>-0.430711</td>\n",
       "      <td>-5.128247</td>\n",
       "      <td>0.005927</td>\n",
       "      <td>0.005892</td>\n",
       "      <td>-5.558957</td>\n",
       "      <td>0.003853</td>\n",
       "      <td>0.003838</td>\n",
       "      <td>-0.002054</td>\n",
       "    </tr>\n",
       "    <tr>\n",
       "      <th>17</th>\n",
       "      <td>Subject_Perceived_Race_Black or African American</td>\n",
       "      <td>-0.204990</td>\n",
       "      <td>-4.451086</td>\n",
       "      <td>0.011666</td>\n",
       "      <td>0.011531</td>\n",
       "      <td>-4.656076</td>\n",
       "      <td>0.009504</td>\n",
       "      <td>0.009414</td>\n",
       "      <td>-0.002117</td>\n",
       "    </tr>\n",
       "    <tr>\n",
       "      <th>32</th>\n",
       "      <td>Month_4</td>\n",
       "      <td>-0.228979</td>\n",
       "      <td>-4.523050</td>\n",
       "      <td>0.010856</td>\n",
       "      <td>0.010739</td>\n",
       "      <td>-4.752029</td>\n",
       "      <td>0.008634</td>\n",
       "      <td>0.008560</td>\n",
       "      <td>-0.002179</td>\n",
       "    </tr>\n",
       "    <tr>\n",
       "      <th>22</th>\n",
       "      <td>Subject_Perceived_Race_White</td>\n",
       "      <td>-0.353714</td>\n",
       "      <td>-4.897258</td>\n",
       "      <td>0.007467</td>\n",
       "      <td>0.007412</td>\n",
       "      <td>-5.250972</td>\n",
       "      <td>0.005242</td>\n",
       "      <td>0.005215</td>\n",
       "      <td>-0.002197</td>\n",
       "    </tr>\n",
       "    <tr>\n",
       "      <th>18</th>\n",
       "      <td>Subject_Perceived_Race_Hispanic</td>\n",
       "      <td>-0.313396</td>\n",
       "      <td>-4.776302</td>\n",
       "      <td>0.008427</td>\n",
       "      <td>0.008357</td>\n",
       "      <td>-5.089697</td>\n",
       "      <td>0.006160</td>\n",
       "      <td>0.006122</td>\n",
       "      <td>-0.002235</td>\n",
       "    </tr>\n",
       "  </tbody>\n",
       "</table>\n",
       "</div>"
      ],
      "text/plain": [
       "                                             features  coefficients  \\\n",
       "23                            Officer_Age_Group_20-29      0.689934   \n",
       "24                            Officer_Age_Group_30-39      0.534108   \n",
       "14                     Officer_Race_Two or More Races      0.438325   \n",
       "6                           Subject_Age_Group_26 - 35      0.375607   \n",
       "15                                 Officer_Race_White      0.356339   \n",
       "3                                  Precinct_SouthWest      2.502238   \n",
       "25                            Officer_Age_Group_40-49      0.351697   \n",
       "10                                 Officer_Race_Asian      0.321596   \n",
       "1                                      Precinct_North      2.574601   \n",
       "7                           Subject_Age_Group_36 - 45      0.287468   \n",
       "12                    Officer_Race_Hispanic or Latino      0.237885   \n",
       "27                                Weapon_Type_Firearm      0.231097   \n",
       "5                           Subject_Age_Group_18 - 25      0.219579   \n",
       "2                                      Precinct_South      2.832193   \n",
       "4                                       Precinct_West      2.860651   \n",
       "0                                       Precinct_East      2.908528   \n",
       "13         Officer_Race_Nat Hawaiian/Oth Pac Islander      0.174751   \n",
       "9                      Subject_Age_Group_56 and Above      0.172704   \n",
       "26                            Officer_Age_Group_50-59      0.146440   \n",
       "8                           Subject_Age_Group_46 - 55      0.134755   \n",
       "11             Officer_Race_Black or African American      0.122436   \n",
       "38                                           Month_10      0.093557   \n",
       "30                                            Month_2      0.052577   \n",
       "36                                            Month_8      0.024143   \n",
       "35                                            Month_7     -0.003287   \n",
       "33                                            Month_5     -0.007434   \n",
       "31                                            Month_3     -0.007856   \n",
       "37                                            Month_9     -0.009008   \n",
       "29                    Weapon_Type_Stabbing Instrument     -0.012236   \n",
       "28                                   Weapon_Type_None     -0.880564   \n",
       "39                                           Month_11     -0.059593   \n",
       "20  Subject_Perceived_Race_Native Hawaiian or Othe...     -0.807242   \n",
       "21                       Subject_Perceived_Race_Other     -0.782964   \n",
       "40                                           Month_12     -0.068879   \n",
       "34                                            Month_6     -0.086974   \n",
       "16                       Subject_Perceived_Race_Asian     -0.161542   \n",
       "19                Subject_Perceived_Race_Multi-Racial     -0.430711   \n",
       "17   Subject_Perceived_Race_Black or African American     -0.204990   \n",
       "32                                            Month_4     -0.228979   \n",
       "22                       Subject_Perceived_Race_White     -0.353714   \n",
       "18                    Subject_Perceived_Race_Hispanic     -0.313396   \n",
       "\n",
       "    log_odds_1      odds_1  probability_1  log_odds_2       odds_2  \\\n",
       "23   -1.766313    0.170962       0.146001   -1.076380     0.340827   \n",
       "24   -2.233790    0.107122       0.096757   -1.699681     0.182742   \n",
       "14   -2.521139    0.080368       0.074389   -2.082814     0.124579   \n",
       "6    -2.709294    0.066584       0.062427   -2.333687     0.096938   \n",
       "15   -2.767097    0.062844       0.059128   -2.410758     0.089747   \n",
       "3     3.670601   39.275494       0.975171    6.172839   479.545648   \n",
       "25   -2.781024    0.061975       0.058358   -2.429327     0.088096   \n",
       "10   -2.871328    0.056624       0.053589   -2.549732     0.078103   \n",
       "1     3.887690   48.798038       0.979919    6.462292   640.527186   \n",
       "7    -2.973710    0.051113       0.048628   -2.686242     0.068136   \n",
       "12   -3.122460    0.044049       0.042190   -2.884575     0.055879   \n",
       "27   -3.142825    0.043161       0.041375   -2.911728     0.054382   \n",
       "5    -3.177376    0.041695       0.040026   -2.957797     0.051933   \n",
       "2     4.660463  105.685033       0.990627    7.492656  1794.812442   \n",
       "4     4.745838  115.104228       0.991387    7.606489  2011.203989   \n",
       "0     4.889469  132.882950       0.992531    7.797996  2435.716653   \n",
       "13   -3.311860    0.036448       0.035167   -3.137109     0.043408   \n",
       "9    -3.318003    0.036225       0.034959   -3.145299     0.043054   \n",
       "26   -3.396793    0.033480       0.032396   -3.250353     0.038761   \n",
       "8    -3.431850    0.032327       0.031315   -3.297095     0.036990   \n",
       "11   -3.468805    0.031154       0.030213   -3.346369     0.035212   \n",
       "38   -3.555444    0.028569       0.027775   -3.461888     0.031370   \n",
       "30   -3.678384    0.025264       0.024641   -3.625807     0.026628   \n",
       "36   -3.763685    0.023198       0.022672   -3.739542     0.023765   \n",
       "35   -3.845975    0.021366       0.020919   -3.849261     0.021295   \n",
       "33   -3.858417    0.021101       0.020665   -3.865852     0.020945   \n",
       "31   -3.859682    0.021075       0.020640   -3.867538     0.020910   \n",
       "37   -3.863139    0.021002       0.020570   -3.872147     0.020814   \n",
       "29   -3.872824    0.020800       0.020376   -3.885060     0.020547   \n",
       "28   -6.477805    0.001537       0.001535   -7.358369     0.000637   \n",
       "39   -4.014893    0.018045       0.017725   -4.074486     0.017001   \n",
       "20   -6.257841    0.001915       0.001912   -7.065083     0.000854   \n",
       "21   -6.185008    0.002060       0.002056   -6.967972     0.000942   \n",
       "40   -4.042753    0.017549       0.017246   -4.111632     0.016381   \n",
       "34   -4.097037    0.016622       0.016350   -4.184012     0.015237   \n",
       "16   -4.320739    0.013290       0.013116   -4.482280     0.011308   \n",
       "19   -5.128247    0.005927       0.005892   -5.558957     0.003853   \n",
       "17   -4.451086    0.011666       0.011531   -4.656076     0.009504   \n",
       "32   -4.523050    0.010856       0.010739   -4.752029     0.008634   \n",
       "22   -4.897258    0.007467       0.007412   -5.250972     0.005242   \n",
       "18   -4.776302    0.008427       0.008357   -5.089697     0.006160   \n",
       "\n",
       "    probability_2  prob_change  \n",
       "23       0.254192     0.108190  \n",
       "24       0.154507     0.057750  \n",
       "14       0.110778     0.036389  \n",
       "6        0.088371     0.025944  \n",
       "15       0.082356     0.023228  \n",
       "3        0.997919     0.022748  \n",
       "25       0.080964     0.022605  \n",
       "10       0.072444     0.018855  \n",
       "1        0.998441     0.018522  \n",
       "7        0.063790     0.015162  \n",
       "12       0.052921     0.010731  \n",
       "27       0.051577     0.010202  \n",
       "5        0.049369     0.009343  \n",
       "2        0.999443     0.008817  \n",
       "4        0.999503     0.008116  \n",
       "0        0.999590     0.007059  \n",
       "13       0.041602     0.006436  \n",
       "9        0.041277     0.006318  \n",
       "26       0.037314     0.004918  \n",
       "8        0.035671     0.004356  \n",
       "11       0.034014     0.003801  \n",
       "38       0.030416     0.002641  \n",
       "30       0.025937     0.001296  \n",
       "36       0.023213     0.000541  \n",
       "35       0.020851    -0.000067  \n",
       "33       0.020515    -0.000150  \n",
       "31       0.020482    -0.000158  \n",
       "37       0.020389    -0.000181  \n",
       "29       0.020133    -0.000243  \n",
       "28       0.000637    -0.000898  \n",
       "39       0.016717    -0.001008  \n",
       "20       0.000854    -0.001058  \n",
       "21       0.000941    -0.001115  \n",
       "40       0.016117    -0.001129  \n",
       "34       0.015009    -0.001342  \n",
       "16       0.011181    -0.001935  \n",
       "19       0.003838    -0.002054  \n",
       "17       0.009414    -0.002117  \n",
       "32       0.008560    -0.002179  \n",
       "22       0.005215    -0.002197  \n",
       "18       0.006122    -0.002235  "
      ]
     },
     "execution_count": 46,
     "metadata": {},
     "output_type": "execute_result"
    }
   ],
   "source": [
    "final_model.sort_values(by='prob_change', ascending=False)"
   ]
  },
  {
   "cell_type": "markdown",
   "metadata": {},
   "source": [
    "Based on the table above, it can be interpretted that the biggest determining factor of being arrested at a Terry Stop is the age group of the Officer. \n",
    "\n",
    "It appears that the younger the Officer, the higher the probability of being arrested, with the Officer Age group 20-29 entailing a 11% increased probability of being arrested.\n",
    "\n",
    "In addition to that, it appears that location in Seattle also plays a factor in determining whether you are arrested or not, with the South West Precinct having a 2.3% increase probability of being arrested.\n",
    "\n",
    "Finally, it also appears that the Officer's Race also plays a factor interms of probability of being arrested, with Mixed Race officers having an increased probability of 3.6% White officers having an increased probability of 2.3%"
   ]
  },
  {
   "cell_type": "markdown",
   "metadata": {},
   "source": [
    "# 6) Threshold Selection"
   ]
  },
  {
   "cell_type": "markdown",
   "metadata": {},
   "source": [
    "This section will look at selecting the appropriate Threshold level to apply to our model."
   ]
  },
  {
   "cell_type": "markdown",
   "metadata": {},
   "source": [
    "Between 2008 to 2017 the number of Felony arrests was 11,497 while Midemeanor arrests was 21,400 giving us a total arrests of 32,897 per 100,000 population in this period. This works out to an average of 3,655 arrests per year per 100,000 population. \n",
    "Based on this, we can quantify the prevalence of arrests in Seattle as 3.7%. \n"
   ]
  },
  {
   "cell_type": "markdown",
   "metadata": {},
   "source": [
    "USD 15 billion in economic losses to the victims and USD 179 billion in government expenditures on police protection, judicial and legal activities, and corrections.\n",
    "\n",
    "USA population size in 2007 was at 301.2 million. Seattle population size in 2007 was 593,000\n",
    "\n",
    "Based on this per capita costs are as follows:\n",
    "\n",
    "Economic Losses: 15,000,000,000 / 301,200,000 = USD 49\n",
    "Government Expenditure: 179,000,000,000 / 301,200,000 = USD 594\n",
    "\n",
    "Taking the prevalence of arrests in Seattle, and applying it to the US, it would mean that 301,200,000 * 3.6% = 10,843,200 people are arrested in the US every year.\n",
    "\n",
    "This would mean the economic cost of each individual who is arrested works out to an economic gain of 15,000,000,000 / 10,843,200 = USD 1,382.\n",
    "\n",
    "The values in the confusion matrix is defined as follows:\n",
    "\n",
    "True Positive (TP) - Actual value yes, predicted value yes.\n",
    "\n",
    "True Negatives (TN) - Actual value no, predicted value no.\n",
    "\n",
    "False Positive (FP) - Actual value no, predicted value yes.\n",
    "\n",
    "False Negative (FN) - Actual value yes, predicted value no.\n",
    "\n",
    "Applying this to our Binary Classification problem, we are able to set it out as follows.\n",
    "\n",
    "True Positive - Individual correctly arrested.\n",
    "\n",
    "True Negative - No arrests made, as individual did not warrant an arrested.\n",
    "\n",
    "False Positive - Arrested someone who should not have been arrested.\n",
    "\n",
    "False Negative - Individual who should have been arrested was not arrested.\n",
    "\n",
    "Using this, we can assign the following costs to each metric of the confusion matrix.\n",
    "\n",
    "True Positive Cost (TPc) = -1383 + 49\n",
    "\n",
    "True Negative Cost (TNc) = 0 \n",
    "\n",
    "False Positive Cost (FPc) = 49 \n",
    "\n",
    "False Negative Cost (FNc) = 1383\n",
    "\n",
    "References-\n",
    "https://www.ncbi.nlm.nih.gov/pmc/articles/PMC2si835847/\n",
    "https://datacollaborativeforjustice.org/wp-content/uploads/2018/10/Trends_in_Misdemeanors_Seattle.pdf"
   ]
  },
  {
   "cell_type": "code",
   "execution_count": 6,
   "metadata": {},
   "outputs": [],
   "source": [
    "TPc = -1383 + 49\n",
    "TNc = 0 \n",
    "FPc = 49 \n",
    "FNc = 1383"
   ]
  },
  {
   "cell_type": "markdown",
   "metadata": {},
   "source": [
    "Assigning the value of prevalence."
   ]
  },
  {
   "cell_type": "code",
   "execution_count": 7,
   "metadata": {},
   "outputs": [],
   "source": [
    "prevalence = 0.037"
   ]
  },
  {
   "cell_type": "code",
   "execution_count": 8,
   "metadata": {},
   "outputs": [
    {
     "data": {
      "text/plain": [
       "0.0180345969819654"
      ]
     },
     "execution_count": 8,
     "metadata": {},
     "output_type": "execute_result"
    }
   ],
   "source": [
    "((FPc-TNc)/(FNc-TPc))"
   ]
  },
  {
   "cell_type": "markdown",
   "metadata": {},
   "source": [
    "Calculating the m value"
   ]
  },
  {
   "cell_type": "code",
   "execution_count": 9,
   "metadata": {},
   "outputs": [
    {
     "data": {
      "text/plain": [
       "0.4693869430711536"
      ]
     },
     "execution_count": 9,
     "metadata": {},
     "output_type": "execute_result"
    }
   ],
   "source": [
    "m = ((1-prevalence)/prevalence) * ((FPc-TNc)/(FNc-TPc))\n",
    "m"
   ]
  },
  {
   "cell_type": "markdown",
   "metadata": {},
   "source": [
    "Now that we have our m value, we can calculate the threshold level based on this."
   ]
  },
  {
   "cell_type": "code",
   "execution_count": 48,
   "metadata": {},
   "outputs": [],
   "source": [
    "probs_test = log_reg_gs_model.predict_proba(X_test)[:,1]\n",
    "fpr_test, tpr_test, thresholds_test = roc_curve(y_test, probs_test)"
   ]
  },
  {
   "cell_type": "code",
   "execution_count": 49,
   "metadata": {},
   "outputs": [],
   "source": [
    "fm_list = tpr_test-(m*fpr_test)\n",
    "threshold_list = list(zip(fm_list.tolist(), thresholds_test.tolist()))"
   ]
  },
  {
   "cell_type": "code",
   "execution_count": 50,
   "metadata": {},
   "outputs": [],
   "source": [
    "sorted_by = sorted(threshold_list, key=lambda tup: tup[0], reverse=True )"
   ]
  },
  {
   "cell_type": "markdown",
   "metadata": {},
   "source": [
    "We will need to take the thershold value corresponding to the highest fm value."
   ]
  },
  {
   "cell_type": "code",
   "execution_count": 51,
   "metadata": {},
   "outputs": [
    {
     "name": "stdout",
     "output_type": "stream",
     "text": [
      "(0.5459372550592481, 0.10501160954519793)\n",
      "(0.0, 1.6581277294424384)\n"
     ]
    }
   ],
   "source": [
    "print(sorted_by[0])\n",
    "print(sorted_by[-1])"
   ]
  },
  {
   "cell_type": "markdown",
   "metadata": {},
   "source": [
    "We will select the threshold of 0.11 as the fm value is highest here (0.55)"
   ]
  },
  {
   "cell_type": "markdown",
   "metadata": {},
   "source": [
    "We will now create an empty list and run a for loop over the test data predict_proba values and assign the 1 and 0 values to the empty list"
   ]
  },
  {
   "cell_type": "code",
   "execution_count": 52,
   "metadata": {},
   "outputs": [],
   "source": [
    "empty_list =[]\n",
    "for x in probs_test:\n",
    "    if x > 0.11:\n",
    "        empty_list.append(1)\n",
    "    else:\n",
    "        empty_list.append(0)"
   ]
  },
  {
   "cell_type": "markdown",
   "metadata": {},
   "source": [
    "Based on the threshold selection of 0.11, we are getting the following confusion matrix"
   ]
  },
  {
   "cell_type": "code",
   "execution_count": 56,
   "metadata": {},
   "outputs": [
    {
     "data": {
      "text/plain": [
       "array([[ 346, 7412],\n",
       "       [  15, 2442]])"
      ]
     },
     "execution_count": 56,
     "metadata": {},
     "output_type": "execute_result"
    }
   ],
   "source": [
    "confusion_matrix(y_test, empty_list)"
   ]
  },
  {
   "cell_type": "code",
   "execution_count": 61,
   "metadata": {},
   "outputs": [
    {
     "name": "stdout",
     "output_type": "stream",
     "text": [
      "Confusion Matrix:\n",
      " [[ 346 7412]\n",
      " [  15 2442]]\n"
     ]
    }
   ],
   "source": [
    "cnf_matrix = confusion_matrix(y_test, empty_list)\n",
    "print('Confusion Matrix:\\n', cnf_matrix)"
   ]
  },
  {
   "cell_type": "code",
   "execution_count": 62,
   "metadata": {},
   "outputs": [
    {
     "data": {
      "image/png": "[encoded data removed]",
      "text/plain": [
       "<Figure size 432x288 with 2 Axes>"
      ]
     },
     "metadata": {
      "needs_background": "light"
     },
     "output_type": "display_data"
    }
   ],
   "source": [
    "plt.imshow(cnf_matrix,  cmap=plt.cm.Blues) \n",
    "plt.title('Confusion Matrix')\n",
    "plt.ylabel('True label')\n",
    "plt.xlabel('Predicted label')\n",
    "class_names = set(y) \n",
    "tick_marks = np.arange(len(class_names))\n",
    "plt.xticks(tick_marks, class_names, rotation=45)\n",
    "plt.yticks(tick_marks, class_names)\n",
    "thresh = cnf_matrix.max() \n",
    "for i, j in itertools.product(range(cnf_matrix.shape[0]), range(cnf_matrix.shape[1])):\n",
    "        plt.text(j, i, cnf_matrix[i, j],\n",
    "                 horizontalalignment='center',\n",
    "                 color='white' if cnf_matrix[i, j] > thresh else 'black')\n",
    "plt.colorbar()\n",
    "plt.show()"
   ]
  },
  {
   "cell_type": "markdown",
   "metadata": {},
   "source": [
    "Interpretting the metrics from the confusion matrix"
   ]
  },
  {
   "cell_type": "code",
   "execution_count": 65,
   "metadata": {},
   "outputs": [
    {
     "data": {
      "text/plain": [
       "0.9554008765145656"
      ]
     },
     "execution_count": 65,
     "metadata": {},
     "output_type": "execute_result"
    }
   ],
   "source": [
    "alpha = 7412 / (7412 + 346)"
   ]
  },
  {
   "cell_type": "code",
   "execution_count": 66,
   "metadata": {},
   "outputs": [
    {
     "data": {
      "text/plain": [
       "0.9938949938949939"
      ]
     },
     "execution_count": 66,
     "metadata": {},
     "output_type": "execute_result"
    }
   ],
   "source": [
    "power = 2442 / (2442 + 15)\n",
    "power"
   ]
  },
  {
   "cell_type": "code",
   "execution_count": 69,
   "metadata": {},
   "outputs": [
    {
     "name": "stdout",
     "output_type": "stream",
     "text": [
      "Testing Precision:  0.24781814491577026\n",
      "Testing Recall:  0.9938949938949939\n",
      "Testing Accuracy:  0.2729319627998042\n",
      "Testing Power:  0.9938949938949939\n",
      "Testing Alpha:  0.9554008765145656\n"
     ]
    }
   ],
   "source": [
    "print('Testing Precision: ', precision_score(y_test, empty_list))\n",
    "print('Testing Recall: ', recall_score(y_test, empty_list))\n",
    "print('Testing Accuracy: ', accuracy_score(y_test, empty_list))\n",
    "print('Testing Power: ', power)\n",
    "print('Testing Alpha: ', alpha)"
   ]
  },
  {
   "cell_type": "markdown",
   "metadata": {},
   "source": [
    "Alpha shows our model arresting someone when they actually should not have been arrested.\n",
    "Power measures our model's ability to predict whether or not someone should be arrested.\n",
    "Accuracy shows how often the model is correct. Here it is correct around 27% of the time.\n",
    "Precision shows when the model is correct, how often it is correct, Here it is 25% of the time.\n",
    "Recall shows when the actual even is yes, how often does it predict it is a yes, Over here it is 99% of the time.\n"
   ]
  },
  {
   "cell_type": "markdown",
   "metadata": {},
   "source": [
    "# Summary and Conclusions"
   ]
  },
  {
   "cell_type": "markdown",
   "metadata": {},
   "source": [
    "Based on the metrics from our confusion matrix, it is clear that more considerations need to be taken when selecting the threshold level. We cannot make our threshold selection based on the cost of crime and the amount spent on policing alone, as this would lead to increased number of arrests.\n",
    "\n",
    "It could be inffered that this is what is actually being considered when making arrests and it could account for the high incarceration rates in the United States.\n",
    "\n",
    "We would need to assess the economic benefit of low crime on society, and not just the loss based on crime taking place. Economic benefit would include the arrested individual's families, and the impact on them from being arrested. Moreover, we would need to work out the economic and social cost due to false arrests. Once we are able to quantify this, and also pick a more balanced threshold based on this, we would be able to create a much more accurate model."
   ]
  },
  {
   "cell_type": "code",
   "execution_count": null,
   "metadata": {},
   "outputs": [],
   "source": []
  }
 ],
 "metadata": {
  "kernelspec": {
   "display_name": "Python 3",
   "language": "python",
   "name": "python3"
  },
  "language_info": {
   "codemirror_mode": {
    "name": "ipython",
    "version": 3
   },
   "file_extension": ".py",
   "mimetype": "text/x-python",
   "name": "python",
   "nbconvert_exporter": "python",
   "pygments_lexer": "ipython3",
   "version": "3.7.3"
  }
 },
 "nbformat": 4,
 "nbformat_minor": 4
}
